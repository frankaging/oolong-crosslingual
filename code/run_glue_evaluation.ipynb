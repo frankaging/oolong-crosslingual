{
 "cells": [
  {
   "cell_type": "code",
   "execution_count": null,
   "metadata": {},
   "outputs": [],
   "source": [
    "from glob import glob\n",
    "import os"
   ]
  },
  {
   "cell_type": "code",
   "execution_count": null,
   "metadata": {},
   "outputs": [],
   "source": [
    "eval_method = \"do_eval\"\n",
    "for path in glob(\"../finetuned_models/*/\"):\n",
    "    print(f\"generating results for path at: {path}\")\n",
    "    if \"mnli\" in path or \"qqp\" in path:\n",
    "        cmd = f\"CUDA_VISIBLE_DEVICES=9 python run_glue.py \\\n",
    "              --model_name_or_path {path} \\\n",
    "              --{eval_method} --per_device_eval_batch_size 16 \\\n",
    "              --output_dir ../eval_finetuned_models\"\n",
    "    else:\n",
    "        cmd = f\"CUDA_VISIBLE_DEVICES=9 python run_glue.py \\\n",
    "              --model_name_or_path {path} \\\n",
    "              --{eval_method} --per_device_eval_batch_size 32 \\\n",
    "              --output_dir ../eval_finetuned_models\"\n",
    "    print(f\"starting command\")\n",
    "    os.system(cmd)"
   ]
  },
  {
   "cell_type": "code",
   "execution_count": null,
   "metadata": {},
   "outputs": [],
   "source": []
  }
 ],
 "metadata": {
  "kernelspec": {
   "display_name": "Python 3",
   "language": "python",
   "name": "python3"
  },
  "language_info": {
   "codemirror_mode": {
    "name": "ipython",
    "version": 3
   },
   "file_extension": ".py",
   "mimetype": "text/x-python",
   "name": "python",
   "nbconvert_exporter": "python",
   "pygments_lexer": "ipython3",
   "version": "3.7.6"
  }
 },
 "nbformat": 4,
 "nbformat_minor": 4
}
