{
 "cells": [
  {
   "cell_type": "code",
   "execution_count": null,
   "metadata": {},
   "outputs": [],
   "source": [
    "\"\"\"\n",
    "This script helps you to kick-off all experiments we\n",
    "ran in a single script.\n",
    "\"\"\""
   ]
  },
  {
   "cell_type": "code",
   "execution_count": null,
   "metadata": {},
   "outputs": [],
   "source": [
    "GPU_TPYE = \"REGULAR\"\n",
    "# LARGE means >30G GPU MEM"
   ]
  },
  {
   "cell_type": "code",
   "execution_count": null,
   "metadata": {},
   "outputs": [],
   "source": [
    "MID_TUNED_PATHS = [\n",
    "\"8-10_roberta-base_roberta-base_seed_42_data_wikitext-15M_inoculation_1.0_reverse_False_random_True\",\n",
    "\"8-4_roberta-base_roberta-base_seed_42_data_wikitext-15M_inoculation_0.01_reverse_True_random_False\",\n",
    "\"8-4_roberta-base_roberta-base_seed_42_data_wikitext-15M_inoculation_0.05_reverse_True_random_False\",\n",
    "\"8-5_roberta-base_roberta-base_seed_42_data_wikitext-15M-en~fr@N~fr@V_inoculation_0.01_reverse_False_random_False\",\n",
    "\"8-5_roberta-base_roberta-base_seed_42_data_wikitext-15M-en~fr@N~fr@V_inoculation_0.05_reverse_False_random_False\",\n",
    "\"8-5_roberta-base_roberta-base_seed_42_data_wikitext-15M_inoculation_0.01_reverse_False_random_True\",\n",
    "\"8-5_roberta-base_roberta-base_seed_42_data_wikitext-15M_inoculation_0.05_reverse_False_random_True\",\n",
    "\"8-5_roberta-base_roberta-base_seed_42_data_wikitext-15M_inoculation_0.2_reverse_False_random_True\",\n",
    "\"8-5_roberta-base_roberta-base_seed_42_data_wikitext-15M_inoculation_0.2_reverse_True_random_False\",\n",
    "\"8-5_roberta-base_roberta-base_seed_42_data_wikitext-15M_inoculation_0.4_reverse_True_random_False\",\n",
    "\"8-5_roberta-base_roberta-base_seed_42_data_wikitext-15M_inoculation_0.8_reverse_True_random_False\",\n",
    "\"8-6_roberta-base_roberta-base_seed_42_data_wikitext-15M-en~fr@N~fr@V_inoculation_0.8_reverse_False_random_False\",\n",
    "\"8-6_roberta-base_roberta-base_seed_42_data_wikitext-15M-en~fr@N~ja_ktc@V_inoculation_0.01_reverse_False_random_False\",\n",
    "\"8-6_roberta-base_roberta-base_seed_42_data_wikitext-15M-en~fr@N~ja_ktc@V_inoculation_0.05_reverse_False_random_False\",\n",
    "\"8-6_roberta-base_roberta-base_seed_42_data_wikitext-15M-en~fr@N~ja_ktc@V_inoculation_0.2_reverse_False_random_False\",\n",
    "\"8-6_roberta-base_roberta-base_seed_42_data_wikitext-15M-en~fr@N~ja_ktc@V_inoculation_0.4_reverse_False_random_False\",\n",
    "\"8-6_roberta-base_roberta-base_seed_42_data_wikitext-15M-en~fr@N~ja_ktc@V_inoculation_0.8_reverse_False_random_False\",\n",
    "\"8-6_roberta-base_roberta-base_seed_42_data_wikitext-15M-en~ja_ktc@N~ja_ktc@V_inoculation_0.01_reverse_False_random_False\",\n",
    "\"8-6_roberta-base_roberta-base_seed_42_data_wikitext-15M-en~ja_ktc@N~ja_ktc@V_inoculation_0.05_reverse_False_random_False\",\n",
    "\"8-6_roberta-base_roberta-base_seed_42_data_wikitext-15M-en~ja_ktc@N~ja_ktc@V_inoculation_0.4_reverse_False_random_False\",\n",
    "\"8-6_roberta-base_roberta-base_seed_42_data_wikitext-15M_inoculation_0.4_reverse_False_random_True\",\n",
    "\"8-6_roberta-base_roberta-base_seed_42_data_wikitext-15M_inoculation_0.8_reverse_False_random_True\",\n",
    "\"8-7_roberta-base_roberta-base_seed_42_data_wikitext-15M-en~fr@N~fr@V_inoculation_1.0_reverse_False_random_False\",\n",
    "\"8-7_roberta-base_roberta-base_seed_42_data_wikitext-15M-en~fr@N~ja_ktc@V_inoculation_1.0_reverse_False_random_False\",\n",
    "\"8-7_roberta-base_roberta-base_seed_42_data_wikitext-15M-en~ja_ktc@N~ja_ktc@V_inoculation_0.05_reverse_False_random_False\",\n",
    "\"8-7_roberta-base_roberta-base_seed_42_data_wikitext-15M-en~ja_ktc@N~ja_ktc@V_inoculation_0.2_reverse_False_random_False\",\n",
    "\"8-7_roberta-base_roberta-base_seed_42_data_wikitext-15M-en~ja_ktc@N~ja_ktc@V_inoculation_0.4_reverse_False_random_False\",\n",
    "\"8-7_roberta-base_roberta-base_seed_42_data_wikitext-15M-en~ja_ktc@N~ja_ktc@V_inoculation_0.8_reverse_False_random_False\",\n",
    "\"8-7_roberta-base_roberta-base_seed_42_data_wikitext-15M-en~ja_ktc@N~ja_ktc@V_inoculation_1.0_reverse_False_random_False\",\n",
    "\"8-7_roberta-base_roberta-base_seed_42_data_wikitext-15M_inoculation_0.01_reverse_False_random_False\",\n",
    "\"8-7_roberta-base_roberta-base_seed_42_data_wikitext-15M_inoculation_0.05_reverse_False_random_False\",\n",
    "\"8-9_roberta-base_roberta-base_seed_42_data_wikitext-15M-en~fr@N~fr@V_inoculation_0.2_reverse_False_random_False\",\n",
    "\"8-9_roberta-base_roberta-base_seed_42_data_wikitext-15M-en~fr@N~fr@V_inoculation_0.4_reverse_False_random_False\",\n",
    "\"8-9_roberta-base_roberta-base_seed_42_data_wikitext-15M_inoculation_0.2_reverse_False_random_False\",\n",
    "\"8-9_roberta-base_roberta-base_seed_42_data_wikitext-15M_inoculation_0.4_reverse_False_random_False\",\n",
    "\"8-9_roberta-base_roberta-base_seed_42_data_wikitext-15M_inoculation_0.8_reverse_False_random_False\",\n",
    "\"8-9_roberta-base_roberta-base_seed_42_data_wikitext-15M_inoculation_1.0_reverse_False_random_False\",\n",
    "\"8-9_roberta-base_roberta-base_seed_42_data_wikitext-15M_inoculation_1.0_reverse_True_random_False\", \n",
    "]"
   ]
  },
  {
   "cell_type": "code",
   "execution_count": null,
   "metadata": {},
   "outputs": [],
   "source": [
    "print(\"********************************************************\")\n",
    "print(\"*\")\n",
    "print(\"* Collecting Running Information\")\n",
    "print(\"*\")\n",
    "print(\"********************************************************\")\n",
    "\n",
    "YAML_FILE = input(\"Please type in your YAML file for this experiments (enter for command line setup): \")\n",
    "if YAML_FILE.strip() != \"\":\n",
    "    import yaml\n",
    "\n",
    "    with open(YAML_FILE) as file:\n",
    "        # The FullLoader parameter handles the conversion from YAML\n",
    "        # scalar values to Python the dictionary format\n",
    "        experiment_cfg = yaml.load(file, Loader=yaml.FullLoader)\n",
    "        GPU_ID = experiment_cfg[\"GPU_ID\"]\n",
    "        TASK_NAME = experiment_cfg[\"TASK_NAME\"]\n",
    "        NUM_TRAIN_EPOCHS = experiment_cfg[\"NUM_TRAIN_EPOCHS\"]\n",
    "        PER_DEVICE_BATCH_SIZE = experiment_cfg[\"PER_DEVICE_BATCH_SIZE\"]\n",
    "        PATIENT_COUNT = experiment_cfg[\"PATIENT_COUNT\"]\n",
    "        METRIC = experiment_cfg[\"METRIC\"]\n",
    "else:\n",
    "    GPU_ID = input(\"Please type your GPU IDs separated by commas: \")\n",
    "    TASK_NAME = input(\"Please type your fine-tuning task name: (sst3/snli/...): \")\n",
    "    NUM_TRAIN_EPOCHS = input(\"Please give your NUM_TRAIN_EPOCHS: \")\n",
    "    PER_DEVICE_BATCH_SIZE = input(\"Please give your PER_DEVICE_BATCH_SIZE: \")\n",
    "    PATIENT_COUNT = input(\"Please give your PATIENT_COUNT: \")\n",
    "    METRIC = input(\"Please give your metric for evaluating performance: (Macro-F1/accuracy/...): \")"
   ]
  },
  {
   "cell_type": "code",
   "execution_count": null,
   "metadata": {},
   "outputs": [],
   "source": [
    "print(f\"TOTAL EXPERIMENTS: {len(MID_TUNED_PATHS)}\")"
   ]
  },
  {
   "cell_type": "code",
   "execution_count": null,
   "metadata": {},
   "outputs": [],
   "source": [
    "import subprocess\n",
    "experiments_run = [] \n",
    "for PATH in MID_TUNED_PATHS:\n",
    "    print(f\"EXPERIMENT {len(experiments_run)+1}/{len(MID_TUNED_PATHS)}\")\n",
    "    command = f\"CUDA_VISIBLE_DEVICES={GPU_ID} python run_fine_tuning.py \\\n",
    "                --task_name {TASK_NAME} \\\n",
    "                --model_name_or_path ../{PATH}/ \\\n",
    "                --metric_for_best_model {METRIC} \\\n",
    "                --is_tensorboard \\\n",
    "                --num_train_epochs {NUM_TRAIN_EPOCHS} \\\n",
    "                --per_device_train_batch_size {PER_DEVICE_BATCH_SIZE} \\\n",
    "                --inoculation_patience_count {PATIENT_COUNT} \\\n",
    "                --eval_steps 50\"\n",
    "    print(\"EXPERIMENT COMMAND: \")\n",
    "    print(command)\n",
    "    list_dir = subprocess.Popen(command, shell=True)\n",
    "    list_dir.wait()"
   ]
  }
 ],
 "metadata": {
  "kernelspec": {
   "display_name": "Python 3",
   "language": "python",
   "name": "python3"
  },
  "language_info": {
   "codemirror_mode": {
    "name": "ipython",
    "version": 3
   },
   "file_extension": ".py",
   "mimetype": "text/x-python",
   "name": "python",
   "nbconvert_exporter": "python",
   "pygments_lexer": "ipython3",
   "version": "3.7.6"
  }
 },
 "nbformat": 4,
 "nbformat_minor": 4
}
