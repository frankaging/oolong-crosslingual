{
 "cells": [
  {
   "cell_type": "code",
   "execution_count": 2,
   "metadata": {},
   "outputs": [
    {
     "name": "stderr",
     "output_type": "stream",
     "text": [
      "2021-08-05 01:48:49 INFO: Loading these models for language: en (English):\n",
      "========================\n",
      "| Processor | Package  |\n",
      "------------------------\n",
      "| tokenize  | combined |\n",
      "| pos       | combined |\n",
      "========================\n",
      "\n",
      "2021-08-05 01:48:49 INFO: Use device: gpu\n",
      "2021-08-05 01:48:49 INFO: Loading: tokenize\n",
      "2021-08-05 01:48:55 INFO: Loading: pos\n",
      "2021-08-05 01:48:56 INFO: Done loading processors!\n"
     ]
    }
   ],
   "source": [
    "# Imports\n",
    "import stanza\n",
    "from stanza.utils.conll import CoNLL\n",
    "# stanza.download('en')\n",
    "from nltk.corpus import wordnet\n",
    "\n",
    "from transformers import (\n",
    "    AutoConfig,\n",
    "    AutoTokenizer,\n",
    ")\n",
    "\n",
    "from datasets import DatasetDict\n",
    "from datasets import Dataset\n",
    "from datasets import load_dataset\n",
    "from datasets import list_datasets\n",
    "\n",
    "# Utils\n",
    "def get_sentence_doc(sentence_in):\n",
    "    doc = nlp(sentence_in)\n",
    "    return doc\n",
    "\n",
    "def get_postag_token(sentence_in):\n",
    "    ret = []\n",
    "    doc = nlp(sentence_in)\n",
    "    for sent in doc.sentences:\n",
    "        for word in sent.words:\n",
    "            ret  += [(word.text, word.upos, word.xpos,)]\n",
    "    return ret\n",
    "\n",
    "# Stanza\n",
    "nlp = stanza.Pipeline('en', processors='tokenize,pos')"
   ]
  },
  {
   "cell_type": "markdown",
   "metadata": {},
   "source": [
    "#### Demo for different aspects we studied with mid-tuning pipeline."
   ]
  },
  {
   "cell_type": "code",
   "execution_count": null,
   "metadata": {},
   "outputs": [],
   "source": [
    "original_sentence = 'Every move Google makes brings this particular future closer .'"
   ]
  },
  {
   "cell_type": "markdown",
   "metadata": {},
   "source": [
    "#### 1. Tokenization Differences\n",
    "\n",
    "Loading RoBERTa model with different tokenizers."
   ]
  },
  {
   "cell_type": "code",
   "execution_count": null,
   "metadata": {},
   "outputs": [],
   "source": [
    "wordpeice_tokenizer = AutoTokenizer.from_pretrained(\n",
    "    \"bert-base-cased\",\n",
    "    use_fast=False,\n",
    "    cache_dir=\"../huggingface_cache\"\n",
    ")\n",
    "\n",
    "bpe_tokenizer = AutoTokenizer.from_pretrained(\n",
    "    \"roberta-base\",\n",
    "    use_fast=False,\n",
    "    cache_dir=\"../huggingface_cache\"\n",
    ")\n",
    "\n",
    "sentpeice_tokenizer = AutoTokenizer.from_pretrained(\n",
    "    'xlnet-base-cased',\n",
    "    use_fast=False,\n",
    "    cache_dir=\"../huggingface_cache\"\n",
    ")"
   ]
  },
  {
   "cell_type": "code",
   "execution_count": null,
   "metadata": {},
   "outputs": [],
   "source": [
    "original_sentence = \" The ability to compositionally map language to referents, relations, and actions is an essential component of language understanding. \""
   ]
  },
  {
   "cell_type": "code",
   "execution_count": null,
   "metadata": {},
   "outputs": [],
   "source": [
    "wordpeice_tokenizer.tokenize(original_sentence)"
   ]
  },
  {
   "cell_type": "code",
   "execution_count": null,
   "metadata": {},
   "outputs": [],
   "source": [
    "bpe_tokenizer.tokenize(original_sentence)"
   ]
  },
  {
   "cell_type": "code",
   "execution_count": null,
   "metadata": {},
   "outputs": [],
   "source": [
    "sentpeice_tokenizer.tokenize(original_sentence)"
   ]
  },
  {
   "cell_type": "markdown",
   "metadata": {},
   "source": [
    "#### 2. Semantics Shifts\n",
    "\n",
    "Synonym Shift - Nouns."
   ]
  },
  {
   "cell_type": "code",
   "execution_count": null,
   "metadata": {},
   "outputs": [],
   "source": [
    "# batch annotation using Stanza\n",
    "documents = [\"\", \"I wrote another document for fun.\"]\n",
    "in_docs = [stanza.Document([], text=d) for d in documents]\n",
    "doc = nlp(in_docs)"
   ]
  },
  {
   "cell_type": "code",
   "execution_count": null,
   "metadata": {},
   "outputs": [],
   "source": [
    "doc[0].sentences"
   ]
  },
  {
   "cell_type": "code",
   "execution_count": null,
   "metadata": {},
   "outputs": [],
   "source": [
    "postags = get_postag_token(original_sentence)\n",
    "shifted_sentence = []\n",
    "for p in postags:\n",
    "    if p[-1] == \"NN\":\n",
    "        shifted = False\n",
    "        syns = wordnet.synsets(p[0])\n",
    "        for syn in syns:\n",
    "            shift_w = syn.lemmas()[0].name()\n",
    "            if p[0] != shift_w:\n",
    "                shifted_sentence += [shift_w]\n",
    "                shifted = True\n",
    "                break\n",
    "        if not shifted:\n",
    "            shifted_sentence += [p[0]]\n",
    "    else:\n",
    "        shifted_sentence += [p[0]]\n",
    "\" \".join(shifted_sentence)"
   ]
  },
  {
   "cell_type": "markdown",
   "metadata": {},
   "source": [
    "Scrambling Shift - Nouns."
   ]
  },
  {
   "cell_type": "code",
   "execution_count": null,
   "metadata": {},
   "outputs": [],
   "source": [
    "word_identity_map = {\n",
    "    'Google' : 'Facebook',\n",
    "    'move' : 'book',\n",
    "    'future' : 'internet'\n",
    "}\n",
    "shifted_sentence = []\n",
    "for p in postags:\n",
    "    if p[-1] == \"NN\" and p[0] in word_identity_map.keys():\n",
    "        shifted_sentence += [word_identity_map[p[0]]]\n",
    "    else:\n",
    "        shifted_sentence += [p[0]]\n",
    "\" \".join(shifted_sentence)"
   ]
  },
  {
   "cell_type": "markdown",
   "metadata": {},
   "source": [
    "Concept Merging and Splitting - 1. random merging and random splitting with -X format.."
   ]
  },
  {
   "cell_type": "code",
   "execution_count": null,
   "metadata": {},
   "outputs": [],
   "source": []
  },
  {
   "cell_type": "markdown",
   "metadata": {},
   "source": [
    "Synonym Shift - Nouns: Exploring (1) word embedddings, (2) wordnet nbrs."
   ]
  },
  {
   "cell_type": "code",
   "execution_count": null,
   "metadata": {},
   "outputs": [],
   "source": []
  },
  {
   "cell_type": "markdown",
   "metadata": {},
   "source": [
    "Other Relevant Shift: FastText Nbrs.\n",
    "* Get all nouns in the wikitext dataset.\n",
    "* Get fasttext embeddings of those nouns.\n",
    "* We need to get the lemma of those words (i.e., \"books\" cannot be swapped with \"book\" since they are considered as the same word lemma).\n",
    "* Using 1-NN matching algorithm to pair up words to swap meanings. We will have some rules to break ties."
   ]
  },
  {
   "cell_type": "code",
   "execution_count": null,
   "metadata": {},
   "outputs": [],
   "source": [
    "import fasttext\n",
    "ft = fasttext.load_model('./data-files/cc.en.300.bin')"
   ]
  },
  {
   "cell_type": "code",
   "execution_count": null,
   "metadata": {},
   "outputs": [],
   "source": [
    "ft.get_nearest_neighbors('book', k=5)"
   ]
  },
  {
   "cell_type": "code",
   "execution_count": null,
   "metadata": {},
   "outputs": [],
   "source": [
    "wiki_datasets = DatasetDict.load_from_disk(\"./data-files/wikitext-15M/\")"
   ]
  },
  {
   "cell_type": "code",
   "execution_count": null,
   "metadata": {},
   "outputs": [],
   "source": [
    "collected_nouns = set([])\n",
    "count = 0\n",
    "total_count = len(wiki_datasets[\"train\"])\n",
    "for sentence in wiki_datasets[\"train\"]:\n",
    "    if count % 1000 == 0:\n",
    "        print(f\"completed:{count}/{total_count}\")\n",
    "    postags = get_postag_token(sentence['text'])\n",
    "    for p in postags:\n",
    "        if p[-1] == 'NN':\n",
    "            collected_nouns.add(p[0])\n",
    "    count += 1"
   ]
  },
  {
   "cell_type": "code",
   "execution_count": null,
   "metadata": {},
   "outputs": [],
   "source": [
    "collected_nouns"
   ]
  },
  {
   "cell_type": "markdown",
   "metadata": {},
   "source": [
    "#### 3. Dependency Shifts"
   ]
  },
  {
   "cell_type": "markdown",
   "metadata": {},
   "source": [
    "Conllu Files Generation"
   ]
  },
  {
   "cell_type": "code",
   "execution_count": 12,
   "metadata": {},
   "outputs": [],
   "source": [
    "# read-in sentences from different files.\n",
    "wiki_datasets = DatasetDict.load_from_disk(\"../data-files/wikitext-15M/\")"
   ]
  },
  {
   "cell_type": "code",
   "execution_count": 13,
   "metadata": {},
   "outputs": [],
   "source": [
    "s = wiki_datasets[\"test\"][3]"
   ]
  },
  {
   "cell_type": "code",
   "execution_count": 14,
   "metadata": {},
   "outputs": [],
   "source": [
    "if len(s[\"text\"].strip()) > 0:\n",
    "    clean_s = []\n",
    "    for t in s[\"text\"].strip().split(\" \"):\n",
    "        if len(t.strip()) > 0:\n",
    "            clean_s += [t.strip()]"
   ]
  },
  {
   "cell_type": "code",
   "execution_count": 16,
   "metadata": {},
   "outputs": [],
   "source": [
    "s = \" \".join(clean_s)"
   ]
  },
  {
   "cell_type": "code",
   "execution_count": 17,
   "metadata": {},
   "outputs": [
    {
     "data": {
      "text/plain": [
       "'Robert Boulter is an English film , television and theatre actor . He had a guest @-@ starring role on the television series The Bill in 2000 . This was followed by a starring role in the play Herons written by Simon Stephens , which was performed in 2001 at the Royal Court Theatre . He had a guest role in the television series Judge John Deed in 2002 . In 2004 Boulter landed a role as \" Craig \" in the episode \" Teddy \\'s Story \" of the television series The Long Firm ; he starred alongside actors Mark Strong and Derek Jacobi . He was cast in the 2005 theatre productions of the Philip Ridley play Mercury Fur , which was performed at the Drum Theatre in Plymouth and the <unk> Chocolate Factory in London . He was directed by John Tiffany and starred alongside Ben Whishaw , Shane Zaza , Harry Kent , Fraser Ayres , Sophie Stanton and Dominic Hall .'"
      ]
     },
     "execution_count": 17,
     "metadata": {},
     "output_type": "execute_result"
    }
   ],
   "source": [
    "s"
   ]
  },
  {
   "cell_type": "code",
   "execution_count": 18,
   "metadata": {},
   "outputs": [],
   "source": [
    "in_docs = [stanza.Document([], text=s)]\n",
    "docs = nlp(in_docs)"
   ]
  },
  {
   "cell_type": "code",
   "execution_count": 19,
   "metadata": {},
   "outputs": [
    {
     "data": {
      "text/plain": [
       "7"
      ]
     },
     "execution_count": 19,
     "metadata": {},
     "output_type": "execute_result"
    }
   ],
   "source": [
    "len(docs[0].sentences)"
   ]
  },
  {
   "cell_type": "code",
   "execution_count": 35,
   "metadata": {},
   "outputs": [],
   "source": [
    "CoNLL.write_doc2conll(docs[0], \"./test.conllu\", mode=\"w\")"
   ]
  },
  {
   "cell_type": "markdown",
   "metadata": {},
   "source": [
    "Galatic Dependency"
   ]
  },
  {
   "cell_type": "code",
   "execution_count": 21,
   "metadata": {},
   "outputs": [],
   "source": [
    "# read-in sentences from different files.\n",
    "wiki_datasets = DatasetDict.load_from_disk(\"../data-files/wikitext-15M/\")"
   ]
  },
  {
   "cell_type": "code",
   "execution_count": 22,
   "metadata": {},
   "outputs": [],
   "source": [
    "wiki_datasets_fr_fr = DatasetDict.load_from_disk(\"../data-files/wikitext-15M-en~fr@N~fr@V/\")"
   ]
  },
  {
   "cell_type": "code",
   "execution_count": 23,
   "metadata": {},
   "outputs": [],
   "source": [
    "wiki_datasets_ja_ja = DatasetDict.load_from_disk(\"../data-files/wikitext-15M-en~ja_ktc@N~ja_ktc@V/\")"
   ]
  },
  {
   "cell_type": "code",
   "execution_count": 24,
   "metadata": {},
   "outputs": [],
   "source": [
    "wiki_datasets_fr_ja = DatasetDict.load_from_disk(\"../data-files/wikitext-15M-en~fr@N~ja_ktc@V/\")"
   ]
  },
  {
   "cell_type": "code",
   "execution_count": 25,
   "metadata": {},
   "outputs": [
    {
     "data": {
      "text/plain": [
       "{'text': ['',\n",
       "  ' = Robert Boulter = \\n',\n",
       "  '',\n",
       "  ' Robert Boulter is an English film , television and theatre actor . He had a guest @-@ starring role on the television series The Bill in 2000 . This was followed by a starring role in the play Herons written by Simon Stephens , which was performed in 2001 at the Royal Court Theatre . He had a guest role in the television series Judge John Deed in 2002 . In 2004 Boulter landed a role as \" Craig \" in the episode \" Teddy \\'s Story \" of the television series The Long Firm ; he starred alongside actors Mark Strong and Derek Jacobi . He was cast in the 2005 theatre productions of the Philip Ridley play Mercury Fur , which was performed at the Drum Theatre in Plymouth and the <unk> Chocolate Factory in London . He was directed by John Tiffany and starred alongside Ben Whishaw , Shane Zaza , Harry Kent , Fraser Ayres , Sophie Stanton and Dominic Hall . \\n',\n",
       "  ' In 2006 , Boulter starred alongside Whishaw in the play Citizenship written by Mark Ravenhill . He appeared on a 2006 episode of the television series , Doctors , followed by a role in the 2007 theatre production of How to Curse directed by Josie Rourke . How to Curse was performed at Bush Theatre in the London Borough of Hammersmith and Fulham . Boulter starred in two films in 2008 , Daylight Robbery by filmmaker Paris <unk> , and Donkey Punch directed by Olly Blackburn . In May 2008 , Boulter made a guest appearance on a two @-@ part episode arc of the television series Waking the Dead , followed by an appearance on the television series Survivors in November 2008 . He had a recurring role in ten episodes of the television series Casualty in 2010 , as \" Kieron Fletcher \" . Boulter starred in the 2011 film Mercenaries directed by Paris <unk> . \\n',\n",
       "  '',\n",
       "  ' = = Career = = \\n',\n",
       "  '',\n",
       "  '',\n",
       "  ' = = = 2000 – 2005 = = = \\n']}"
      ]
     },
     "execution_count": 25,
     "metadata": {},
     "output_type": "execute_result"
    }
   ],
   "source": [
    "wiki_datasets[\"test\"][:10]"
   ]
  },
  {
   "cell_type": "code",
   "execution_count": 26,
   "metadata": {},
   "outputs": [
    {
     "data": {
      "text/plain": [
       "{'text': ['= Robert Boulter =',\n",
       "  'Robert Boulter is an English , and theatre . actor television film a guest @-@ starring role on the television The Bill in 2000 . series had He This was by a in the play by , which was in 2001 at the Royal Court Theatre . performed Stephens Simon written Herons role starring followed had a in the television series Judge John in 2002 . Deed role guest He In 2004 a as \" Craig \" in the \" Teddy \\'s \" of the television The Long ; starred alongside Strong and Derek . Jacobi Mark actors he Firm series Story episode role landed Boulter He was in the 2005 of the play Fur , which was at the Drum in and the < unk > Chocolate Factory in London . Plymouth Theatre performed Mercury Ridley Philip productions theatre cast He was by and alongside Ben Whishaw , Zaza , Harry Kent , Fraser , Sophie Stanton and Dominic . Hall Ayres Shane starred Tiffany John directed',\n",
       "  'In 2006 , Boulter alongside in the Citizenship by Mark Ravenhill . written play Whishaw starred on a 2006 of the , Doctors , by a in the 2007 of How to Curse by Josie Rourke . directed production theatre role followed series television episode appeared He How to was at Bush in the London of Hammersmith and . Fulham Borough Theatre performed Curse in two in 2008 , Daylight by filmmaker < unk > , and Donkey by . Blackburn Olly directed Punch Paris Robbery films starred Boulter In May 2008 , Boulter made a guest on a two episode of the television series Waking the Dead , by an on the television series in November 2008 . Survivors appearance followed arc part @-@ appearance had a recurring in ten of the series Casualty in 2010 , as \" Fletcher \" . Boulter in the 2011 film Mercenaries by Paris < > . unk directed starred Kieron television episodes role He',\n",
       "  '= = = = Career',\n",
       "  '= = = 2000 – 2005 = = =',\n",
       "  'In 2000 had a guest starring on the television The ; portrayed \" Scott Parry \" in the , \" In Safe \" . Boulter as \" Scott \" in the play Herons by Simon , which was in 2001 at the Royal Court Theatre . performed Stephens written starred Hands episode he Bill series role @-@ Boulter A of Boulter \\'s in The on as \" horribly menacing \" in the role , and he received critical in The Herald , and Evening Standard . reviews him described Sunday Independent performance review in the television series John in 2002 as \" < unk > Deed Judge appeared He Armitage \" in the \" Political < unk > \" , and had a as a different character \" Toby \" on The . Bill Steele role episode',\n",
       "  'had a recurring in 2003 on two of The Bill , as \" Connor Price \" . character episodes role He In 2004 Boulter a as \" Craig \" in the \" Teddy \\'s Story \" of the television The Long Firm ; alongside actors Mark Strong and Derek Jacobi . starred he series episode role landed Boulter as \" \" , in the 2005 theatre of the play Mercury Fur . Ridley Philip productions Darren starred It was performed at the in , and the < > Chocolate in London . Factory unk Plymouth Theatre Drum He was directed by and starred alongside Ben Whishaw , Shane , Kent , Fraser , Sophie and Hall . Dominic Stanton Ayres Harry Zaza Tiffany John a favorable in The Daily Telegraph : \" The is shatteringly intense , with wired from Ben Whishaw ( now unrecognisable from as \\'s Hamlet ) , Boulter , Zaza and Fraser Ayres . \" The Guardian noted , \" Ben Whishaw and Robert offer amid the . \" savagery tenderness Boulter Shane Robert Nunn Trevor performance his performances acting review received Boulter',\n",
       "  '= = = 2006 – = = = present',\n",
       "  'In 2006 Boulter starred in the play Citizenship by Mark . Ravenhill written The was of a featured different , titled Burn / < > / Citizenship . unk playwrights which series part play In a 2006 interview , fellow actor Ben identified as one of his favorite co @-@ : \" I loved with a guy called Robert Boulter , was in the triple of Burn , < unk > and at the National . Citizenship bill who working stars Boulter Whishaw in Mercury . \" Fur brother my played He portrayed \" Jason Tyler \" on the 2006 of the , , titled \" I Ate \" . Something Doctors series television episode He Boulter as \" \" in the 2007 of How to Curse directed by Josie . Rourke production William starred How to was at Bush in the of Hammersmith and Fulham . Borough London Theatre performed Curse In a of the for The Daily , theatre Charles noted , \" Robert Boulter brings a touching to the as . \" William stage vulnerability Spencer critic Telegraph production review',\n",
       "  'Boulter in two in 2008 , by filmmaker Paris < unk > , and Donkey by Olly . Blackburn directed Punch Robbery Daylight films starred Boulter a character named \" \" in Donkey Punch , who along with \" Josh \" as the \" quiet ... off with \" . Tammi it hits who brother character tags Sean portrayed Boulter guest starred on a two @-@ part episode \" \" in May 2008 of the series Waking the as \" Jimmy Dearden \" . character Dead television Wounds arc appeared on the series Survivors as \" \" in November 2008 . Neil television He had a recurring in ten of the television series in 2010 , as \" Kieron Fletcher \" . Casualty episodes role He He portrayed an physician for a medical . fellowship applying emergency commented on the inherent in a on : \" Playing a is a strange . experience doctor television physician portraying difficulties He what you \\'re about when \\'t is very bizarre but are on who are fantastic at taking through and giving the to there and look like you \\'re doing . \" in the 2011 film Mercenaries by Paris < unk > . directed starred Boulter what know you stand confidence you procedures you set advisers there don you talking know you Pretending']}"
      ]
     },
     "execution_count": 26,
     "metadata": {},
     "output_type": "execute_result"
    }
   ],
   "source": [
    "wiki_datasets_fr_fr[\"test\"][:10]"
   ]
  },
  {
   "cell_type": "code",
   "execution_count": null,
   "metadata": {},
   "outputs": [],
   "source": []
  }
 ],
 "metadata": {
  "kernelspec": {
   "display_name": "Python 3",
   "language": "python",
   "name": "python3"
  },
  "language_info": {
   "codemirror_mode": {
    "name": "ipython",
    "version": 3
   },
   "file_extension": ".py",
   "mimetype": "text/x-python",
   "name": "python",
   "nbconvert_exporter": "python",
   "pygments_lexer": "ipython3",
   "version": "3.7.6"
  }
 },
 "nbformat": 4,
 "nbformat_minor": 4
}
