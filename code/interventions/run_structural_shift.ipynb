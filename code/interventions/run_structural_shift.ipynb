{
 "cells": [
  {
   "cell_type": "markdown",
   "metadata": {},
   "source": [
    "#### Perform structural shifts of the datasets\n",
    "This file assumes you got the conllu files for your dataset."
   ]
  },
  {
   "cell_type": "code",
   "execution_count": 51,
   "metadata": {},
   "outputs": [],
   "source": [
    "import os\n",
    "from stanza.utils.conll import CoNLL\n",
    "from tqdm import tqdm\n",
    "from datasets import DatasetDict\n",
    "from datasets import Dataset\n",
    "from datasets import load_dataset\n",
    "from datasets import list_datasets\n",
    "\n",
    "def chunks(lst, n):\n",
    "    \"\"\"Yield successive n-sized chunks from lst.\"\"\"\n",
    "    for i in range(0, len(lst), n):\n",
    "        yield lst[i:i + n]\n",
    "        \n",
    "def dict2text(stanza_sentence_dict):\n",
    "    tokens = []\n",
    "    for token in stanza_sentence_dict:\n",
    "        tokens += [token[\"text\"]]\n",
    "    return \" \".join(tokens)"
   ]
  },
  {
   "cell_type": "markdown",
   "metadata": {},
   "source": [
    "You can split bigger dataset into smaller chunks so that they fit in your memory."
   ]
  },
  {
   "cell_type": "code",
   "execution_count": null,
   "metadata": {},
   "outputs": [],
   "source": [
    "# Get the training, and split the file, and galactic change.\n",
    "filename = \"../../data-files/wikitext-15M-conllu/wikitext-15M-train.conllu\"\n",
    "with open(filename) as f:\n",
    "    content = f.readlines()\n",
    "    \n",
    "count = 0\n",
    "current_file = []\n",
    "partition_file = []\n",
    "for c in content:\n",
    "    current_file += [c]\n",
    "    if len(c.strip()) == 0:\n",
    "        partition_file += [current_file]\n",
    "        current_file = []\n",
    "        count += 1\n",
    "assert count == len(partition_file)\n",
    "\n",
    "NUM_PARTITION = 10\n",
    "partition_file = [c for c in chunks(partition_file, len(partition_file)//NUM_PARTITION)]\n",
    "output_dir = \"../../data-files/wikitext-15M-conllu\"\n",
    "basename  = \"wikitext-15M-train\"\n",
    "file_counter = 0\n",
    "for file in partition_file:\n",
    "    # each file is a list of doc\n",
    "    output_file = f\"{output_dir}/{basename}-partition-{file_counter}.conllu\"\n",
    "    with open(output_file, 'a') as the_file:\n",
    "        for f in file:\n",
    "            for l in f:\n",
    "                the_file.write(l)\n",
    "    print(f\"write to {output_file} with doc_number={len(file)}\")\n",
    "    file_counter += 1"
   ]
  },
  {
   "cell_type": "markdown",
   "metadata": {},
   "source": [
    "You will need to call following java scripts to perform structural changes."
   ]
  },
  {
   "cell_type": "code",
   "execution_count": null,
   "metadata": {},
   "outputs": [],
   "source": [
    "# We will run the following line to convert our conllu file using JAVA.\n",
    "# types of shifts:\n",
    "# wiki-text (galactic-en~fr@N~fr@V)\n",
    "# wiki-text (galactic-en~ja_ktc@N~ja_ktc@V)\n",
    "# wiki-text (galactic-en~fr@N~ja_ktc@V)"
   ]
  },
  {
   "cell_type": "code",
   "execution_count": null,
   "metadata": {},
   "outputs": [],
   "source": [
    "cmd = f\"GALACTIC_ROOT=../../submodules/gdtreebank/ \\\n",
    "        ../../submodules/gdtreebank/bin/gd-translate \\\n",
    "        --input ../../data-files/wikitext-15M-conllu/wikitext-15M-validation.conllu \\\n",
    "        --spec en~ja_ktc@N~ja_ktc@V\"\n",
    "print(f\"starting command\")\n",
    "os.system(cmd)"
   ]
  },
  {
   "cell_type": "code",
   "execution_count": null,
   "metadata": {},
   "outputs": [],
   "source": [
    "cmd = f\"GALACTIC_ROOT=../../submodules/gdtreebank/ \\\n",
    "        ../../submodules/gdtreebank/bin/gd-translate \\\n",
    "        --input ../../data-files/wikitext-15M-conllu/wikitext-15M-test.conllu \\\n",
    "        --spec en~ja_ktc@N~ja_ktc@V\"\n",
    "print(f\"starting command\")\n",
    "os.system(cmd)"
   ]
  },
  {
   "cell_type": "code",
   "execution_count": null,
   "metadata": {},
   "outputs": [],
   "source": [
    "# run java program over smaller files.\n",
    "for i in range(NUM_PARTITION+1):\n",
    "    cmd = f\"GALACTIC_ROOT=../../submodules/gdtreebank/ \\\n",
    "            ../../submodules/gdtreebank/bin/gd-translate \\\n",
    "            --input ../../data-files/wikitext-15M-conllu/wikitext-15M-train-partition-{i}.conllu \\\n",
    "            --spec en~fr@N~ja_ktc@V\"\n",
    "    print(f\"starting command-{i}\")\n",
    "    os.system(cmd)\n",
    "\n",
    "# --input ../../data-files/wikitext-15M-conllu/wikitext-15M-train.conllu \\\n",
    "# --input ../../data-files/wikitext-15M-conllu/wikitext-15M-test.conllu \\\n",
    "# --input ../../data-files/wikitext-15M-conllu/wikitext-15M-validation.conllu \\"
   ]
  },
  {
   "cell_type": "markdown",
   "metadata": {},
   "source": [
    "Now, we need to combine and transfer conllu files into dataset."
   ]
  },
  {
   "cell_type": "code",
   "execution_count": 95,
   "metadata": {},
   "outputs": [
    {
     "name": "stdout",
     "output_type": "stream",
     "text": [
      "processing: ../../data-files/wikitext-15M-conllu/wikitext-15M-train-partition-0-en~fr@N~ja_ktc@V.conllu\n",
      "processing: ../../data-files/wikitext-15M-conllu/wikitext-15M-train-partition-1-en~fr@N~ja_ktc@V.conllu\n",
      "processing: ../../data-files/wikitext-15M-conllu/wikitext-15M-train-partition-2-en~fr@N~ja_ktc@V.conllu\n",
      "processing: ../../data-files/wikitext-15M-conllu/wikitext-15M-train-partition-3-en~fr@N~ja_ktc@V.conllu\n",
      "processing: ../../data-files/wikitext-15M-conllu/wikitext-15M-train-partition-4-en~fr@N~ja_ktc@V.conllu\n",
      "processing: ../../data-files/wikitext-15M-conllu/wikitext-15M-train-partition-5-en~fr@N~ja_ktc@V.conllu\n",
      "processing: ../../data-files/wikitext-15M-conllu/wikitext-15M-train-partition-6-en~fr@N~ja_ktc@V.conllu\n",
      "processing: ../../data-files/wikitext-15M-conllu/wikitext-15M-train-partition-7-en~fr@N~ja_ktc@V.conllu\n",
      "processing: ../../data-files/wikitext-15M-conllu/wikitext-15M-train-partition-8-en~fr@N~ja_ktc@V.conllu\n",
      "processing: ../../data-files/wikitext-15M-conllu/wikitext-15M-train-partition-9-en~fr@N~ja_ktc@V.conllu\n",
      "processing: ../../data-files/wikitext-15M-conllu/wikitext-15M-train-partition-10-en~fr@N~ja_ktc@V.conllu\n"
     ]
    }
   ],
   "source": [
    "# first, let us combine all sub-chunks together.\n",
    "all_content = []\n",
    "condition = \"en~fr@N~ja_ktc@V\"\n",
    "for i in range(NUM_PARTITION+1):\n",
    "    subfile_name = f\"../../data-files/wikitext-15M-conllu/wikitext-15M-train-partition-{i}-{condition}.conllu\"\n",
    "    with open(subfile_name) as f:\n",
    "        content = f.readlines()\n",
    "    all_content.extend(content)\n",
    "    print(f\"processing: {subfile_name}\")"
   ]
  },
  {
   "cell_type": "code",
   "execution_count": 96,
   "metadata": {},
   "outputs": [
    {
     "name": "stdout",
     "output_type": "stream",
     "text": [
      "writing all combined files to: ../../data-files/wikitext-15M-conllu/wikitext-15M-train-en~fr@N~ja_ktc@V.conllu\n"
     ]
    }
   ],
   "source": [
    "jumbo_file = f\"../../data-files/wikitext-15M-conllu/wikitext-15M-train-{condition}.conllu\"\n",
    "print(f\"writing all combined files to: {jumbo_file}\")\n",
    "with open(jumbo_file, 'a') as the_file:\n",
    "    for l in all_content:\n",
    "        the_file.write(l)"
   ]
  },
  {
   "cell_type": "code",
   "execution_count": 97,
   "metadata": {},
   "outputs": [],
   "source": [
    "# removing all files.\n",
    "for i in range(NUM_PARTITION+1):\n",
    "    subfile_name = f\"../../data-files/wikitext-15M-conllu/wikitext-15M-train-partition-{i}-{condition}.conllu\"\n",
    "    os.remove(subfile_name)"
   ]
  },
  {
   "cell_type": "markdown",
   "metadata": {},
   "source": [
    "We then need to load all conllu files and turn them into wiki-text data format."
   ]
  },
  {
   "cell_type": "code",
   "execution_count": 62,
   "metadata": {},
   "outputs": [],
   "source": [
    "condition = \"en~fr@N~ja_ktc@V\""
   ]
  },
  {
   "cell_type": "code",
   "execution_count": 63,
   "metadata": {},
   "outputs": [
    {
     "name": "stdout",
     "output_type": "stream",
     "text": [
      "reading in conllu file: ../../data-files/wikitext-15M-conllu/wikitext-15M-train-en~fr@N~ja_ktc@V.conllu...\n"
     ]
    },
    {
     "name": "stderr",
     "output_type": "stream",
     "text": [
      "100%|██████████| 174738/174738 [01:48<00:00, 1613.63it/s]\n"
     ]
    },
    {
     "name": "stdout",
     "output_type": "stream",
     "text": [
      "reading in conllu file: ../../data-files/wikitext-15M-conllu/wikitext-15M-validation-en~fr@N~ja_ktc@V.conllu...\n"
     ]
    },
    {
     "name": "stderr",
     "output_type": "stream",
     "text": [
      "100%|██████████| 2461/2461 [00:01<00:00, 1588.45it/s]\n"
     ]
    },
    {
     "name": "stdout",
     "output_type": "stream",
     "text": [
      "reading in conllu file: ../../data-files/wikitext-15M-conllu/wikitext-15M-test-en~fr@N~ja_ktc@V.conllu...\n"
     ]
    },
    {
     "name": "stderr",
     "output_type": "stream",
     "text": [
      "100%|██████████| 2891/2891 [00:01<00:00, 1786.44it/s]\n"
     ]
    }
   ],
   "source": [
    "conllu_filename = f\"../../data-files/wikitext-15M-conllu/wikitext-15M-train-{condition}.conllu\"\n",
    "print(f\"reading in conllu file: {conllu_filename}...\")\n",
    "to_sent_doc = CoNLL.conll2doc(conllu_filename)\n",
    "texts = []\n",
    "for i in tqdm(range(len(to_sent_doc.sentences))):\n",
    "    text = dict2text(to_sent_doc.sentences[i].to_dict())\n",
    "    texts += [text]\n",
    "train_dataset = {\n",
    "    \"text\": texts\n",
    "}\n",
    "train_dataset = Dataset.from_dict(train_dataset)\n",
    "\n",
    "conllu_filename = f\"../../data-files/wikitext-15M-conllu/wikitext-15M-validation-{condition}.conllu\"\n",
    "print(f\"reading in conllu file: {conllu_filename}...\")\n",
    "to_sent_doc = CoNLL.conll2doc(conllu_filename)\n",
    "texts = []\n",
    "for i in tqdm(range(len(to_sent_doc.sentences))):\n",
    "    text = dict2text(to_sent_doc.sentences[i].to_dict())\n",
    "    texts += [text]\n",
    "validation_dataset = {\n",
    "    \"text\": texts\n",
    "}\n",
    "validation_dataset = Dataset.from_dict(validation_dataset)\n",
    "\n",
    "conllu_filename = f\"../../data-files/wikitext-15M-conllu/wikitext-15M-test-{condition}.conllu\"\n",
    "print(f\"reading in conllu file: {conllu_filename}...\")\n",
    "to_sent_doc = CoNLL.conll2doc(conllu_filename)\n",
    "texts = []\n",
    "for i in tqdm(range(len(to_sent_doc.sentences))):\n",
    "    text = dict2text(to_sent_doc.sentences[i].to_dict())\n",
    "    texts += [text]\n",
    "test_dataset = {\n",
    "    \"text\": texts\n",
    "}\n",
    "test_dataset = Dataset.from_dict(test_dataset)"
   ]
  },
  {
   "cell_type": "code",
   "execution_count": 64,
   "metadata": {},
   "outputs": [],
   "source": [
    "# save it as dataset format.\n",
    "datasets = DatasetDict({\"train\":train_dataset, \n",
    "                        \"validation\":validation_dataset, \n",
    "                        \"test\":test_dataset})\n",
    "datasets.save_to_disk(f\"../../data-files/wikitext-15M-{condition}\")"
   ]
  }
 ],
 "metadata": {
  "kernelspec": {
   "display_name": "Python 3",
   "language": "python",
   "name": "python3"
  },
  "language_info": {
   "codemirror_mode": {
    "name": "ipython",
    "version": 3
   },
   "file_extension": ".py",
   "mimetype": "text/x-python",
   "name": "python",
   "nbconvert_exporter": "python",
   "pygments_lexer": "ipython3",
   "version": "3.7.6"
  }
 },
 "nbformat": 4,
 "nbformat_minor": 4
}
