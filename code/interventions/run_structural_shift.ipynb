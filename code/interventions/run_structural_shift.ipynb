{
 "cells": [
  {
   "cell_type": "markdown",
   "metadata": {},
   "source": [
    "#### Perform structural shifts of the datasets\n",
    "This file assumes you got the conllu files for your dataset."
   ]
  },
  {
   "cell_type": "code",
   "execution_count": 80,
   "metadata": {},
   "outputs": [],
   "source": [
    "import os\n",
    "from stanza.utils.conll import CoNLL\n",
    "from tqdm import tqdm\n",
    "from datasets import DatasetDict\n",
    "from datasets import Dataset\n",
    "from datasets import load_dataset\n",
    "from datasets import list_datasets\n",
    "import json\n",
    "\n",
    "def chunks(lst, n):\n",
    "    \"\"\"Yield successive n-sized chunks from lst.\"\"\"\n",
    "    for i in range(0, len(lst), n):\n",
    "        yield lst[i:i + n]\n",
    "        \n",
    "def dict2text(stanza_sentence_dict):\n",
    "    tokens = []\n",
    "    for token in stanza_sentence_dict:\n",
    "        tokens += [token[\"text\"]]\n",
    "    return \" \".join(tokens)\n",
    "\n",
    "text_fields_map = {\n",
    "    \"wikitext-15M\":\"text\",\n",
    "    \"sst3\":\"text\",\n",
    "    \"qnli\":\"question,sentence\",\n",
    "    \"mrpc\":\"sentence1,sentence2\",\n",
    "}"
   ]
  },
  {
   "cell_type": "markdown",
   "metadata": {},
   "source": [
    "You can split bigger dataset into smaller chunks so that they fit in your memory."
   ]
  },
  {
   "cell_type": "code",
   "execution_count": 22,
   "metadata": {},
   "outputs": [],
   "source": [
    "task=\"mrpc\""
   ]
  },
  {
   "cell_type": "code",
   "execution_count": 2,
   "metadata": {},
   "outputs": [],
   "source": [
    "# Get the training, and split the file, and galactic change.\n",
    "filename = f\"../../data-files/{task}-conllu/{task}-train.conllu\"\n",
    "json_filename = f\"../../data-files/{task}-conllu/{task}-train.json\"\n",
    "with open(filename) as f:\n",
    "    content = f.readlines()\n",
    "    \n",
    "count = 0\n",
    "current_file = []\n",
    "partition_file = []\n",
    "for c in content:\n",
    "    current_file += [c]\n",
    "    if len(c.strip()) == 0:\n",
    "        partition_file += [current_file]\n",
    "        current_file = []\n",
    "        count += 1\n",
    "sentence_group = json.load(open(json_filename))\n",
    "assert count == sum(sentence_group)"
   ]
  },
  {
   "cell_type": "code",
   "execution_count": 3,
   "metadata": {},
   "outputs": [
    {
     "name": "stdout",
     "output_type": "stream",
     "text": [
      "write to ../../data-files/wikitext-15M-conllu/wikitext-15M-train-partition-0.conllu with doc_number=59596\n",
      "write to ../../data-files/wikitext-15M-conllu/wikitext-15M-train-partition-1.conllu with doc_number=59596\n",
      "write to ../../data-files/wikitext-15M-conllu/wikitext-15M-train-partition-2.conllu with doc_number=59596\n",
      "write to ../../data-files/wikitext-15M-conllu/wikitext-15M-train-partition-3.conllu with doc_number=59596\n",
      "write to ../../data-files/wikitext-15M-conllu/wikitext-15M-train-partition-4.conllu with doc_number=59596\n",
      "write to ../../data-files/wikitext-15M-conllu/wikitext-15M-train-partition-5.conllu with doc_number=59596\n",
      "write to ../../data-files/wikitext-15M-conllu/wikitext-15M-train-partition-6.conllu with doc_number=59596\n",
      "write to ../../data-files/wikitext-15M-conllu/wikitext-15M-train-partition-7.conllu with doc_number=59596\n",
      "write to ../../data-files/wikitext-15M-conllu/wikitext-15M-train-partition-8.conllu with doc_number=59596\n",
      "write to ../../data-files/wikitext-15M-conllu/wikitext-15M-train-partition-9.conllu with doc_number=59596\n",
      "write to ../../data-files/wikitext-15M-conllu/wikitext-15M-train-partition-10.conllu with doc_number=6\n"
     ]
    }
   ],
   "source": [
    "assert count == len(partition_file)\n",
    "\n",
    "NUM_PARTITION = 10\n",
    "partition_file = [c for c in chunks(partition_file, len(partition_file)//NUM_PARTITION)]\n",
    "output_dir = \"../../data-files/wikitext-15M-conllu\"\n",
    "basename  = \"wikitext-15M-train\"\n",
    "file_counter = 0\n",
    "for file in partition_file:\n",
    "    # each file is a list of doc\n",
    "    output_file = f\"{output_dir}/{basename}-partition-{file_counter}.conllu\"\n",
    "    with open(output_file, 'a') as the_file:\n",
    "        for f in file:\n",
    "            for l in f:\n",
    "                the_file.write(l)\n",
    "    print(f\"write to {output_file} with doc_number={len(file)}\")\n",
    "    file_counter += 1"
   ]
  },
  {
   "cell_type": "markdown",
   "metadata": {},
   "source": [
    "You will need to call following java scripts to perform structural changes."
   ]
  },
  {
   "cell_type": "code",
   "execution_count": 4,
   "metadata": {},
   "outputs": [],
   "source": [
    "# We will run the following line to convert our conllu file using JAVA.\n",
    "# types of shifts:\n",
    "# wiki-text (en~fr@N~fr@V)\n",
    "# wiki-text (en~ja_ktc@N~ja_ktc@V)\n",
    "# wiki-text (en~fr@N~ja_ktc@V)"
   ]
  },
  {
   "cell_type": "code",
   "execution_count": 43,
   "metadata": {},
   "outputs": [],
   "source": [
    "text = \"sentence2\"\n",
    "# condition = \"en~fr@N~fr@V\"\n",
    "# condition = \"en~ja_ktc@N~ja_ktc@V\"\n",
    "condition = \"en~fr@N~ja_ktc@V\""
   ]
  },
  {
   "cell_type": "code",
   "execution_count": 44,
   "metadata": {},
   "outputs": [
    {
     "name": "stdout",
     "output_type": "stream",
     "text": [
      "starting command\n"
     ]
    },
    {
     "data": {
      "text/plain": [
       "0"
      ]
     },
     "execution_count": 44,
     "metadata": {},
     "output_type": "execute_result"
    }
   ],
   "source": [
    "cmd = f\"GALACTIC_ROOT=../../submodules/gdtreebank/ \\\n",
    "        ../../submodules/gdtreebank/bin/gd-translate \\\n",
    "        --input ../../data-files/{task}-conllu/{task}-train-{text}.conllu \\\n",
    "        --spec {condition}\"\n",
    "print(f\"starting command\")\n",
    "os.system(cmd)"
   ]
  },
  {
   "cell_type": "code",
   "execution_count": 45,
   "metadata": {},
   "outputs": [
    {
     "name": "stdout",
     "output_type": "stream",
     "text": [
      "starting command\n"
     ]
    },
    {
     "data": {
      "text/plain": [
       "0"
      ]
     },
     "execution_count": 45,
     "metadata": {},
     "output_type": "execute_result"
    }
   ],
   "source": [
    "cmd = f\"GALACTIC_ROOT=../../submodules/gdtreebank/ \\\n",
    "        ../../submodules/gdtreebank/bin/gd-translate \\\n",
    "        --input ../../data-files/{task}-conllu/{task}-validation-{text}.conllu \\\n",
    "        --spec {condition}\"\n",
    "print(f\"starting command\")\n",
    "os.system(cmd)"
   ]
  },
  {
   "cell_type": "code",
   "execution_count": 46,
   "metadata": {},
   "outputs": [
    {
     "name": "stdout",
     "output_type": "stream",
     "text": [
      "starting command\n"
     ]
    },
    {
     "data": {
      "text/plain": [
       "0"
      ]
     },
     "execution_count": 46,
     "metadata": {},
     "output_type": "execute_result"
    }
   ],
   "source": [
    "cmd = f\"GALACTIC_ROOT=../../submodules/gdtreebank/ \\\n",
    "        ../../submodules/gdtreebank/bin/gd-translate \\\n",
    "        --input ../../data-files/{task}-conllu/{task}-test-{text}.conllu \\\n",
    "        --spec {condition}\"\n",
    "print(f\"starting command\")\n",
    "os.system(cmd)"
   ]
  },
  {
   "cell_type": "code",
   "execution_count": 22,
   "metadata": {},
   "outputs": [
    {
     "name": "stdout",
     "output_type": "stream",
     "text": [
      "starting command-0\n",
      "starting command-1\n",
      "starting command-2\n",
      "starting command-3\n",
      "starting command-4\n",
      "starting command-5\n",
      "starting command-6\n",
      "starting command-7\n",
      "starting command-8\n",
      "starting command-9\n",
      "starting command-10\n"
     ]
    }
   ],
   "source": [
    "# run java program over smaller files.\n",
    "for i in range(NUM_PARTITION+1):\n",
    "    cmd = f\"GALACTIC_ROOT=../../submodules/gdtreebank/ \\\n",
    "            ../../submodules/gdtreebank/bin/gd-translate \\\n",
    "            --input ../../data-files/wikitext-15M-conllu/wikitext-15M-train-partition-{i}.conllu \\\n",
    "            --spec {condition}\"\n",
    "    print(f\"starting command-{i}\")\n",
    "    os.system(cmd)\n",
    "\n",
    "# --input ../../data-files/wikitext-15M-conllu/wikitext-15M-train.conllu \\\n",
    "# --input ../../data-files/wikitext-15M-conllu/wikitext-15M-test.conllu \\\n",
    "# --input ../../data-files/wikitext-15M-conllu/wikitext-15M-validation.conllu \\"
   ]
  },
  {
   "cell_type": "markdown",
   "metadata": {},
   "source": [
    "Now, we need to combine and transfer conllu files into dataset."
   ]
  },
  {
   "cell_type": "code",
   "execution_count": 23,
   "metadata": {},
   "outputs": [
    {
     "name": "stdout",
     "output_type": "stream",
     "text": [
      "processing: ../../data-files/wikitext-15M-conllu/wikitext-15M-train-partition-0-en~fr@N~ja_ktc@V.conllu\n",
      "processing: ../../data-files/wikitext-15M-conllu/wikitext-15M-train-partition-1-en~fr@N~ja_ktc@V.conllu\n",
      "processing: ../../data-files/wikitext-15M-conllu/wikitext-15M-train-partition-2-en~fr@N~ja_ktc@V.conllu\n",
      "processing: ../../data-files/wikitext-15M-conllu/wikitext-15M-train-partition-3-en~fr@N~ja_ktc@V.conllu\n",
      "processing: ../../data-files/wikitext-15M-conllu/wikitext-15M-train-partition-4-en~fr@N~ja_ktc@V.conllu\n",
      "processing: ../../data-files/wikitext-15M-conllu/wikitext-15M-train-partition-5-en~fr@N~ja_ktc@V.conllu\n",
      "processing: ../../data-files/wikitext-15M-conllu/wikitext-15M-train-partition-6-en~fr@N~ja_ktc@V.conllu\n",
      "processing: ../../data-files/wikitext-15M-conllu/wikitext-15M-train-partition-7-en~fr@N~ja_ktc@V.conllu\n",
      "processing: ../../data-files/wikitext-15M-conllu/wikitext-15M-train-partition-8-en~fr@N~ja_ktc@V.conllu\n",
      "processing: ../../data-files/wikitext-15M-conllu/wikitext-15M-train-partition-9-en~fr@N~ja_ktc@V.conllu\n",
      "processing: ../../data-files/wikitext-15M-conllu/wikitext-15M-train-partition-10-en~fr@N~ja_ktc@V.conllu\n"
     ]
    }
   ],
   "source": [
    "# first, let us combine all sub-chunks together.\n",
    "all_content = []\n",
    "for i in range(NUM_PARTITION+1):\n",
    "    subfile_name = f\"../../data-files/wikitext-15M-conllu/wikitext-15M-train-partition-{i}-{condition}.conllu\"\n",
    "    with open(subfile_name) as f:\n",
    "        content = f.readlines()\n",
    "    all_content.extend(content)\n",
    "    print(f\"processing: {subfile_name}\")"
   ]
  },
  {
   "cell_type": "code",
   "execution_count": 24,
   "metadata": {},
   "outputs": [
    {
     "name": "stdout",
     "output_type": "stream",
     "text": [
      "writing all combined files to: ../../data-files/wikitext-15M-conllu/wikitext-15M-train-en~fr@N~ja_ktc@V.conllu\n"
     ]
    }
   ],
   "source": [
    "jumbo_file = f\"../../data-files/wikitext-15M-conllu/wikitext-15M-train-{condition}.conllu\"\n",
    "print(f\"writing all combined files to: {jumbo_file}\")\n",
    "with open(jumbo_file, 'a') as the_file:\n",
    "    for l in all_content:\n",
    "        the_file.write(l)"
   ]
  },
  {
   "cell_type": "code",
   "execution_count": 25,
   "metadata": {},
   "outputs": [],
   "source": [
    "# removing all files.\n",
    "for i in range(NUM_PARTITION+1):\n",
    "    subfile_name = f\"../../data-files/wikitext-15M-conllu/wikitext-15M-train-partition-{i}-{condition}.conllu\"\n",
    "    os.remove(subfile_name)"
   ]
  },
  {
   "cell_type": "code",
   "execution_count": 26,
   "metadata": {},
   "outputs": [],
   "source": [
    "# WARNING: run this at the end removing all files.\n",
    "for i in range(NUM_PARTITION+1):\n",
    "    subfile_name = f\"../../data-files/wikitext-15M-conllu/wikitext-15M-train-partition-{i}.conllu\"\n",
    "    os.remove(subfile_name)"
   ]
  },
  {
   "cell_type": "markdown",
   "metadata": {},
   "source": [
    "We then need to load all conllu files and turn them into wiki-text data format."
   ]
  },
  {
   "cell_type": "code",
   "execution_count": 90,
   "metadata": {},
   "outputs": [],
   "source": [
    "task = \"qnli\""
   ]
  },
  {
   "cell_type": "code",
   "execution_count": 109,
   "metadata": {},
   "outputs": [],
   "source": [
    "# condition = \"en~fr@N~fr@V\"\n",
    "# condition = \"en~ja_ktc@N~ja_ktc@V\"\n",
    "condition = \"en~fr@N~ja_ktc@V\""
   ]
  },
  {
   "cell_type": "code",
   "execution_count": 110,
   "metadata": {},
   "outputs": [],
   "source": [
    "def group_conllu(task, split, field_name, condition):\n",
    "    print(f\"reading in conllu files for task {task} on split {split} with field_name {field_name} in condition {condition}...\")\n",
    "    conllu_filename = f\"../../data-files/{task}-conllu/{task}-{split}-{field_name}-{condition}.conllu\"\n",
    "    print(f\"reading in conllu file: {conllu_filename}...\")\n",
    "    to_sent_doc = CoNLL.conll2doc(conllu_filename)\n",
    "    texts = []\n",
    "    for i in tqdm(range(len(to_sent_doc.sentences))):\n",
    "        text = dict2text(to_sent_doc.sentences[i].to_dict())\n",
    "        texts += [text]\n",
    "    print(\"grouping conllu files correctly...\")\n",
    "    json_filename = f\"../../data-files/{task}-conllu/{task}-{split}.json\"\n",
    "    metadata = json.load(open(json_filename))\n",
    "    sentence_group = [md[-1] for md in metadata[field_name]]\n",
    "    curr = 0\n",
    "    updated_text = []\n",
    "    for g in sentence_group:\n",
    "        combined_text = texts[curr:curr+g]\n",
    "        updated_text += [\" \".join(combined_text)]\n",
    "        curr += g\n",
    "\n",
    "    return updated_text"
   ]
  },
  {
   "cell_type": "code",
   "execution_count": 111,
   "metadata": {},
   "outputs": [
    {
     "name": "stdout",
     "output_type": "stream",
     "text": [
      "reading in conllu files for task qnli on split train with field_name question in condition en~fr@N~ja_ktc@V...\n",
      "reading in conllu file: ../../data-files/qnli-conllu/qnli-train-question-en~fr@N~ja_ktc@V.conllu...\n"
     ]
    },
    {
     "name": "stderr",
     "output_type": "stream",
     "text": [
      "100%|██████████| 105546/105546 [00:36<00:00, 2899.38it/s]\n"
     ]
    },
    {
     "name": "stdout",
     "output_type": "stream",
     "text": [
      "grouping conllu files correctly...\n",
      "reading in conllu files for task qnli on split train with field_name sentence in condition en~fr@N~ja_ktc@V...\n",
      "reading in conllu file: ../../data-files/qnli-conllu/qnli-train-sentence-en~fr@N~ja_ktc@V.conllu...\n"
     ]
    },
    {
     "name": "stderr",
     "output_type": "stream",
     "text": [
      "100%|██████████| 108136/108136 [01:53<00:00, 952.99it/s] \n"
     ]
    },
    {
     "name": "stdout",
     "output_type": "stream",
     "text": [
      "grouping conllu files correctly...\n"
     ]
    }
   ],
   "source": [
    "split = \"train\"\n",
    "train_dataset = {}\n",
    "for field_name in text_fields_map[task].split(\",\"):\n",
    "    updated_text = group_conllu(task, split, field_name, condition)\n",
    "    train_dataset[field_name] = updated_text\n",
    "# extract labels.\n",
    "json_filename = f\"../../data-files/{task}-conllu/{task}-{split}.json\"\n",
    "metadata = json.load(open(json_filename))\n",
    "if task != \"qnli\":\n",
    "    labels = [md[0] for md in metadata[field_name]]\n",
    "    sources = [task for md in metadata[field_name]]\n",
    "    train_dataset[\"label\"] = labels\n",
    "    train_dataset[\"source\"] = sources\n",
    "    train_dataset = Dataset.from_dict(train_dataset)\n",
    "else:\n",
    "    labels = [md[1] for md in metadata[field_name]]\n",
    "    idx = [md[0] for md in metadata[field_name]]\n",
    "    train_dataset[\"label\"] = labels\n",
    "    train_dataset[\"idx\"] = idx\n",
    "    train_dataset = Dataset.from_dict(train_dataset)"
   ]
  },
  {
   "cell_type": "code",
   "execution_count": 112,
   "metadata": {},
   "outputs": [
    {
     "name": "stdout",
     "output_type": "stream",
     "text": [
      "reading in conllu files for task qnli on split validation with field_name question in condition en~fr@N~ja_ktc@V...\n",
      "reading in conllu file: ../../data-files/qnli-conllu/qnli-validation-question-en~fr@N~ja_ktc@V.conllu...\n"
     ]
    },
    {
     "name": "stderr",
     "output_type": "stream",
     "text": [
      "100%|██████████| 5511/5511 [00:01<00:00, 3322.35it/s]\n"
     ]
    },
    {
     "name": "stdout",
     "output_type": "stream",
     "text": [
      "grouping conllu files correctly...\n",
      "reading in conllu files for task qnli on split validation with field_name sentence in condition en~fr@N~ja_ktc@V...\n",
      "reading in conllu file: ../../data-files/qnli-conllu/qnli-validation-sentence-en~fr@N~ja_ktc@V.conllu...\n"
     ]
    },
    {
     "name": "stderr",
     "output_type": "stream",
     "text": [
      "100%|██████████| 5688/5688 [00:05<00:00, 979.23it/s] \n"
     ]
    },
    {
     "name": "stdout",
     "output_type": "stream",
     "text": [
      "grouping conllu files correctly...\n"
     ]
    }
   ],
   "source": [
    "split = \"validation\"\n",
    "validation_dataset = {}\n",
    "for field_name in text_fields_map[task].split(\",\"):\n",
    "    updated_text = group_conllu(task, split, field_name, condition)\n",
    "    validation_dataset[field_name] = updated_text\n",
    "# extract labels.\n",
    "json_filename = f\"../../data-files/{task}-conllu/{task}-{split}.json\"\n",
    "metadata = json.load(open(json_filename))\n",
    "if task != \"qnli\":\n",
    "    labels = [md[0] for md in metadata[field_name]]\n",
    "    sources = [task for md in metadata[field_name]]\n",
    "    validation_dataset[\"label\"] = labels\n",
    "    validation_dataset[\"source\"] = sources\n",
    "    validation_dataset = Dataset.from_dict(validation_dataset)\n",
    "else:\n",
    "    labels = [md[1] for md in metadata[field_name]]\n",
    "    idx = [md[0] for md in metadata[field_name]]\n",
    "    validation_dataset[\"label\"] = labels\n",
    "    validation_dataset[\"idx\"] = idx\n",
    "    validation_dataset = Dataset.from_dict(validation_dataset)"
   ]
  },
  {
   "cell_type": "code",
   "execution_count": 113,
   "metadata": {},
   "outputs": [
    {
     "name": "stdout",
     "output_type": "stream",
     "text": [
      "reading in conllu files for task qnli on split test with field_name question in condition en~fr@N~ja_ktc@V...\n",
      "reading in conllu file: ../../data-files/qnli-conllu/qnli-test-question-en~fr@N~ja_ktc@V.conllu...\n"
     ]
    },
    {
     "name": "stderr",
     "output_type": "stream",
     "text": [
      "100%|██████████| 5512/5512 [00:01<00:00, 4133.05it/s]\n"
     ]
    },
    {
     "name": "stdout",
     "output_type": "stream",
     "text": [
      "grouping conllu files correctly...\n",
      "reading in conllu files for task qnli on split test with field_name sentence in condition en~fr@N~ja_ktc@V...\n",
      "reading in conllu file: ../../data-files/qnli-conllu/qnli-test-sentence-en~fr@N~ja_ktc@V.conllu...\n"
     ]
    },
    {
     "name": "stderr",
     "output_type": "stream",
     "text": [
      "100%|██████████| 5669/5669 [00:05<00:00, 1094.50it/s]"
     ]
    },
    {
     "name": "stdout",
     "output_type": "stream",
     "text": [
      "grouping conllu files correctly...\n"
     ]
    },
    {
     "name": "stderr",
     "output_type": "stream",
     "text": [
      "\n"
     ]
    }
   ],
   "source": [
    "split = \"test\"\n",
    "test_dataset = {}\n",
    "for field_name in text_fields_map[task].split(\",\"):\n",
    "    updated_text = group_conllu(task, split, field_name, condition)\n",
    "    test_dataset[field_name] = updated_text\n",
    "# extract labels.\n",
    "json_filename = f\"../../data-files/{task}-conllu/{task}-{split}.json\"\n",
    "metadata = json.load(open(json_filename))\n",
    "if task != \"qnli\":\n",
    "    labels = [md[0] for md in metadata[field_name]]\n",
    "    sources = [task for md in metadata[field_name]]\n",
    "    test_dataset[\"label\"] = labels\n",
    "    test_dataset[\"source\"] = sources\n",
    "    test_dataset = Dataset.from_dict(test_dataset)\n",
    "else:\n",
    "    labels = [md[1] for md in metadata[field_name]]\n",
    "    idx = [md[0] for md in metadata[field_name]]\n",
    "    test_dataset[\"label\"] = labels\n",
    "    test_dataset[\"idx\"] = idx\n",
    "    test_dataset = Dataset.from_dict(test_dataset)"
   ]
  },
  {
   "cell_type": "code",
   "execution_count": 114,
   "metadata": {},
   "outputs": [],
   "source": [
    "# save it as dataset format.\n",
    "datasets = DatasetDict({\"train\":train_dataset, \n",
    "                        \"validation\":validation_dataset, \n",
    "                        \"test\":test_dataset})"
   ]
  },
  {
   "cell_type": "code",
   "execution_count": 115,
   "metadata": {},
   "outputs": [],
   "source": [
    "datasets.save_to_disk(f\"../../data-files/{task}-{condition}\")"
   ]
  },
  {
   "cell_type": "code",
   "execution_count": 50,
   "metadata": {},
   "outputs": [],
   "source": [
    "# for mrpc, we need to separate a validation and test set by ourself.\n",
    "datasets = DatasetDict({\"train\":train_dataset, \n",
    "                        \"validation\":validation_dataset, \n",
    "                        \"test\":validation_dataset})\n",
    "datasets.save_to_disk(f\"../../data-files/{task}-{condition}\")"
   ]
  },
  {
   "cell_type": "code",
   "execution_count": null,
   "metadata": {},
   "outputs": [],
   "source": []
  }
 ],
 "metadata": {
  "kernelspec": {
   "display_name": "Python 3",
   "language": "python",
   "name": "python3"
  },
  "language_info": {
   "codemirror_mode": {
    "name": "ipython",
    "version": 3
   },
   "file_extension": ".py",
   "mimetype": "text/x-python",
   "name": "python",
   "nbconvert_exporter": "python",
   "pygments_lexer": "ipython3",
   "version": "3.7.6"
  }
 },
 "nbformat": 4,
 "nbformat_minor": 4
}
