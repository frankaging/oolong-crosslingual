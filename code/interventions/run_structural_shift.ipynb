{
 "cells": [
  {
   "cell_type": "code",
   "execution_count": 11,
   "metadata": {},
   "outputs": [],
   "source": [
    "# Get the training, and split the file, and galactic change.\n",
    "filename = \"../../data-files/wikitext-15M-conllu/wikitext-15M-test.conllu\"\n",
    "with open(filename) as f:\n",
    "    content = f.readlines()"
   ]
  },
  {
   "cell_type": "code",
   "execution_count": 12,
   "metadata": {},
   "outputs": [],
   "source": [
    "count = 0\n",
    "for c in content:\n",
    "    if len(c.strip()) == 0:\n",
    "        count += 1"
   ]
  },
  {
   "cell_type": "code",
   "execution_count": 14,
   "metadata": {},
   "outputs": [
    {
     "data": {
      "text/plain": [
       "['1\\t=\\t_\\tPUNCT\\tNFP\\t_\\t0\\t_\\t_\\tstart_char=0|end_char=1\\n',\n",
       " '2\\tRobert\\t_\\tPROPN\\tNNP\\tNumber=Sing\\t1\\t_\\t_\\tstart_char=2|end_char=8\\n',\n",
       " '3\\tBoulter\\t_\\tPROPN\\tNNP\\tNumber=Sing\\t2\\t_\\t_\\tstart_char=9|end_char=16\\n',\n",
       " '4\\t=\\t_\\tPUNCT\\t,\\t_\\t3\\t_\\t_\\tstart_char=17|end_char=18\\n',\n",
       " '\\n',\n",
       " '1\\tRobert\\t_\\tPROPN\\tNNP\\tNumber=Sing\\t0\\t_\\t_\\tstart_char=0|end_char=6\\n',\n",
       " '2\\tBoulter\\t_\\tPROPN\\tNNP\\tNumber=Sing\\t1\\t_\\t_\\tstart_char=7|end_char=14\\n',\n",
       " '3\\tis\\t_\\tAUX\\tVBZ\\tMood=Ind|Number=Sing|Person=3|Tense=Pres|VerbForm=Fin\\t2\\t_\\t_\\tstart_char=15|end_char=17\\n',\n",
       " '4\\tan\\t_\\tDET\\tDT\\tDefinite=Ind|PronType=Art\\t3\\t_\\t_\\tstart_char=18|end_char=20\\n',\n",
       " '5\\tEnglish\\t_\\tADJ\\tJJ\\tDegree=Pos\\t4\\t_\\t_\\tstart_char=21|end_char=28\\n',\n",
       " '6\\tfilm\\t_\\tNOUN\\tNN\\tNumber=Sing\\t5\\t_\\t_\\tstart_char=29|end_char=33\\n',\n",
       " '7\\t,\\t_\\tPUNCT\\t,\\t_\\t6\\t_\\t_\\tstart_char=34|end_char=35\\n',\n",
       " '8\\ttelevision\\t_\\tNOUN\\tNN\\tNumber=Sing\\t7\\t_\\t_\\tstart_char=36|end_char=46\\n',\n",
       " '9\\tand\\t_\\tCCONJ\\tCC\\t_\\t8\\t_\\t_\\tstart_char=47|end_char=50\\n',\n",
       " '10\\ttheatre\\t_\\tNOUN\\tNN\\tNumber=Sing\\t9\\t_\\t_\\tstart_char=51|end_char=58\\n',\n",
       " '11\\tactor\\t_\\tNOUN\\tNN\\tNumber=Sing\\t10\\t_\\t_\\tstart_char=59|end_char=64\\n',\n",
       " '12\\t.\\t_\\tPUNCT\\t.\\t_\\t11\\t_\\t_\\tstart_char=65|end_char=66\\n',\n",
       " '\\n',\n",
       " '1\\tHe\\t_\\tPRON\\tPRP\\tCase=Nom|Gender=Masc|Number=Sing|Person=3|PronType=Prs\\t0\\t_\\t_\\tstart_char=67|end_char=69\\n',\n",
       " '2\\thad\\t_\\tVERB\\tVBD\\tMood=Ind|Number=Sing|Person=3|Tense=Past|VerbForm=Fin\\t1\\t_\\t_\\tstart_char=70|end_char=73\\n']"
      ]
     },
     "execution_count": 14,
     "metadata": {},
     "output_type": "execute_result"
    }
   ],
   "source": [
    "content[:20]"
   ]
  },
  {
   "cell_type": "code",
   "execution_count": 1,
   "metadata": {},
   "outputs": [],
   "source": [
    "# We will run the following line to convert our conllu file using JAVA.\n",
    "# types of shifts:\n",
    "# wiki-text (galactic-en~fr@N~fr@V)\n",
    "# wiki-text (galactic-en~ja_ktc@N~ja_ktc@V)\n",
    "# wiki-text (galactic-en~fr@N~ja_ktc@V)"
   ]
  },
  {
   "cell_type": "code",
   "execution_count": 5,
   "metadata": {},
   "outputs": [
    {
     "name": "stdout",
     "output_type": "stream",
     "text": [
      "java -cp ../../submodules/gdtreebank//bin/gdgen.jar -Xmx8g datagen.GalacticGen --task test --inputTB ../../data-files/wikitext-15M-conllu/wikitext-15M-train.conllu --outputTB ../../data-files/wikitext-15M-conllu/wikitext-15M-train-en~fr@N~fr@V.conllu --verbose 1 --seed 0 --supStrateModelNOUN ../../submodules/gdtreebank//models/GD_French/fr@N.orm --subStrateModelNOUN ../../submodules/gdtreebank//models/GD_English/en@N.orm --supStrateModelVERB ../../submodules/gdtreebank//models/GD_French/fr@V.orm --subStrateModelVERB ../../submodules/gdtreebank//models/GD_English/en@V.orm\n",
      "0        INFO                GalacticGen - Running with args: --task test --inputTB ../../data-files/wikitext-15M-conllu/wikitext-15M-train.conllu --outputTB ../../data-files/wikitext-15M-conllu/wikitext-15M-train-en~fr@N~fr@V.conllu --verbose 1 --seed 0 --supStrateModelNOUN ../../submodules/gdtreebank//models/GD_French/fr@N.orm --subStrateModelNOUN ../../submodules/gdtreebank//models/GD_English/en@N.orm --supStrateModelVERB ../../submodules/gdtreebank//models/GD_French/fr@V.orm --subStrateModelVERB ../../submodules/gdtreebank//models/GD_English/en@V.orm\n",
      "WARNING: pseudo random number generator is not thread safe\n",
      "SEED=123456789101112\n",
      "SEED=0\n",
      "31 [main] INFO edu.jhu.pacaya.util.Threads - Initialized default thread pool to 10 threads. (This must be closed by Threads.shutdownDefaultPool)\n",
      "309      INFO                GalacticGen - permutable Nodes:VERB NOUN\n",
      "317      INFO                   TreeBank - Loading proposal grammar from Standard TreeBank:wikitext-15M-train.conllu\n",
      "java.lang.OutOfMemoryError: GC overhead limit exceeded\n",
      "\tat java.util.Arrays.copyOfRange(Arrays.java:3664)\n",
      "\tat java.lang.String.<init>(String.java:207)\n",
      "\tat java.lang.String.substring(String.java:1969)\n",
      "\tat java.util.Scanner.nextLine(Scanner.java:1544)\n",
      "\tat grammar.TreeBank.readTreesInUniversalConLLFormat(TreeBank.java:89)\n",
      "\tat datagen.GalacticGen.test(GalacticGen.java:129)\n",
      "\tat datagen.GalacticGen.main(GalacticGen.java:156)\n",
      "346577 [main] INFO edu.jhu.pacaya.util.Threads - Attempting shutdown of ExecutorService.\n"
     ]
    }
   ],
   "source": [
    "! GALACTIC_ROOT=../../submodules/gdtreebank/ \\\n",
    "../../submodules/gdtreebank/bin/gd-translate \\\n",
    "--input ../../data-files/wikitext-15M-conllu/wikitext-15M-train.conllu \\\n",
    "--spec en~fr@N~fr@V\n",
    "\n",
    "# --input ../../data-files/wikitext-15M-conllu/wikitext-15M-train.conllu \\\n",
    "# --input ../../data-files/wikitext-15M-conllu/wikitext-15M-test.conllu \\\n",
    "# --input ../../data-files/wikitext-15M-conllu/wikitext-15M-validation.conllu \\"
   ]
  },
  {
   "cell_type": "code",
   "execution_count": null,
   "metadata": {},
   "outputs": [],
   "source": []
  }
 ],
 "metadata": {
  "kernelspec": {
   "display_name": "Python 3",
   "language": "python",
   "name": "python3"
  },
  "language_info": {
   "codemirror_mode": {
    "name": "ipython",
    "version": 3
   },
   "file_extension": ".py",
   "mimetype": "text/x-python",
   "name": "python",
   "nbconvert_exporter": "python",
   "pygments_lexer": "ipython3",
   "version": "3.7.3"
  }
 },
 "nbformat": 4,
 "nbformat_minor": 4
}
