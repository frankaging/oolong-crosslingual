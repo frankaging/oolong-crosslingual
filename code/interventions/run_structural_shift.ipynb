{
 "cells": [
  {
   "cell_type": "markdown",
   "metadata": {},
   "source": [
    "#### Perform structural shifts of the datasets\n",
    "This file assumes you got the conllu files for your dataset."
   ]
  },
  {
   "cell_type": "code",
   "execution_count": 1,
   "metadata": {},
   "outputs": [],
   "source": [
    "import os\n",
    "from stanza.utils.conll import CoNLL\n",
    "from tqdm import tqdm\n",
    "from datasets import DatasetDict\n",
    "from datasets import Dataset\n",
    "from datasets import load_dataset\n",
    "from datasets import list_datasets\n",
    "import json\n",
    "\n",
    "def chunks(lst, n):\n",
    "    \"\"\"Yield successive n-sized chunks from lst.\"\"\"\n",
    "    for i in range(0, len(lst), n):\n",
    "        yield lst[i:i + n]\n",
    "        \n",
    "def dict2text(stanza_sentence_dict):\n",
    "    tokens = []\n",
    "    for token in stanza_sentence_dict:\n",
    "        tokens += [token[\"text\"]]\n",
    "    return \" \".join(tokens)"
   ]
  },
  {
   "cell_type": "markdown",
   "metadata": {},
   "source": [
    "You can split bigger dataset into smaller chunks so that they fit in your memory."
   ]
  },
  {
   "cell_type": "code",
   "execution_count": 2,
   "metadata": {},
   "outputs": [],
   "source": [
    "# Get the training, and split the file, and galactic change.\n",
    "filename = \"../../data-files/wikitext-15M-conllu/wikitext-15M-train.conllu\"\n",
    "json_filename = \"../../data-files/wikitext-15M-conllu/wikitext-15M-train.json\"\n",
    "with open(filename) as f:\n",
    "    content = f.readlines()\n",
    "    \n",
    "count = 0\n",
    "current_file = []\n",
    "partition_file = []\n",
    "for c in content:\n",
    "    current_file += [c]\n",
    "    if len(c.strip()) == 0:\n",
    "        partition_file += [current_file]\n",
    "        current_file = []\n",
    "        count += 1\n",
    "sentence_group = json.load(open(json_filename))\n",
    "assert count == sum(sentence_group)"
   ]
  },
  {
   "cell_type": "code",
   "execution_count": 3,
   "metadata": {},
   "outputs": [
    {
     "name": "stdout",
     "output_type": "stream",
     "text": [
      "write to ../../data-files/wikitext-15M-conllu/wikitext-15M-train-partition-0.conllu with doc_number=59596\n",
      "write to ../../data-files/wikitext-15M-conllu/wikitext-15M-train-partition-1.conllu with doc_number=59596\n",
      "write to ../../data-files/wikitext-15M-conllu/wikitext-15M-train-partition-2.conllu with doc_number=59596\n",
      "write to ../../data-files/wikitext-15M-conllu/wikitext-15M-train-partition-3.conllu with doc_number=59596\n",
      "write to ../../data-files/wikitext-15M-conllu/wikitext-15M-train-partition-4.conllu with doc_number=59596\n",
      "write to ../../data-files/wikitext-15M-conllu/wikitext-15M-train-partition-5.conllu with doc_number=59596\n",
      "write to ../../data-files/wikitext-15M-conllu/wikitext-15M-train-partition-6.conllu with doc_number=59596\n",
      "write to ../../data-files/wikitext-15M-conllu/wikitext-15M-train-partition-7.conllu with doc_number=59596\n",
      "write to ../../data-files/wikitext-15M-conllu/wikitext-15M-train-partition-8.conllu with doc_number=59596\n",
      "write to ../../data-files/wikitext-15M-conllu/wikitext-15M-train-partition-9.conllu with doc_number=59596\n",
      "write to ../../data-files/wikitext-15M-conllu/wikitext-15M-train-partition-10.conllu with doc_number=6\n"
     ]
    }
   ],
   "source": [
    "assert count == len(partition_file)\n",
    "\n",
    "NUM_PARTITION = 10\n",
    "partition_file = [c for c in chunks(partition_file, len(partition_file)//NUM_PARTITION)]\n",
    "output_dir = \"../../data-files/wikitext-15M-conllu\"\n",
    "basename  = \"wikitext-15M-train\"\n",
    "file_counter = 0\n",
    "for file in partition_file:\n",
    "    # each file is a list of doc\n",
    "    output_file = f\"{output_dir}/{basename}-partition-{file_counter}.conllu\"\n",
    "    with open(output_file, 'a') as the_file:\n",
    "        for f in file:\n",
    "            for l in f:\n",
    "                the_file.write(l)\n",
    "    print(f\"write to {output_file} with doc_number={len(file)}\")\n",
    "    file_counter += 1"
   ]
  },
  {
   "cell_type": "markdown",
   "metadata": {},
   "source": [
    "You will need to call following java scripts to perform structural changes."
   ]
  },
  {
   "cell_type": "code",
   "execution_count": 4,
   "metadata": {},
   "outputs": [],
   "source": [
    "# We will run the following line to convert our conllu file using JAVA.\n",
    "# types of shifts:\n",
    "# wiki-text (en~fr@N~fr@V)\n",
    "# wiki-text (en~ja_ktc@N~ja_ktc@V)\n",
    "# wiki-text (en~fr@N~ja_ktc@V)"
   ]
  },
  {
   "cell_type": "code",
   "execution_count": 19,
   "metadata": {},
   "outputs": [],
   "source": [
    "# condition = \"en~fr@N~fr@V\"\n",
    "#  condition = \"en~ja_ktc@N~ja_ktc@V\"\n",
    "condition = \"en~fr@N~ja_ktc@V\""
   ]
  },
  {
   "cell_type": "code",
   "execution_count": 20,
   "metadata": {},
   "outputs": [
    {
     "name": "stdout",
     "output_type": "stream",
     "text": [
      "starting command\n"
     ]
    },
    {
     "data": {
      "text/plain": [
       "0"
      ]
     },
     "execution_count": 20,
     "metadata": {},
     "output_type": "execute_result"
    }
   ],
   "source": [
    "cmd = f\"GALACTIC_ROOT=../../submodules/gdtreebank/ \\\n",
    "        ../../submodules/gdtreebank/bin/gd-translate \\\n",
    "        --input ../../data-files/wikitext-15M-conllu/wikitext-15M-validation.conllu \\\n",
    "        --spec {condition}\"\n",
    "print(f\"starting command\")\n",
    "os.system(cmd)"
   ]
  },
  {
   "cell_type": "code",
   "execution_count": 21,
   "metadata": {},
   "outputs": [
    {
     "name": "stdout",
     "output_type": "stream",
     "text": [
      "starting command\n"
     ]
    },
    {
     "data": {
      "text/plain": [
       "0"
      ]
     },
     "execution_count": 21,
     "metadata": {},
     "output_type": "execute_result"
    }
   ],
   "source": [
    "cmd = f\"GALACTIC_ROOT=../../submodules/gdtreebank/ \\\n",
    "        ../../submodules/gdtreebank/bin/gd-translate \\\n",
    "        --input ../../data-files/wikitext-15M-conllu/wikitext-15M-test.conllu \\\n",
    "        --spec {condition}\"\n",
    "print(f\"starting command\")\n",
    "os.system(cmd)"
   ]
  },
  {
   "cell_type": "code",
   "execution_count": 22,
   "metadata": {},
   "outputs": [
    {
     "name": "stdout",
     "output_type": "stream",
     "text": [
      "starting command-0\n",
      "starting command-1\n",
      "starting command-2\n",
      "starting command-3\n",
      "starting command-4\n",
      "starting command-5\n",
      "starting command-6\n",
      "starting command-7\n",
      "starting command-8\n",
      "starting command-9\n",
      "starting command-10\n"
     ]
    }
   ],
   "source": [
    "# run java program over smaller files.\n",
    "for i in range(NUM_PARTITION+1):\n",
    "    cmd = f\"GALACTIC_ROOT=../../submodules/gdtreebank/ \\\n",
    "            ../../submodules/gdtreebank/bin/gd-translate \\\n",
    "            --input ../../data-files/wikitext-15M-conllu/wikitext-15M-train-partition-{i}.conllu \\\n",
    "            --spec {condition}\"\n",
    "    print(f\"starting command-{i}\")\n",
    "    os.system(cmd)\n",
    "\n",
    "# --input ../../data-files/wikitext-15M-conllu/wikitext-15M-train.conllu \\\n",
    "# --input ../../data-files/wikitext-15M-conllu/wikitext-15M-test.conllu \\\n",
    "# --input ../../data-files/wikitext-15M-conllu/wikitext-15M-validation.conllu \\"
   ]
  },
  {
   "cell_type": "markdown",
   "metadata": {},
   "source": [
    "Now, we need to combine and transfer conllu files into dataset."
   ]
  },
  {
   "cell_type": "code",
   "execution_count": 23,
   "metadata": {},
   "outputs": [
    {
     "name": "stdout",
     "output_type": "stream",
     "text": [
      "processing: ../../data-files/wikitext-15M-conllu/wikitext-15M-train-partition-0-en~fr@N~ja_ktc@V.conllu\n",
      "processing: ../../data-files/wikitext-15M-conllu/wikitext-15M-train-partition-1-en~fr@N~ja_ktc@V.conllu\n",
      "processing: ../../data-files/wikitext-15M-conllu/wikitext-15M-train-partition-2-en~fr@N~ja_ktc@V.conllu\n",
      "processing: ../../data-files/wikitext-15M-conllu/wikitext-15M-train-partition-3-en~fr@N~ja_ktc@V.conllu\n",
      "processing: ../../data-files/wikitext-15M-conllu/wikitext-15M-train-partition-4-en~fr@N~ja_ktc@V.conllu\n",
      "processing: ../../data-files/wikitext-15M-conllu/wikitext-15M-train-partition-5-en~fr@N~ja_ktc@V.conllu\n",
      "processing: ../../data-files/wikitext-15M-conllu/wikitext-15M-train-partition-6-en~fr@N~ja_ktc@V.conllu\n",
      "processing: ../../data-files/wikitext-15M-conllu/wikitext-15M-train-partition-7-en~fr@N~ja_ktc@V.conllu\n",
      "processing: ../../data-files/wikitext-15M-conllu/wikitext-15M-train-partition-8-en~fr@N~ja_ktc@V.conllu\n",
      "processing: ../../data-files/wikitext-15M-conllu/wikitext-15M-train-partition-9-en~fr@N~ja_ktc@V.conllu\n",
      "processing: ../../data-files/wikitext-15M-conllu/wikitext-15M-train-partition-10-en~fr@N~ja_ktc@V.conllu\n"
     ]
    }
   ],
   "source": [
    "# first, let us combine all sub-chunks together.\n",
    "all_content = []\n",
    "for i in range(NUM_PARTITION+1):\n",
    "    subfile_name = f\"../../data-files/wikitext-15M-conllu/wikitext-15M-train-partition-{i}-{condition}.conllu\"\n",
    "    with open(subfile_name) as f:\n",
    "        content = f.readlines()\n",
    "    all_content.extend(content)\n",
    "    print(f\"processing: {subfile_name}\")"
   ]
  },
  {
   "cell_type": "code",
   "execution_count": 24,
   "metadata": {},
   "outputs": [
    {
     "name": "stdout",
     "output_type": "stream",
     "text": [
      "writing all combined files to: ../../data-files/wikitext-15M-conllu/wikitext-15M-train-en~fr@N~ja_ktc@V.conllu\n"
     ]
    }
   ],
   "source": [
    "jumbo_file = f\"../../data-files/wikitext-15M-conllu/wikitext-15M-train-{condition}.conllu\"\n",
    "print(f\"writing all combined files to: {jumbo_file}\")\n",
    "with open(jumbo_file, 'a') as the_file:\n",
    "    for l in all_content:\n",
    "        the_file.write(l)"
   ]
  },
  {
   "cell_type": "code",
   "execution_count": 25,
   "metadata": {},
   "outputs": [],
   "source": [
    "# removing all files.\n",
    "for i in range(NUM_PARTITION+1):\n",
    "    subfile_name = f\"../../data-files/wikitext-15M-conllu/wikitext-15M-train-partition-{i}-{condition}.conllu\"\n",
    "    os.remove(subfile_name)"
   ]
  },
  {
   "cell_type": "code",
   "execution_count": 26,
   "metadata": {},
   "outputs": [],
   "source": [
    "# WARNING: run this at the end removing all files.\n",
    "for i in range(NUM_PARTITION+1):\n",
    "    subfile_name = f\"../../data-files/wikitext-15M-conllu/wikitext-15M-train-partition-{i}.conllu\"\n",
    "    os.remove(subfile_name)"
   ]
  },
  {
   "cell_type": "markdown",
   "metadata": {},
   "source": [
    "We then need to load all conllu files and turn them into wiki-text data format."
   ]
  },
  {
   "cell_type": "code",
   "execution_count": 28,
   "metadata": {},
   "outputs": [],
   "source": [
    "condition = \"en~fr@N~fr@V\"\n",
    "# condition = \"en~ja_ktc@N~ja_ktc@V\"\n",
    "# condition = \"en~fr@N~ja_ktc@V\""
   ]
  },
  {
   "cell_type": "code",
   "execution_count": null,
   "metadata": {},
   "outputs": [
    {
     "name": "stdout",
     "output_type": "stream",
     "text": [
      "reading in conllu file: ../../data-files/wikitext-15M-conllu/wikitext-15M-train-en~fr@N~fr@V.conllu...\n"
     ]
    }
   ],
   "source": [
    "conllu_filename = f\"../../data-files/wikitext-15M-conllu/wikitext-15M-train-{condition}.conllu\"\n",
    "print(f\"reading in conllu file: {conllu_filename}...\")\n",
    "to_sent_doc = CoNLL.conll2doc(conllu_filename)\n",
    "texts = []\n",
    "for i in tqdm(range(len(to_sent_doc.sentences))):\n",
    "    text = dict2text(to_sent_doc.sentences[i].to_dict())\n",
    "    texts += [text]"
   ]
  },
  {
   "cell_type": "code",
   "execution_count": 32,
   "metadata": {},
   "outputs": [],
   "source": [
    "json_filename = f\"../../data-files/wikitext-15M-conllu/wikitext-15M-train.json\"\n",
    "sentence_group = json.load(open(json_filename))\n",
    "curr = 0\n",
    "for g in sentence_group:\n",
    "    combined_text = texts[curr:curr+g]\n",
    "    print(\" \".join(combined_text))\n",
    "    curr += g"
   ]
  },
  {
   "cell_type": "code",
   "execution_count": 29,
   "metadata": {},
   "outputs": [
    {
     "name": "stdout",
     "output_type": "stream",
     "text": [
      "reading in conllu file: ../../data-files/wikitext-15M-conllu/wikitext-15M-train-en~fr@N~fr@V.conllu...\n"
     ]
    },
    {
     "ename": "KeyboardInterrupt",
     "evalue": "",
     "output_type": "error",
     "traceback": [
      "\u001b[0;31m---------------------------------------------------------------------------\u001b[0m",
      "\u001b[0;31mKeyboardInterrupt\u001b[0m                         Traceback (most recent call last)",
      "\u001b[0;32m<ipython-input-29-1eba6421fd91>\u001b[0m in \u001b[0;36m<module>\u001b[0;34m\u001b[0m\n\u001b[1;32m      1\u001b[0m \u001b[0mconllu_filename\u001b[0m \u001b[0;34m=\u001b[0m \u001b[0;34mf\"../../data-files/wikitext-15M-conllu/wikitext-15M-train-{condition}.conllu\"\u001b[0m\u001b[0;34m\u001b[0m\u001b[0;34m\u001b[0m\u001b[0m\n\u001b[1;32m      2\u001b[0m \u001b[0mprint\u001b[0m\u001b[0;34m(\u001b[0m\u001b[0;34mf\"reading in conllu file: {conllu_filename}...\"\u001b[0m\u001b[0;34m)\u001b[0m\u001b[0;34m\u001b[0m\u001b[0;34m\u001b[0m\u001b[0m\n\u001b[0;32m----> 3\u001b[0;31m \u001b[0mto_sent_doc\u001b[0m \u001b[0;34m=\u001b[0m \u001b[0mCoNLL\u001b[0m\u001b[0;34m.\u001b[0m\u001b[0mconll2doc\u001b[0m\u001b[0;34m(\u001b[0m\u001b[0mconllu_filename\u001b[0m\u001b[0;34m)\u001b[0m\u001b[0;34m\u001b[0m\u001b[0;34m\u001b[0m\u001b[0m\n\u001b[0m\u001b[1;32m      4\u001b[0m \u001b[0mtexts\u001b[0m \u001b[0;34m=\u001b[0m \u001b[0;34m[\u001b[0m\u001b[0;34m]\u001b[0m\u001b[0;34m\u001b[0m\u001b[0;34m\u001b[0m\u001b[0m\n\u001b[1;32m      5\u001b[0m \u001b[0;32mfor\u001b[0m \u001b[0mi\u001b[0m \u001b[0;32min\u001b[0m \u001b[0mtqdm\u001b[0m\u001b[0;34m(\u001b[0m\u001b[0mrange\u001b[0m\u001b[0;34m(\u001b[0m\u001b[0mlen\u001b[0m\u001b[0;34m(\u001b[0m\u001b[0mto_sent_doc\u001b[0m\u001b[0;34m.\u001b[0m\u001b[0msentences\u001b[0m\u001b[0;34m)\u001b[0m\u001b[0;34m)\u001b[0m\u001b[0;34m)\u001b[0m\u001b[0;34m:\u001b[0m\u001b[0;34m\u001b[0m\u001b[0;34m\u001b[0m\u001b[0m\n",
      "\u001b[0;32m~/anaconda3/lib/python3.7/site-packages/stanza/utils/conll.py\u001b[0m in \u001b[0;36mconll2doc\u001b[0;34m(input_file, input_str, ignore_gapping)\u001b[0m\n\u001b[1;32m    115\u001b[0m     \u001b[0;34m@\u001b[0m\u001b[0mstaticmethod\u001b[0m\u001b[0;34m\u001b[0m\u001b[0;34m\u001b[0m\u001b[0m\n\u001b[1;32m    116\u001b[0m     \u001b[0;32mdef\u001b[0m \u001b[0mconll2doc\u001b[0m\u001b[0;34m(\u001b[0m\u001b[0minput_file\u001b[0m\u001b[0;34m=\u001b[0m\u001b[0;32mNone\u001b[0m\u001b[0;34m,\u001b[0m \u001b[0minput_str\u001b[0m\u001b[0;34m=\u001b[0m\u001b[0;32mNone\u001b[0m\u001b[0;34m,\u001b[0m \u001b[0mignore_gapping\u001b[0m\u001b[0;34m=\u001b[0m\u001b[0;32mTrue\u001b[0m\u001b[0;34m)\u001b[0m\u001b[0;34m:\u001b[0m\u001b[0;34m\u001b[0m\u001b[0;34m\u001b[0m\u001b[0m\n\u001b[0;32m--> 117\u001b[0;31m         \u001b[0mdoc_dict\u001b[0m\u001b[0;34m,\u001b[0m \u001b[0mdoc_comments\u001b[0m \u001b[0;34m=\u001b[0m \u001b[0mCoNLL\u001b[0m\u001b[0;34m.\u001b[0m\u001b[0mconll2dict\u001b[0m\u001b[0;34m(\u001b[0m\u001b[0minput_file\u001b[0m\u001b[0;34m,\u001b[0m \u001b[0minput_str\u001b[0m\u001b[0;34m,\u001b[0m \u001b[0mignore_gapping\u001b[0m\u001b[0;34m)\u001b[0m\u001b[0;34m\u001b[0m\u001b[0;34m\u001b[0m\u001b[0m\n\u001b[0m\u001b[1;32m    118\u001b[0m         \u001b[0;32mreturn\u001b[0m \u001b[0mDocument\u001b[0m\u001b[0;34m(\u001b[0m\u001b[0mdoc_dict\u001b[0m\u001b[0;34m,\u001b[0m \u001b[0mtext\u001b[0m\u001b[0;34m=\u001b[0m\u001b[0;32mNone\u001b[0m\u001b[0;34m,\u001b[0m \u001b[0mcomments\u001b[0m\u001b[0;34m=\u001b[0m\u001b[0mdoc_comments\u001b[0m\u001b[0;34m)\u001b[0m\u001b[0;34m\u001b[0m\u001b[0;34m\u001b[0m\u001b[0m\n\u001b[1;32m    119\u001b[0m \u001b[0;34m\u001b[0m\u001b[0m\n",
      "\u001b[0;32m~/anaconda3/lib/python3.7/site-packages/stanza/utils/conll.py\u001b[0m in \u001b[0;36mconll2dict\u001b[0;34m(input_file, input_str, ignore_gapping)\u001b[0m\n\u001b[1;32m    109\u001b[0m         \u001b[0;32melse\u001b[0m\u001b[0;34m:\u001b[0m\u001b[0;34m\u001b[0m\u001b[0;34m\u001b[0m\u001b[0m\n\u001b[1;32m    110\u001b[0m             \u001b[0minfile\u001b[0m \u001b[0;34m=\u001b[0m \u001b[0mopen\u001b[0m\u001b[0;34m(\u001b[0m\u001b[0minput_file\u001b[0m\u001b[0;34m,\u001b[0m \u001b[0mencoding\u001b[0m\u001b[0;34m=\u001b[0m\u001b[0;34m'utf-8'\u001b[0m\u001b[0;34m)\u001b[0m\u001b[0;34m\u001b[0m\u001b[0;34m\u001b[0m\u001b[0m\n\u001b[0;32m--> 111\u001b[0;31m         \u001b[0mdoc_conll\u001b[0m\u001b[0;34m,\u001b[0m \u001b[0mdoc_comments\u001b[0m \u001b[0;34m=\u001b[0m \u001b[0mCoNLL\u001b[0m\u001b[0;34m.\u001b[0m\u001b[0mload_conll\u001b[0m\u001b[0;34m(\u001b[0m\u001b[0minfile\u001b[0m\u001b[0;34m,\u001b[0m \u001b[0mignore_gapping\u001b[0m\u001b[0;34m)\u001b[0m\u001b[0;34m\u001b[0m\u001b[0;34m\u001b[0m\u001b[0m\n\u001b[0m\u001b[1;32m    112\u001b[0m         \u001b[0mdoc_dict\u001b[0m \u001b[0;34m=\u001b[0m \u001b[0mCoNLL\u001b[0m\u001b[0;34m.\u001b[0m\u001b[0mconvert_conll\u001b[0m\u001b[0;34m(\u001b[0m\u001b[0mdoc_conll\u001b[0m\u001b[0;34m)\u001b[0m\u001b[0;34m\u001b[0m\u001b[0;34m\u001b[0m\u001b[0m\n\u001b[1;32m    113\u001b[0m         \u001b[0;32mreturn\u001b[0m \u001b[0mdoc_dict\u001b[0m\u001b[0;34m,\u001b[0m \u001b[0mdoc_comments\u001b[0m\u001b[0;34m\u001b[0m\u001b[0;34m\u001b[0m\u001b[0m\n",
      "\u001b[0;32m~/anaconda3/lib/python3.7/site-packages/stanza/utils/conll.py\u001b[0m in \u001b[0;36mload_conll\u001b[0;34m(f, ignore_gapping)\u001b[0m\n\u001b[1;32m     54\u001b[0m                     \u001b[0;32mcontinue\u001b[0m\u001b[0;34m\u001b[0m\u001b[0;34m\u001b[0m\u001b[0m\n\u001b[1;32m     55\u001b[0m                 \u001b[0;32mif\u001b[0m \u001b[0mlen\u001b[0m\u001b[0;34m(\u001b[0m\u001b[0marray\u001b[0m\u001b[0;34m)\u001b[0m \u001b[0;34m!=\u001b[0m \u001b[0mFIELD_NUM\u001b[0m\u001b[0;34m:\u001b[0m\u001b[0;34m\u001b[0m\u001b[0;34m\u001b[0m\u001b[0m\n\u001b[0;32m---> 56\u001b[0;31m                     \u001b[0marray\u001b[0m \u001b[0;34m=\u001b[0m \u001b[0marray\u001b[0m\u001b[0;34m[\u001b[0m\u001b[0;34m:\u001b[0m\u001b[0mFIELD_NUM\u001b[0m\u001b[0;34m]\u001b[0m \u001b[0;31m# workaround to truncate!\u001b[0m\u001b[0;34m\u001b[0m\u001b[0;34m\u001b[0m\u001b[0m\n\u001b[0m\u001b[1;32m     57\u001b[0m                 \u001b[0;32massert\u001b[0m \u001b[0mlen\u001b[0m\u001b[0;34m(\u001b[0m\u001b[0marray\u001b[0m\u001b[0;34m)\u001b[0m \u001b[0;34m==\u001b[0m \u001b[0mFIELD_NUM\u001b[0m\u001b[0;34m,\u001b[0m\u001b[0;31m \u001b[0m\u001b[0;31m\\\u001b[0m\u001b[0;34m\u001b[0m\u001b[0;34m\u001b[0m\u001b[0m\n\u001b[1;32m     58\u001b[0m                         \u001b[0;34mf\"Cannot parse CoNLL line {line_idx+1}: expecting {FIELD_NUM} fields, {len(array)} found.\\n  {array}\"\u001b[0m\u001b[0;34m\u001b[0m\u001b[0;34m\u001b[0m\u001b[0m\n",
      "\u001b[0;31mKeyboardInterrupt\u001b[0m: "
     ]
    }
   ],
   "source": [
    "# We need to readin the json file as well as the conllu file to\n",
    "# merge sentences into original paragraphs.\n",
    "\n",
    "conllu_filename = f\"../../data-files/wikitext-15M-conllu/wikitext-15M-train-{condition}.conllu\"\n",
    "print(f\"reading in conllu file: {conllu_filename}...\")\n",
    "to_sent_doc = CoNLL.conll2doc(conllu_filename)\n",
    "texts = []\n",
    "for i in tqdm(range(len(to_sent_doc.sentences))):\n",
    "    text = dict2text(to_sent_doc.sentences[i].to_dict())\n",
    "    texts += [text]\n",
    "train_dataset = {\n",
    "    \"text\": texts\n",
    "}\n",
    "train_dataset = Dataset.from_dict(train_dataset)\n",
    "\n",
    "conllu_filename = f\"../../data-files/wikitext-15M-conllu/wikitext-15M-validation-{condition}.conllu\"\n",
    "print(f\"reading in conllu file: {conllu_filename}...\")\n",
    "to_sent_doc = CoNLL.conll2doc(conllu_filename)\n",
    "texts = []\n",
    "for i in tqdm(range(len(to_sent_doc.sentences))):\n",
    "    text = dict2text(to_sent_doc.sentences[i].to_dict())\n",
    "    texts += [text]\n",
    "validation_dataset = {\n",
    "    \"text\": texts\n",
    "}\n",
    "validation_dataset = Dataset.from_dict(validation_dataset)\n",
    "\n",
    "conllu_filename = f\"../../data-files/wikitext-15M-conllu/wikitext-15M-test-{condition}.conllu\"\n",
    "print(f\"reading in conllu file: {conllu_filename}...\")\n",
    "to_sent_doc = CoNLL.conll2doc(conllu_filename)\n",
    "texts = []\n",
    "for i in tqdm(range(len(to_sent_doc.sentences))):\n",
    "    text = dict2text(to_sent_doc.sentences[i].to_dict())\n",
    "    texts += [text]\n",
    "test_dataset = {\n",
    "    \"text\": texts\n",
    "}\n",
    "test_dataset = Dataset.from_dict(test_dataset)"
   ]
  },
  {
   "cell_type": "code",
   "execution_count": 64,
   "metadata": {},
   "outputs": [],
   "source": [
    "# save it as dataset format.\n",
    "datasets = DatasetDict({\"train\":train_dataset, \n",
    "                        \"validation\":validation_dataset, \n",
    "                        \"test\":test_dataset})\n",
    "datasets.save_to_disk(f\"../../data-files/wikitext-15M-{condition}\")"
   ]
  }
 ],
 "metadata": {
  "kernelspec": {
   "display_name": "Python 3",
   "language": "python",
   "name": "python3"
  },
  "language_info": {
   "codemirror_mode": {
    "name": "ipython",
    "version": 3
   },
   "file_extension": ".py",
   "mimetype": "text/x-python",
   "name": "python",
   "nbconvert_exporter": "python",
   "pygments_lexer": "ipython3",
   "version": "3.7.3"
  }
 },
 "nbformat": 4,
 "nbformat_minor": 4
}
