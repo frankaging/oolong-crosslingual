{
 "cells": [
  {
   "cell_type": "code",
   "execution_count": 49,
   "metadata": {},
   "outputs": [],
   "source": [
    "import os\n",
    "import argparse\n",
    "from datasets import DatasetDict\n",
    "from datasets import Dataset\n",
    "from datasets import load_dataset\n",
    "from datasets import list_datasets\n",
    "import logging\n",
    "import pathlib\n",
    "from tqdm import tqdm, trange\n",
    "import random\n",
    "import copy\n",
    "import fasttext\n",
    "import fasttext.util\n",
    "import torch\n",
    "import torch.nn as nn\n",
    "from nltk.stem import PorterStemmer"
   ]
  },
  {
   "cell_type": "code",
   "execution_count": 2,
   "metadata": {},
   "outputs": [],
   "source": [
    "def arg_parse():\n",
    "    parser = argparse.ArgumentParser(description='semantic shift config.')\n",
    "    # Experiment management:\n",
    "    parser.add_argument('--project', type=str, default=\"wikitext-15M\",\n",
    "                        help='Original data path.')\n",
    "    parser.add_argument('--orig_data_dir', type=str, default=\"../../data-files/wikitext-15M/\",\n",
    "                        help='Original data path.')\n",
    "    parser.add_argument('--pos_tag_data_dir', type=str, default=\"../../data-files/wikitext-15M-pos/\",\n",
    "                        help='Original data path.')\n",
    "    parser.add_argument('--pos_tag', type=str, default=\"NOUN\",\n",
    "                        choices=[\"NOUN\"],\n",
    "                        help='Which pos-tag are you scrambling.')\n",
    "    parser.add_argument('--shift_type', type=str, default=\"random\",\n",
    "                        choices=[\"random\", \"ft\", \"random_merge\", \n",
    "                                 \"random_split\", \"ft_merge\", \n",
    "                                 \"ft_split\"],\n",
    "                        help='Which type of scrambling methods are you using.')\n",
    "    parser.add_argument('--seed', type=int, default=42,\n",
    "                        help='Random seed.')\n",
    "    parser.set_defaults(\n",
    "        # Exp management:\n",
    "        seed=42,\n",
    "    )\n",
    "    try:\n",
    "        get_ipython().run_line_magic('matplotlib', 'inline')\n",
    "        args = parser.parse_args([])\n",
    "    except:\n",
    "        args = parser.parse_args()\n",
    "    return args\n",
    "\n",
    "def cosine_sim_distance(v1, v2):\n",
    "    cos = nn.CosineSimilarity(dim=-1, eps=1e-6)\n",
    "    sim = cos(v1,v2)\n",
    "    return sim # [0,2]"
   ]
  },
  {
   "cell_type": "code",
   "execution_count": 3,
   "metadata": {},
   "outputs": [
    {
     "name": "stderr",
     "output_type": "stream",
     "text": [
      "Fri, 23 Jul 2021 15:12:07 INFO     Running Pos-tagging with data lives in:\n",
      "Fri, 23 Jul 2021 15:12:07 INFO     ../../data-files/wikitext-15M/\n"
     ]
    }
   ],
   "source": [
    "if __name__ == \"__main__\":\n",
    "    \n",
    "    # Loading arguments\n",
    "    args = arg_parse()\n",
    "    try:        \n",
    "        get_ipython().run_line_magic('matplotlib', 'inline')\n",
    "        args.seed=42\n",
    "        is_jupyter = True\n",
    "    except:\n",
    "        is_jupyter = False\n",
    "        \n",
    "    output_dir = f\"../../data-files/{args.project}-{args.pos_tag}-{args.shift_type}-{args.seed}\"\n",
    "    # Create output directory if not exists.\n",
    "    pathlib.Path(output_dir).mkdir(parents=True, exist_ok=True) \n",
    "    \n",
    "    # loading the data, and extract all the tokens with given pos-tag.\n",
    "    logging.basicConfig(\n",
    "        level=logging.INFO, \n",
    "        format='%(asctime)s %(levelname)-8s %(message)s', \n",
    "        datefmt='%a, %d %b %Y %H:%M:%S', \n",
    "    )\n",
    "    logger = logging.getLogger(__name__)\n",
    "    # logging.getLogger().addHandler(logging.StreamHandler(os.sys.stdout))\n",
    "\n",
    "    logging.info(\"Running Pos-tagging with data lives in:\")\n",
    "    logging.info(args.orig_data_dir)\n",
    "    \n",
    "    wiki_datasets = DatasetDict.load_from_disk(args.pos_tag_data_dir)\n",
    "    \n",
    "    logging.info(f\"Extract all the {args.pos_tag} from the dataset...\")\n",
    "    words = set([])\n",
    "    total_count = len(wiki_datasets[\"train\"])\n",
    "    for i, example in enumerate(wiki_datasets[\"train\"]):\n",
    "        if i%10000 == 0:\n",
    "            logging.info(f\"processed {i}/{total_count}\")\n",
    "        assert len(example[\"sentence_str\"]) == len(example[\"upos_str\"])\n",
    "        for pair in zip(example[\"sentence_str\"], example[\"upos_str\"]):\n",
    "            if pair[-1] == args.pos_tag:\n",
    "                words.add(pair[0].strip())"
   ]
  },
  {
   "cell_type": "code",
   "execution_count": 22,
   "metadata": {},
   "outputs": [],
   "source": [
    "# args.shift_type = 'ft'"
   ]
  },
  {
   "cell_type": "code",
   "execution_count": 76,
   "metadata": {},
   "outputs": [
    {
     "name": "stderr",
     "output_type": "stream",
     "text": [
      "Fri, 23 Jul 2021 22:26:34 INFO     Shifting NOUN with method type ft\n"
     ]
    }
   ],
   "source": [
    "words_pair = {}\n",
    "logging.info(f\"Shifting {args.pos_tag} with method type {args.shift_type}\")\n",
    "if args.shift_type == \"random\":\n",
    "    # for random, we don't scramble on stems or lower or upper case.\n",
    "    words_orig = list(words)\n",
    "    words_shuffled = copy.deepcopy(words_orig)\n",
    "    random.shuffle(words_shuffled)\n",
    "    for i in range(len(words_orig)):\n",
    "        words_pair[words_orig[i]] = words_shuffled[i]\n",
    "elif args.shift_type == \"ft\":\n",
    "    # for all other methods, we work on stems, and work on lower case.\n",
    "    from textblob import Word\n",
    "    stems = set([])\n",
    "    for i in range(len(words_orig)):\n",
    "        stems.add(Word(words_orig[i].lower()).singularize())\n",
    "    ft = fasttext.load_model('../../data-files/cc.en.300.bin')\n",
    "    words_orig = list(stems)\n",
    "    embed_list = []\n",
    "    vocab_idx = {}\n",
    "    for i in range(len(words_orig)):\n",
    "        vocab_idx[words_orig[i]] = i\n",
    "        embed_list += [torch.tensor(ft.get_word_vector(words_orig[i]))]\n",
    "    embeddings = torch.stack(embed_list, dim=0)\n",
    "    similarity_fn = cosine_sim_distance\n",
    "    words_pair = {}\n",
    "    for _, token in enumerate(tqdm(words_orig)):\n",
    "        token_embed = embeddings[vocab_idx[token]]\n",
    "        repeat_token_embed = [token_embed*len(words_orig)]\n",
    "        repeat_token_embed = torch.stack(repeat_token_embed, dim=0)\n",
    "        similarity_score = similarity_fn(repeat_token_embed, embeddings)\n",
    "        argmax_second = torch.topk(similarity_score, k=2, dim=0)[1][-1].tolist()\n",
    "        words_pair[token] = words_orig[argmax_second]\n",
    "elif args.shift_type == \"random_merge\":\n",
    "    pass\n",
    "elif args.shift_type == \"random_split\":\n",
    "    pass\n",
    "elif args.shift_type == \"ft_merge\":\n",
    "    ft = fasttext.load_model('../../data-files/cc.en.300.bin')\n",
    "elif args.shift_type == \"ft_split\":\n",
    "    ft = fasttext.load_model('../../data-files/cc.en.300.bin')"
   ]
  }
 ],
 "metadata": {
  "kernelspec": {
   "display_name": "Python 3",
   "language": "python",
   "name": "python3"
  },
  "language_info": {
   "codemirror_mode": {
    "name": "ipython",
    "version": 3
   },
   "file_extension": ".py",
   "mimetype": "text/x-python",
   "name": "python",
   "nbconvert_exporter": "python",
   "pygments_lexer": "ipython3",
   "version": "3.7.6"
  }
 },
 "nbformat": 4,
 "nbformat_minor": 4
}
