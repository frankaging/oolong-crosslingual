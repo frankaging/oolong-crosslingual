{
 "cells": [
  {
   "cell_type": "code",
   "execution_count": 1,
   "metadata": {},
   "outputs": [],
   "source": [
    "import os\n",
    "import argparse\n",
    "from datasets import DatasetDict\n",
    "from datasets import Dataset\n",
    "from datasets import load_dataset\n",
    "from datasets import list_datasets\n",
    "import logging\n",
    "import pathlib"
   ]
  },
  {
   "cell_type": "code",
   "execution_count": 2,
   "metadata": {},
   "outputs": [],
   "source": [
    "def arg_parse():\n",
    "    parser = argparse.ArgumentParser(description='semantic shift config.')\n",
    "    # Experiment management:\n",
    "    parser.add_argument('--project', type=str, default=\"wikitext-15M\",\n",
    "                        help='Original data path.')\n",
    "    parser.add_argument('--orig_data_dir', type=str, default=\"../../data-files/wikitext-15M/\",\n",
    "                        help='Original data path.')\n",
    "    parser.add_argument('--pos_tag_data_dir', type=str, default=\"../../data-files/wikitext-15M-pos/\",\n",
    "                        help='Original data path.')\n",
    "    parser.add_argument('--pos_tag', type=str, default=\"NOUN\",\n",
    "                        choices=[\"NOUN\"],\n",
    "                        help='Which pos-tag are you scrambling.')\n",
    "    parser.add_argument('--shift_type', type=str, default=\"random\",\n",
    "                        choices=[\"random\", \"ft\", \"random_merge\", \n",
    "                                 \"random_split\", \"ft_merge\", \n",
    "                                 \"ft_split\"],\n",
    "                        help='Which type of scrambling methods are you using.')\n",
    "    parser.add_argument('--seed', type=int, default=42,\n",
    "                        help='Random seed.')\n",
    "    parser.set_defaults(\n",
    "        # Exp management:\n",
    "        seed=42,\n",
    "    )\n",
    "    try:\n",
    "        get_ipython().run_line_magic('matplotlib', 'inline')\n",
    "        args = parser.parse_args([])\n",
    "    except:\n",
    "        args = parser.parse_args()\n",
    "    return args"
   ]
  },
  {
   "cell_type": "code",
   "execution_count": 3,
   "metadata": {},
   "outputs": [
    {
     "name": "stdout",
     "output_type": "stream",
     "text": [
      "Running Pos-tagging with data lives in:\n",
      "../../data-files/wikitext-15M/\n"
     ]
    }
   ],
   "source": [
    "if __name__ == \"__main__\":\n",
    "    \n",
    "    # Loading arguments\n",
    "    args = arg_parse()\n",
    "    try:        \n",
    "        get_ipython().run_line_magic('matplotlib', 'inline')\n",
    "        args.seed=42\n",
    "        is_jupyter = True\n",
    "    except:\n",
    "        is_jupyter = False\n",
    "        \n",
    "    output_dir = f\"../../data-files/{args.project}-{args.pos_tag}-{args.shift_type}-{args.seed}\"\n",
    "    # Create output directory if not exists.\n",
    "    pathlib.Path(output_dir).mkdir(parents=True, exist_ok=True) \n",
    "    \n",
    "    # loading the data, and extract all the tokens with given pos-tag.\n",
    "    logging.basicConfig(\n",
    "        level=logging.INFO, \n",
    "        format='%(asctime)s %(levelname)-8s %(message)s', \n",
    "        datefmt='%a, %d %b %Y %H:%M:%S', \n",
    "        filename=os.path.join(output_dir, \"training.log\"),\n",
    "    )\n",
    "    logger = logging.getLogger(__name__)\n",
    "    logging.getLogger().addHandler(logging.StreamHandler(os.sys.stdout))\n",
    "\n",
    "    logging.info(\"Running Pos-tagging with data lives in:\")\n",
    "    logging.info(args.orig_data_dir)"
   ]
  },
  {
   "cell_type": "code",
   "execution_count": 4,
   "metadata": {},
   "outputs": [],
   "source": [
    "wiki_datasets = DatasetDict.load_from_disk(args.pos_tag_data_dir)"
   ]
  },
  {
   "cell_type": "code",
   "execution_count": null,
   "metadata": {},
   "outputs": [],
   "source": [
    "wiki_datasets_orig = DatasetDict.load_from_disk(args.orig_data_dir)"
   ]
  },
  {
   "cell_type": "code",
   "execution_count": null,
   "metadata": {},
   "outputs": [],
   "source": [
    "matched_index = 0\n",
    "split = \"train\"\n",
    "for i in range(len(wiki_datasets_orig[split])):\n",
    "    example_orig = wiki_datasets_orig[split][i][\"text\"]\n",
    "    if len(example_orig.strip()) > 0:\n",
    "        tokens_by_space = example_orig.strip().split(\" \") # i think we just need to strip this.\n",
    "        pos_tags = wiki_datasets[split][matched_index]['upos_str'].split(\",\")\n",
    "        if len(tokens_by_space) != len(pos_tags):\n",
    "            print(tokens_by_space)\n",
    "            print(pos_tags)\n",
    "            print(len(tokens_by_space), len(pos_tags))\n",
    "        matched_index += 1\n",
    "    if matched_index == 10:\n",
    "        break"
   ]
  }
 ],
 "metadata": {
  "kernelspec": {
   "display_name": "Python 3",
   "language": "python",
   "name": "python3"
  },
  "language_info": {
   "codemirror_mode": {
    "name": "ipython",
    "version": 3
   },
   "file_extension": ".py",
   "mimetype": "text/x-python",
   "name": "python",
   "nbconvert_exporter": "python",
   "pygments_lexer": "ipython3",
   "version": "3.7.6"
  }
 },
 "nbformat": 4,
 "nbformat_minor": 4
}
