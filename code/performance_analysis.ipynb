{
 "cells": [
  {
   "cell_type": "code",
   "execution_count": 57,
   "metadata": {},
   "outputs": [],
   "source": [
    "import pandas as pd "
   ]
  },
  {
   "cell_type": "code",
   "execution_count": 59,
   "metadata": {},
   "outputs": [],
   "source": [
    "df = pd.read_csv (\"../glue_evaluation_results.csv\")"
   ]
  },
  {
   "cell_type": "code",
   "execution_count": 260,
   "metadata": {},
   "outputs": [],
   "source": [
    "def query_df(\n",
    "    df,\n",
    "    task_name = \"sst2\",\n",
    "    lr = 2e-05,\n",
    "    midtuning = False,\n",
    "    tokenizer = \"roberta-base\", # options: 'albert-base-v2', 'bert-base-cased'\n",
    "    galactic_shift = None, # options: 'en~fr@N~fr@V', 'en~fr@N~jaktc@V', 'en~jaktc@N~jaktc@V'\n",
    "    reinit_embedding = False,\n",
    "    reverse_order = False,\n",
    "    random_order = False,\n",
    "    token_swap = False,\n",
    "    word_swap = False,\n",
    "):\n",
    "    SPLIT = \"eval\"\n",
    "    MODEL = \"roberta-base\"\n",
    "    if galactic_shift is None:\n",
    "        return df[\n",
    "            (df[\"glue_task\"]==task_name)&\n",
    "            (df[\"learning_rate\"]==lr)&\n",
    "            (df[\"tokenizer\"]==tokenizer)&\n",
    "            (df[\"midtuning\"]==midtuning)&\n",
    "            (df['galactic_shift'].isna())&\n",
    "            (df['reinit_embedding']==reinit_embedding)&\n",
    "            (df['reverse_order']==reverse_order)&\n",
    "            (df['random_order']==random_order)&\n",
    "            (df['token_swap']==token_swap)&\n",
    "            (df['word_swap']==word_swap)\n",
    "        ][\"performance\"].values[0]\n",
    "    else:\n",
    "        return df[\n",
    "            (df[\"glue_task\"]==task_name)&\n",
    "            (df[\"learning_rate\"]==lr)&\n",
    "            (df[\"tokenizer\"]==tokenizer)&\n",
    "            (df[\"midtuning\"]==midtuning)&\n",
    "            (df['galactic_shift']==galactic_shift)&\n",
    "            (df['reinit_embedding']==reinit_embedding)&\n",
    "            (df['reverse_order']==reverse_order)&\n",
    "            (df['random_order']==random_order)&\n",
    "            (df['token_swap']==token_swap)&\n",
    "            (df['word_swap']==word_swap)\n",
    "        ][\"performance\"].values[0]\n",
    "\n",
    "def query_set(\n",
    "    df,\n",
    "    task_name = \"sst2\",\n",
    "    tokenizer = \"roberta-base\", # options: 'albert-base-v2', 'bert-base-cased'\n",
    "    galactic_shift = None, # options: 'en~fr@N~fr@V', 'en~fr@N~jaktc@V', 'en~jaktc@N~jaktc@V'\n",
    "    reinit_embedding = False,\n",
    "    reverse_order = False,\n",
    "    random_order = False,\n",
    "    token_swap = False,\n",
    "    word_swap = False,\n",
    "):\n",
    "    return [\n",
    "        query_df(\n",
    "            df, task_name=task_name, midtuning=False, lr=2e-05, galactic_shift=galactic_shift, \n",
    "            reinit_embedding=reinit_embedding, reverse_order=reverse_order, random_order=random_order,\n",
    "            token_swap=token_swap, word_swap=word_swap, tokenizer=tokenizer,\n",
    "        ),\n",
    "        query_df(\n",
    "            df, task_name=task_name, midtuning=False, lr=4e-05, galactic_shift=galactic_shift, \n",
    "            reinit_embedding=reinit_embedding, reverse_order=reverse_order, random_order=random_order,\n",
    "            token_swap=token_swap, word_swap=word_swap, tokenizer=tokenizer,\n",
    "        ),\n",
    "        query_df(\n",
    "            df, task_name=task_name, midtuning=True, lr=2e-05, galactic_shift=galactic_shift, \n",
    "            reinit_embedding=reinit_embedding, reverse_order=reverse_order, random_order=random_order,\n",
    "            token_swap=token_swap, word_swap=word_swap, tokenizer=tokenizer,\n",
    "        ),\n",
    "        query_df(\n",
    "            df, task_name=task_name, midtuning=True, lr=4e-05, galactic_shift=galactic_shift, \n",
    "            reinit_embedding=reinit_embedding, reverse_order=reverse_order, random_order=random_order,\n",
    "            token_swap=token_swap, word_swap=word_swap, tokenizer=tokenizer,\n",
    "        ),\n",
    "    ]"
   ]
  },
  {
   "cell_type": "code",
   "execution_count": 262,
   "metadata": {},
   "outputs": [
    {
     "data": {
      "text/plain": [
       "0      bert-base-cased\n",
       "1      bert-base-cased\n",
       "2         roberta-base\n",
       "3         roberta-base\n",
       "4       albert-base-v2\n",
       "            ...       \n",
       "567       roberta-base\n",
       "568     albert-base-v2\n",
       "569     albert-base-v2\n",
       "570     albert-base-v2\n",
       "571     albert-base-v2\n",
       "Name: tokenizer, Length: 572, dtype: object"
      ]
     },
     "execution_count": 262,
     "metadata": {},
     "output_type": "execute_result"
    }
   ],
   "source": [
    "df[\"tokenizer\"]"
   ]
  },
  {
   "cell_type": "code",
   "execution_count": 263,
   "metadata": {},
   "outputs": [
    {
     "data": {
      "text/plain": [
       "[0.4546102903718798, 0.4516556291390729, 0.457870606214977, 0.4526744778400408]"
      ]
     },
     "execution_count": 263,
     "metadata": {},
     "output_type": "execute_result"
    }
   ],
   "source": [
    "task_name = \"mnli\"\n",
    "query_set(df, task_name=task_name)\n",
    "query_set(df, task_name=task_name, random_order=True)\n",
    "query_set(df, task_name=task_name, reverse_order=True)\n",
    "query_set(df, task_name=task_name, galactic_shift=\"en~fr@N~fr@V\")\n",
    "query_set(df, task_name=task_name, galactic_shift=\"en~fr@N~jaktc@V\")\n",
    "query_set(df, task_name=task_name, galactic_shift=\"en~jaktc@N~jaktc@V\")\n",
    "query_set(df, task_name=task_name, reinit_embedding=True)\n",
    "query_set(df, task_name=task_name, tokenizer=\"bert-base-cased\", reinit_embedding=True)\n",
    "query_set(df, task_name=task_name, tokenizer=\"albert-base-v2\", reinit_embedding=True)\n",
    "query_set(df, task_name=task_name, token_swap=True)\n",
    "query_set(df, task_name=task_name, word_swap=True)"
   ]
  },
  {
   "cell_type": "code",
   "execution_count": 254,
   "metadata": {},
   "outputs": [
    {
     "data": {
      "text/plain": [
       "[0.3344880285277636,\n",
       " 0.31818644931227713,\n",
       " 0.6993377483443709,\n",
       " 0.7253183902190524]"
      ]
     },
     "execution_count": 254,
     "metadata": {},
     "output_type": "execute_result"
    }
   ],
   "source": [
    "query_set(df, task_name=task_name, reinit_embedding=True)"
   ]
  },
  {
   "cell_type": "code",
   "execution_count": 255,
   "metadata": {},
   "outputs": [
    {
     "data": {
      "text/plain": [
       "[0.4546102903718798, 0.4516556291390729, 0.457870606214977, 0.4526744778400408]"
      ]
     },
     "execution_count": 255,
     "metadata": {},
     "output_type": "execute_result"
    }
   ],
   "source": [
    "query_set(df, task_name=task_name, word_swap=True)"
   ]
  },
  {
   "cell_type": "code",
   "execution_count": 256,
   "metadata": {},
   "outputs": [
    {
     "data": {
      "text/plain": [
       "[0.6574630667345899,\n",
       " 0.6736627610799796,\n",
       " 0.6849719816607234,\n",
       " 0.6995415180845644]"
      ]
     },
     "execution_count": 256,
     "metadata": {},
     "output_type": "execute_result"
    }
   ],
   "source": [
    "query_set(df, task_name=task_name, token_swap=True)"
   ]
  },
  {
   "cell_type": "code",
   "execution_count": 257,
   "metadata": {},
   "outputs": [
    {
     "data": {
      "text/plain": [
       "[0.8510443199184922,\n",
       " 0.8551197147223637,\n",
       " 0.8547121752419765,\n",
       " 0.8588894549159449]"
      ]
     },
     "execution_count": 257,
     "metadata": {},
     "output_type": "execute_result"
    }
   ],
   "source": [
    "query_set(df, task_name=task_name, galactic_shift=\"en~fr@N~fr@V\")"
   ]
  },
  {
   "cell_type": "code",
   "execution_count": 209,
   "metadata": {},
   "outputs": [
    {
     "data": {
      "text/plain": [
       "[0.8419765664798777,\n",
       " 0.8485990830361692,\n",
       " 0.8471726948548141,\n",
       " 0.8573611818644932]"
      ]
     },
     "execution_count": 209,
     "metadata": {},
     "output_type": "execute_result"
    }
   ],
   "source": [
    "query_set(df, task_name=task_name, reverse_order=True)"
   ]
  },
  {
   "cell_type": "code",
   "execution_count": 210,
   "metadata": {},
   "outputs": [
    {
     "data": {
      "text/plain": [
       "[0.8190524707080998,\n",
       " 0.8208863983698421,\n",
       " 0.8195618950585838,\n",
       " 0.8207845134997452]"
      ]
     },
     "execution_count": 210,
     "metadata": {},
     "output_type": "execute_result"
    }
   ],
   "source": [
    "query_set(df, task_name=task_name, random_order=True)"
   ]
  },
  {
   "cell_type": "code",
   "execution_count": 264,
   "metadata": {},
   "outputs": [
    {
     "data": {
      "text/plain": [
       "[0.5142129393785023,\n",
       " 0.31818644931227713,\n",
       " 0.7049414161996943,\n",
       " 0.7170657157412125]"
      ]
     },
     "execution_count": 264,
     "metadata": {},
     "output_type": "execute_result"
    }
   ],
   "source": [
    "query_set(df, task_name=task_name, tokenizer=\"bert-base-cased\", reinit_embedding=True)"
   ]
  },
  {
   "cell_type": "code",
   "execution_count": 265,
   "metadata": {},
   "outputs": [
    {
     "data": {
      "text/plain": [
       "[0.485175751400917,\n",
       " 0.31818644931227713,\n",
       " 0.7045338767193072,\n",
       " 0.7287824758023433]"
      ]
     },
     "execution_count": 265,
     "metadata": {},
     "output_type": "execute_result"
    }
   ],
   "source": [
    "query_set(df, task_name=task_name, tokenizer=\"albert-base-v2\", reinit_embedding=True)"
   ]
  },
  {
   "cell_type": "markdown",
   "metadata": {},
   "source": [
    "#### Out-dated analysis code based on wandb only"
   ]
  },
  {
   "cell_type": "code",
   "execution_count": 35,
   "metadata": {},
   "outputs": [],
   "source": [
    "import wandb\n",
    "api = wandb.Api()\n",
    "runs = api.runs(\"wuzhengx/fine_tuning\")\n",
    "eval_metrics = {\n",
    "    \"sst3\":\"eval/Macro-F1\",\n",
    "    \"mrpc\":\"eval/accuracy\",\n",
    "    \"qnli\":\"eval/accuracy\",\n",
    "}"
   ]
  },
  {
   "cell_type": "code",
   "execution_count": 36,
   "metadata": {},
   "outputs": [],
   "source": [
    "def fetch_syntactic_results(task_name):\n",
    "    all_data = []\n",
    "    for run in runs:\n",
    "        if task_name in run.name:\n",
    "            perf_metrics = run.history(keys=[eval_metrics[task_name]])[eval_metrics[task_name]]\n",
    "            best_perf_metrics = max(perf_metrics)\n",
    "            run_name = run.name\n",
    "\n",
    "            name_list = run_name.split(\"_\")\n",
    "            learning_rate_found = False\n",
    "            data_found = False\n",
    "            reverse_found = False\n",
    "            random_found = False\n",
    "            inoculation_found = False\n",
    "            seed_found = False\n",
    "            for i in range(len(name_list)):\n",
    "                if name_list[i] == \"lr\":\n",
    "                    learning_rate_found = True\n",
    "                    learning_rate = name_list[i+1]\n",
    "\n",
    "                if name_list[i] == \"seed\":\n",
    "                    seed_found = True\n",
    "                    seed = int(name_list[i+1])\n",
    "                if name_list[i] == \"reverse\":\n",
    "                    reverse_found = True\n",
    "                    if name_list[i+1] == \"True\":\n",
    "                        reverse_order = True\n",
    "                    else:\n",
    "                        reverse_order = False\n",
    "                if name_list[i] == \"random\":\n",
    "                    random_found = True\n",
    "                    if name_list[i+1].strip(\"/\") == \"True\":\n",
    "                        random_order = True\n",
    "                    else:\n",
    "                        random_order = False\n",
    "                if name_list[i] == \"data\":\n",
    "                    data_found = True\n",
    "                    if len(name_list[i+1].split(\"-\")) > 2:\n",
    "                        perturbed_type = name_list[i+1].split(\"-\")[2:][0]\n",
    "                    else:\n",
    "                        perturbed_type = \"null\"\n",
    "                if name_list[i] == \"inoculation\":\n",
    "                    inoculation_found = True\n",
    "                    inoculation_p = float(name_list[i+1])\n",
    "            # if underspecify, we just replace with default values.\n",
    "            if not learning_rate_found:\n",
    "                learning_rate = \"2e-05\"\n",
    "            if not data_found:\n",
    "                perturbed_type = \"null\"\n",
    "            if not reverse_found:\n",
    "                reverse_order = False\n",
    "            if not random_found:\n",
    "                random_order = False\n",
    "            if not inoculation_found:\n",
    "                inoculation_p = 0.0\n",
    "            if not seed_found:\n",
    "                seed = 42\n",
    "            if inoculation_p == 0.0 or inoculation_p == 1.0:            \n",
    "                if perturbed_type != \"null\":\n",
    "                    all_data.append([perturbed_type, reverse_order, random_order, inoculation_p, learning_rate, seed, best_perf_metrics])\n",
    "                else:\n",
    "                    if \"token_s_True\" in run_name or \"reinit_emb_True\" in run_name or \"word_s_True\" in run_name:\n",
    "                        # these conditions cannot be considered.\n",
    "                        continue\n",
    "                    if \"reverse_True\" in run_name or \"random_True\" in run_name:\n",
    "                        all_data.append([\"null\", reverse_order, random_order, inoculation_p, learning_rate, seed, best_perf_metrics])\n",
    "                    else:\n",
    "                        # we may need to record if this is some baseline.\n",
    "                        if \"roberta-base_reinit_emb_False_reinit_avg_False_token_s_False_word_s_False\" in run_name:\n",
    "                            all_data.append([\"null\", False, False, 0.0, learning_rate, seed, best_perf_metrics])\n",
    "                        if \"roberta-base_roberta-base_seed_42_data_wikitext-15M_inoculation_0.0_reverse_False_random_False\" in run_name:\n",
    "                            all_data.append([\"null\", False, False, 0.0, learning_rate, seed, best_perf_metrics])\n",
    "                        if \"roberta-base_roberta-base_seed_42_data_wikitext-15M_inoculation_1.0_reverse_False_random_False\" in run_name:\n",
    "                            all_data.append([\"null\", False, False, 1.0, learning_rate, seed, best_perf_metrics])\n",
    "    return all_data "
   ]
  },
  {
   "cell_type": "code",
   "execution_count": 37,
   "metadata": {},
   "outputs": [],
   "source": [
    "def fetch_data_tokenizer(task_name):\n",
    "    all_data = []\n",
    "    tokenizer_combo = [\"roberta-base_albert-base-v2\", \"roberta-base_bert-base-cased\"]\n",
    "    for run in runs:\n",
    "        if task_name in run.name:\n",
    "            perf_metrics = run.history(keys=[eval_metrics[task_name]])[eval_metrics[task_name]]\n",
    "            best_perf_metrics = max(perf_metrics)\n",
    "            run_name = run.name\n",
    "            is_valid = False\n",
    "            for t in tokenizer_combo:\n",
    "                if t in run_name:\n",
    "                    if \"NEED RERUN\" not in run_name and \"9-6\" not in run_name:\n",
    "                        is_valid = True\n",
    "                        break\n",
    "            \n",
    "            name_list = run_name.split(\"_\")\n",
    "            exam_1 = False\n",
    "            exam_2 = False\n",
    "            exam_3 = False\n",
    "            learning_rate = 2e-05\n",
    "            inoculation_p = 0.0\n",
    "            for i in range(len(name_list)):\n",
    "                if name_list[i] == \"seed\":\n",
    "                    seed = int(name_list[i+1])\n",
    "                if name_list[i] == \"reinit\" and name_list[i+1] == \"emb\" and not exam_1:\n",
    "                    exam_1 = True\n",
    "                    if name_list[i+2] == \"True\":\n",
    "                        reinit_random = True\n",
    "                    else:\n",
    "                        reinit_random = False\n",
    "                if name_list[i] == \"reinit\" and name_list[i+1] == \"avg\" and not exam_2:\n",
    "                    exam_2 = True\n",
    "                    if name_list[i+2].strip(\"/\") == \"True\":\n",
    "                        reinit_avg = True\n",
    "                    else:\n",
    "                        reinit_avg = False\n",
    "                if name_list[i] == \"data\":\n",
    "                    if len(name_list[i+1].split(\"-\")) > 2:\n",
    "                        perturbed_type = \"-\".join(name_list[i+1].split(\"-\")[2:])\n",
    "                    else:\n",
    "                        perturbed_type = \"null\"\n",
    "                if name_list[i] == \"inoculation\":\n",
    "                    inoculation_p = float(name_list[i+1])\n",
    "                if name_list[i] == \"lr\":\n",
    "                    learning_rate = float(name_list[i+1])\n",
    "            \n",
    "            if is_valid:\n",
    "                model_type = name_list[4]\n",
    "                tokenizer_type = name_list[5]\n",
    "                all_data.append([model_type, tokenizer_type, True, reinit_avg, inoculation_p, learning_rate, seed, best_perf_metrics])\n",
    "\n",
    "            # maybe it is other baselines?\n",
    "            if \"finetune_roberta-base_reinit_emb_True_reinit_avg_False\" in run_name and \"9-7\" not in run_name and \"9-8\" not in run_name:\n",
    "                all_data.append([\"roberta-base\", \"roberta-base\", True, False, inoculation_p, learning_rate, 42, best_perf_metrics])\n",
    "            if \"ft_roberta-base_reinit_emb_True_reinit_avg_False\" in run_name and \"9-7\" not in run_name and \"9-8\" not in run_name:\n",
    "                all_data.append([\"roberta-base\", \"roberta-base\", True, False, inoculation_p, learning_rate, 42, best_perf_metrics])\n",
    "            if \"finetune_roberta-base_roberta-base_seed_42_data_wikitext-15M_inoculation_1.0_reverse_False_random_False_reinit_emb_True_reinit_avg_False_reinit_emb_False_reinit_avg_False\" in run_name:\n",
    "                all_data.append([\"roberta-base\", \"roberta-base\", True, False, 1.0, 2e-5, 42, best_perf_metrics])\n",
    "            if \"ft_roberta-base_roberta-base_seed_42_data_wikitext-15M_inoculation_1.0_reverse_False_random_False_reinit_emb_True_reinit_avg_False_token_s_False_word_s_False_lr_4e-05\" in run_name:\n",
    "                all_data.append([\"roberta-base\", \"roberta-base\", True, False, 1.0, 4e-5, 42, best_perf_metrics])\n",
    "            if \"_True\" not in run_name:\n",
    "                if \"finetune_roberta-base_roberta-base_seed_42_data_wikitext-15M_inoculation_0.0_reverse_False_random_False\" in run_name:\n",
    "                    all_data.append([\"roberta-base\", \"roberta-base\", False, False, 0.0, learning_rate, 42, best_perf_metrics])\n",
    "                if \"finetune_roberta-base_roberta-base_seed_42_data_wikitext-15M_inoculation_1.0_reverse_False_random_False\" in run_name:\n",
    "                    all_data.append([\"roberta-base\", \"roberta-base\", False, False, 1.0, learning_rate, 42, best_perf_metrics])\n",
    "                if \"ft_roberta-base_roberta-base_seed_42_data_wikitext-15M_inoculation_1.0_reverse_False_random_False\" in run_name:\n",
    "                    all_data.append([\"roberta-base\", \"roberta-base\", False, False, 1.0, learning_rate, 42, best_perf_metrics])\n",
    "                if \"ft_roberta-base_reinit_emb_False_reinit_avg_False_token_s_False_word_s_False\" in run_name and \"reverse_False_random_False\" in run_name:\n",
    "                    all_data.append([\"roberta-base\", \"roberta-base\", False, False, 0.0, learning_rate, 42, best_perf_metrics])\n",
    "    return all_data"
   ]
  },
  {
   "cell_type": "code",
   "execution_count": 38,
   "metadata": {},
   "outputs": [],
   "source": [
    "def fetch_data_swapping(task_name):\n",
    "    all_data = []\n",
    "    for run in runs:\n",
    "        if task_name in run.name:\n",
    "            run_name = run.name\n",
    "            perf_metrics = run.history(keys=[eval_metrics[task_name]])[eval_metrics[task_name]]\n",
    "            best_perf_metrics = max(perf_metrics)\n",
    "            if \"token_s_True\" in run_name or \"word_s_True\" in run_name:\n",
    "                name_list = run_name.split(\"_\")\n",
    "                learning_rate = 2e-05\n",
    "                inoculation_p = 0.0\n",
    "                seed_found = False\n",
    "                \n",
    "                for i in range(len(name_list)):\n",
    "                    if name_list[i] == \"seed\":\n",
    "                        seed_found = True\n",
    "                        seed = int(name_list[i+1])\n",
    "                    if name_list[i] == \"inoculation\":\n",
    "                        inoculation_p = float(name_list[i+1])\n",
    "                    if name_list[i] == \"lr\":\n",
    "                        learning_rate = float(name_list[i+1])\n",
    "                token_s = False\n",
    "                word_s = False\n",
    "                if \"token_s_True\" in run_name:\n",
    "                    token_s = True\n",
    "                if \"word_s_True\" in run_name:\n",
    "                    word_s = True\n",
    "                if not seed_found:\n",
    "                    seed = 42\n",
    "                all_data.append([\"roberta-base\", token_s, word_s, inoculation_p, learning_rate, seed, best_perf_metrics])\n",
    "                \n",
    "            if \"_True\" not in run_name:\n",
    "                if \"finetune_roberta-base_roberta-base_seed_42_data_wikitext-15M_inoculation_0.0_reverse_False_random_False\" in run_name:\n",
    "                    all_data.append([\"roberta-base\", False, False, 0.0, learning_rate, 42, best_perf_metrics])\n",
    "                if \"finetune_roberta-base_roberta-base_seed_42_data_wikitext-15M_inoculation_1.0_reverse_False_random_False\" in run_name:\n",
    "                    all_data.append([\"roberta-base\", False, False, 1.0, learning_rate, 42, best_perf_metrics])\n",
    "                if \"ft_roberta-base_roberta-base_seed_42_data_wikitext-15M_inoculation_1.0_reverse_False_random_False\" in run_name:\n",
    "                    all_data.append([\"roberta-base\", False, False, 1.0, learning_rate, 42, best_perf_metrics])\n",
    "                if \"ft_roberta-base_reinit_emb_False_reinit_avg_False_token_s_False_word_s_False\" in run_name and \"reverse_False_random_False\" in run_name:\n",
    "                    all_data.append([\"roberta-base\", False, False, 0.0, learning_rate, 42, best_perf_metrics])\n",
    "                \n",
    "    return all_data"
   ]
  },
  {
   "cell_type": "code",
   "execution_count": 39,
   "metadata": {},
   "outputs": [],
   "source": [
    "def query_galactic(df, learning_rate, inoculation_p):\n",
    "    lr_select = df[(df[\"lr\"]==f\"{learning_rate}\")&(df[\"inoculation_p\"]==inoculation_p)]\n",
    "\n",
    "    data = [\n",
    "        lr_select[(df[\"perturbed_type\"]==\"null\")&(df[\"reverse_order\"]==False)&(df[\"random_order\"]==False)][\"best_perf_metrics\"].values[0],\n",
    "        lr_select[(df[\"perturbed_type\"]==\"null\")&(df[\"reverse_order\"]==False)&(df[\"random_order\"]==True)][\"best_perf_metrics\"].values[0],\n",
    "        lr_select[(df[\"perturbed_type\"]==\"null\")&(df[\"reverse_order\"]==True)&(df[\"random_order\"]==False)][\"best_perf_metrics\"].values[0],\n",
    "        lr_select[(df[\"perturbed_type\"]==\"en~fr@N~fr@V\")&(df[\"reverse_order\"]==False)&(df[\"random_order\"]==False)][\"best_perf_metrics\"].values[0],\n",
    "        lr_select[(df[\"perturbed_type\"]==\"en~jaktc@N~jaktc@V\")&(df[\"reverse_order\"]==False)&(df[\"random_order\"]==False)][\"best_perf_metrics\"].values[0],\n",
    "        lr_select[(df[\"perturbed_type\"]==\"en~fr@N~jaktc@V\")&(df[\"reverse_order\"]==False)&(df[\"random_order\"]==False)][\"best_perf_metrics\"].values[0],\n",
    "    ]\n",
    "    return data\n",
    "\n",
    "def query_tokenizer(df, learning_rate, inoculation_p):\n",
    "    lr_select = df[((df[\"lr\"]==f\"{learning_rate}\")|(df[\"lr\"]==learning_rate))&(df[\"inoculation_p\"]==inoculation_p)]\n",
    "    data = [\n",
    "        lr_select[(df[\"model_type\"]==\"roberta-base\")&(df[\"tokenizer_type\"]==\"roberta-base\")&(df[\"reinit_random\"]==True)&(df[\"reinit_avg\"]==False)][\"best_perf_metrics\"].values[0],\n",
    "        lr_select[(df[\"model_type\"]==\"roberta-base\")&(df[\"tokenizer_type\"]==\"bert-base-cased\")&(df[\"reinit_random\"]==True)&(df[\"reinit_avg\"]==False)][\"best_perf_metrics\"].values[0],\n",
    "        lr_select[(df[\"model_type\"]==\"roberta-base\")&(df[\"tokenizer_type\"]==\"albert-base-v2\")&(df[\"reinit_random\"]==True)&(df[\"reinit_avg\"]==False)][\"best_perf_metrics\"].values[0],\n",
    "    ]\n",
    "    return data\n",
    "\n",
    "def query_swap(df, learning_rate, inoculation_p):\n",
    "    lr_select = df[((df[\"lr\"]==f\"{learning_rate}\")|(df[\"lr\"]==learning_rate))&(df[\"inoculation_p\"]==inoculation_p)]\n",
    "    data = [\n",
    "        lr_select[(df[\"model_type\"]==\"roberta-base\")&(df[\"token_swap\"]==True)&(df[\"word_swap\"]==False)][\"best_perf_metrics\"].values[0],\n",
    "        lr_select[(df[\"model_type\"]==\"roberta-base\")&(df[\"token_swap\"]==False)&(df[\"word_swap\"]==True)][\"best_perf_metrics\"].values[0],\n",
    "    ]\n",
    "    return data"
   ]
  },
  {
   "cell_type": "markdown",
   "metadata": {},
   "source": [
    "#### Performance analysis for all experiments for a single data and a specific learning rate"
   ]
  },
  {
   "cell_type": "code",
   "execution_count": 47,
   "metadata": {},
   "outputs": [],
   "source": [
    "task_name = \"mrpc\" # please change to the task you are analyzing."
   ]
  },
  {
   "cell_type": "code",
   "execution_count": 48,
   "metadata": {},
   "outputs": [],
   "source": [
    "syntactic_df = pd.DataFrame(\n",
    "    fetch_syntactic_results(task_name),\n",
    "    columns = ['perturbed_type','reverse_order','random_order', 'inoculation_p', \"lr\", 'seed', 'best_perf_metrics']\n",
    ")\n",
    "\n",
    "tokenizer_df = pd.DataFrame(\n",
    "    fetch_data_tokenizer(task_name), \n",
    "    columns = ['model_type', 'tokenizer_type', 'reinit_random','reinit_avg', 'inoculation_p', 'lr', 'seed', 'best_perf_metrics']\n",
    ").sort_values(\"tokenizer_type\")\n",
    "\n",
    "swap_df = pd.DataFrame(\n",
    "    fetch_data_swapping(task_name), \n",
    "    columns = ['model_type', 'token_swap', 'word_swap', 'inoculation_p', 'lr', 'seed', 'best_perf_metrics']\n",
    ")\n"
   ]
  },
  {
   "cell_type": "code",
   "execution_count": 49,
   "metadata": {},
   "outputs": [
    {
     "name": "stderr",
     "output_type": "stream",
     "text": [
      "/afs/cs.stanford.edu/u/wuzhengx/.local/lib/python3.7/site-packages/ipykernel_launcher.py:5: UserWarning: Boolean Series key will be reindexed to match DataFrame index.\n",
      "  \"\"\"\n",
      "/afs/cs.stanford.edu/u/wuzhengx/.local/lib/python3.7/site-packages/ipykernel_launcher.py:6: UserWarning: Boolean Series key will be reindexed to match DataFrame index.\n",
      "  \n",
      "/afs/cs.stanford.edu/u/wuzhengx/.local/lib/python3.7/site-packages/ipykernel_launcher.py:7: UserWarning: Boolean Series key will be reindexed to match DataFrame index.\n",
      "  import sys\n",
      "/afs/cs.stanford.edu/u/wuzhengx/.local/lib/python3.7/site-packages/ipykernel_launcher.py:8: UserWarning: Boolean Series key will be reindexed to match DataFrame index.\n",
      "  \n",
      "/afs/cs.stanford.edu/u/wuzhengx/.local/lib/python3.7/site-packages/ipykernel_launcher.py:9: UserWarning: Boolean Series key will be reindexed to match DataFrame index.\n",
      "  if __name__ == '__main__':\n",
      "/afs/cs.stanford.edu/u/wuzhengx/.local/lib/python3.7/site-packages/ipykernel_launcher.py:10: UserWarning: Boolean Series key will be reindexed to match DataFrame index.\n",
      "  # Remove the CWD from sys.path while we load stuff.\n",
      "/afs/cs.stanford.edu/u/wuzhengx/.local/lib/python3.7/site-packages/ipykernel_launcher.py:5: UserWarning: Boolean Series key will be reindexed to match DataFrame index.\n",
      "  \"\"\"\n",
      "/afs/cs.stanford.edu/u/wuzhengx/.local/lib/python3.7/site-packages/ipykernel_launcher.py:6: UserWarning: Boolean Series key will be reindexed to match DataFrame index.\n",
      "  \n",
      "/afs/cs.stanford.edu/u/wuzhengx/.local/lib/python3.7/site-packages/ipykernel_launcher.py:7: UserWarning: Boolean Series key will be reindexed to match DataFrame index.\n",
      "  import sys\n",
      "/afs/cs.stanford.edu/u/wuzhengx/.local/lib/python3.7/site-packages/ipykernel_launcher.py:8: UserWarning: Boolean Series key will be reindexed to match DataFrame index.\n",
      "  \n",
      "/afs/cs.stanford.edu/u/wuzhengx/.local/lib/python3.7/site-packages/ipykernel_launcher.py:9: UserWarning: Boolean Series key will be reindexed to match DataFrame index.\n",
      "  if __name__ == '__main__':\n",
      "/afs/cs.stanford.edu/u/wuzhengx/.local/lib/python3.7/site-packages/ipykernel_launcher.py:10: UserWarning: Boolean Series key will be reindexed to match DataFrame index.\n",
      "  # Remove the CWD from sys.path while we load stuff.\n",
      "/afs/cs.stanford.edu/u/wuzhengx/.local/lib/python3.7/site-packages/pandas/core/computation/expressions.py:68: FutureWarning: elementwise comparison failed; returning scalar instead, but in the future will perform elementwise comparison\n",
      "  return op(a, b)\n",
      "/afs/cs.stanford.edu/u/wuzhengx/.local/lib/python3.7/site-packages/ipykernel_launcher.py:17: UserWarning: Boolean Series key will be reindexed to match DataFrame index.\n",
      "/afs/cs.stanford.edu/u/wuzhengx/.local/lib/python3.7/site-packages/ipykernel_launcher.py:18: UserWarning: Boolean Series key will be reindexed to match DataFrame index.\n",
      "/afs/cs.stanford.edu/u/wuzhengx/.local/lib/python3.7/site-packages/ipykernel_launcher.py:19: UserWarning: Boolean Series key will be reindexed to match DataFrame index.\n",
      "/afs/cs.stanford.edu/u/wuzhengx/.local/lib/python3.7/site-packages/pandas/core/computation/expressions.py:68: FutureWarning: elementwise comparison failed; returning scalar instead, but in the future will perform elementwise comparison\n",
      "  return op(a, b)\n",
      "/afs/cs.stanford.edu/u/wuzhengx/.local/lib/python3.7/site-packages/ipykernel_launcher.py:17: UserWarning: Boolean Series key will be reindexed to match DataFrame index.\n",
      "/afs/cs.stanford.edu/u/wuzhengx/.local/lib/python3.7/site-packages/ipykernel_launcher.py:18: UserWarning: Boolean Series key will be reindexed to match DataFrame index.\n",
      "/afs/cs.stanford.edu/u/wuzhengx/.local/lib/python3.7/site-packages/ipykernel_launcher.py:19: UserWarning: Boolean Series key will be reindexed to match DataFrame index.\n",
      "/afs/cs.stanford.edu/u/wuzhengx/.local/lib/python3.7/site-packages/pandas/core/computation/expressions.py:68: FutureWarning: elementwise comparison failed; returning scalar instead, but in the future will perform elementwise comparison\n",
      "  return op(a, b)\n",
      "/afs/cs.stanford.edu/u/wuzhengx/.local/lib/python3.7/site-packages/ipykernel_launcher.py:26: UserWarning: Boolean Series key will be reindexed to match DataFrame index.\n",
      "/afs/cs.stanford.edu/u/wuzhengx/.local/lib/python3.7/site-packages/ipykernel_launcher.py:27: UserWarning: Boolean Series key will be reindexed to match DataFrame index.\n",
      "/afs/cs.stanford.edu/u/wuzhengx/.local/lib/python3.7/site-packages/pandas/core/computation/expressions.py:68: FutureWarning: elementwise comparison failed; returning scalar instead, but in the future will perform elementwise comparison\n",
      "  return op(a, b)\n",
      "/afs/cs.stanford.edu/u/wuzhengx/.local/lib/python3.7/site-packages/ipykernel_launcher.py:26: UserWarning: Boolean Series key will be reindexed to match DataFrame index.\n",
      "/afs/cs.stanford.edu/u/wuzhengx/.local/lib/python3.7/site-packages/ipykernel_launcher.py:27: UserWarning: Boolean Series key will be reindexed to match DataFrame index.\n",
      "/afs/cs.stanford.edu/u/wuzhengx/.local/lib/python3.7/site-packages/ipykernel_launcher.py:5: UserWarning: Boolean Series key will be reindexed to match DataFrame index.\n",
      "  \"\"\"\n",
      "/afs/cs.stanford.edu/u/wuzhengx/.local/lib/python3.7/site-packages/ipykernel_launcher.py:6: UserWarning: Boolean Series key will be reindexed to match DataFrame index.\n",
      "  \n",
      "/afs/cs.stanford.edu/u/wuzhengx/.local/lib/python3.7/site-packages/ipykernel_launcher.py:7: UserWarning: Boolean Series key will be reindexed to match DataFrame index.\n",
      "  import sys\n",
      "/afs/cs.stanford.edu/u/wuzhengx/.local/lib/python3.7/site-packages/ipykernel_launcher.py:8: UserWarning: Boolean Series key will be reindexed to match DataFrame index.\n",
      "  \n",
      "/afs/cs.stanford.edu/u/wuzhengx/.local/lib/python3.7/site-packages/ipykernel_launcher.py:9: UserWarning: Boolean Series key will be reindexed to match DataFrame index.\n",
      "  if __name__ == '__main__':\n",
      "/afs/cs.stanford.edu/u/wuzhengx/.local/lib/python3.7/site-packages/ipykernel_launcher.py:10: UserWarning: Boolean Series key will be reindexed to match DataFrame index.\n",
      "  # Remove the CWD from sys.path while we load stuff.\n",
      "/afs/cs.stanford.edu/u/wuzhengx/.local/lib/python3.7/site-packages/ipykernel_launcher.py:5: UserWarning: Boolean Series key will be reindexed to match DataFrame index.\n",
      "  \"\"\"\n",
      "/afs/cs.stanford.edu/u/wuzhengx/.local/lib/python3.7/site-packages/ipykernel_launcher.py:6: UserWarning: Boolean Series key will be reindexed to match DataFrame index.\n",
      "  \n",
      "/afs/cs.stanford.edu/u/wuzhengx/.local/lib/python3.7/site-packages/ipykernel_launcher.py:7: UserWarning: Boolean Series key will be reindexed to match DataFrame index.\n",
      "  import sys\n",
      "/afs/cs.stanford.edu/u/wuzhengx/.local/lib/python3.7/site-packages/ipykernel_launcher.py:8: UserWarning: Boolean Series key will be reindexed to match DataFrame index.\n",
      "  \n",
      "/afs/cs.stanford.edu/u/wuzhengx/.local/lib/python3.7/site-packages/ipykernel_launcher.py:9: UserWarning: Boolean Series key will be reindexed to match DataFrame index.\n",
      "  if __name__ == '__main__':\n",
      "/afs/cs.stanford.edu/u/wuzhengx/.local/lib/python3.7/site-packages/ipykernel_launcher.py:10: UserWarning: Boolean Series key will be reindexed to match DataFrame index.\n",
      "  # Remove the CWD from sys.path while we load stuff.\n",
      "/afs/cs.stanford.edu/u/wuzhengx/.local/lib/python3.7/site-packages/pandas/core/computation/expressions.py:68: FutureWarning: elementwise comparison failed; returning scalar instead, but in the future will perform elementwise comparison\n",
      "  return op(a, b)\n",
      "/afs/cs.stanford.edu/u/wuzhengx/.local/lib/python3.7/site-packages/ipykernel_launcher.py:17: UserWarning: Boolean Series key will be reindexed to match DataFrame index.\n",
      "/afs/cs.stanford.edu/u/wuzhengx/.local/lib/python3.7/site-packages/ipykernel_launcher.py:18: UserWarning: Boolean Series key will be reindexed to match DataFrame index.\n",
      "/afs/cs.stanford.edu/u/wuzhengx/.local/lib/python3.7/site-packages/ipykernel_launcher.py:19: UserWarning: Boolean Series key will be reindexed to match DataFrame index.\n",
      "/afs/cs.stanford.edu/u/wuzhengx/.local/lib/python3.7/site-packages/pandas/core/computation/expressions.py:68: FutureWarning: elementwise comparison failed; returning scalar instead, but in the future will perform elementwise comparison\n",
      "  return op(a, b)\n",
      "/afs/cs.stanford.edu/u/wuzhengx/.local/lib/python3.7/site-packages/ipykernel_launcher.py:17: UserWarning: Boolean Series key will be reindexed to match DataFrame index.\n",
      "/afs/cs.stanford.edu/u/wuzhengx/.local/lib/python3.7/site-packages/ipykernel_launcher.py:18: UserWarning: Boolean Series key will be reindexed to match DataFrame index.\n",
      "/afs/cs.stanford.edu/u/wuzhengx/.local/lib/python3.7/site-packages/ipykernel_launcher.py:19: UserWarning: Boolean Series key will be reindexed to match DataFrame index.\n",
      "/afs/cs.stanford.edu/u/wuzhengx/.local/lib/python3.7/site-packages/pandas/core/computation/expressions.py:68: FutureWarning: elementwise comparison failed; returning scalar instead, but in the future will perform elementwise comparison\n",
      "  return op(a, b)\n",
      "/afs/cs.stanford.edu/u/wuzhengx/.local/lib/python3.7/site-packages/ipykernel_launcher.py:26: UserWarning: Boolean Series key will be reindexed to match DataFrame index.\n",
      "/afs/cs.stanford.edu/u/wuzhengx/.local/lib/python3.7/site-packages/ipykernel_launcher.py:27: UserWarning: Boolean Series key will be reindexed to match DataFrame index.\n",
      "/afs/cs.stanford.edu/u/wuzhengx/.local/lib/python3.7/site-packages/pandas/core/computation/expressions.py:68: FutureWarning: elementwise comparison failed; returning scalar instead, but in the future will perform elementwise comparison\n",
      "  return op(a, b)\n",
      "/afs/cs.stanford.edu/u/wuzhengx/.local/lib/python3.7/site-packages/ipykernel_launcher.py:26: UserWarning: Boolean Series key will be reindexed to match DataFrame index.\n",
      "/afs/cs.stanford.edu/u/wuzhengx/.local/lib/python3.7/site-packages/ipykernel_launcher.py:27: UserWarning: Boolean Series key will be reindexed to match DataFrame index.\n",
      "/afs/cs.stanford.edu/u/wuzhengx/.local/lib/python3.7/site-packages/ipykernel_launcher.py:96: UserWarning: This figure includes Axes that are not compatible with tight_layout, so results might be incorrect.\n"
     ]
    },
    {
     "data": {
      "image/png": "[encoded data removed]",
      "text/plain": [
       "<Figure size 720x216 with 1 Axes>"
      ]
     },
     "metadata": {},
     "output_type": "display_data"
    }
   ],
   "source": [
    "import numpy as np\n",
    "import matplotlib.pyplot as plt\n",
    "# plt.style.use(\"ggplot\")\n",
    "\n",
    "plt.rcParams[\"font.family\"] = \"DejaVu Serif\"\n",
    "font = {'family' : 'DejaVu Serif',\n",
    "        'size'   : 12}\n",
    "plt.rc('font', **font)\n",
    "\n",
    "with plt.rc_context({'axes.edgecolor':'black', 'xtick.color':'black', 'ytick.color':'black', 'figure.facecolor':'white'}):\n",
    "\n",
    "    fig = plt.figure(figsize=(10, 3))\n",
    "    ax = fig.add_axes([0,0,1,1])\n",
    "\n",
    "    # different learning rate\n",
    "    learning_rate = 2e-05\n",
    "    syntactic_data_1 = query_galactic(syntactic_df, learning_rate, 0.0)\n",
    "    syntactic_data_2 = query_galactic(syntactic_df, learning_rate, 1.0)\n",
    "\n",
    "    tokenizer_data_1 = query_tokenizer(tokenizer_df, learning_rate, 0.0)\n",
    "    tokenizer_data_2 = query_tokenizer(tokenizer_df, learning_rate, 1.0)\n",
    "    \n",
    "    swap_data_1 = query_swap(swap_df, learning_rate, 0.0)\n",
    "    swap_data_2 = query_swap(swap_df, learning_rate, 1.0)\n",
    "    \n",
    "    data_1 = []\n",
    "    data_2 = []\n",
    "    data_1.extend(syntactic_data_1)\n",
    "    data_1.extend(tokenizer_data_1)\n",
    "    data_1.extend(swap_data_1)\n",
    "    data_2.extend(syntactic_data_2)\n",
    "    data_2.extend(tokenizer_data_2)\n",
    "    data_2.extend(swap_data_2)\n",
    "    \n",
    "    learning_rate = 4e-05\n",
    "    syntactic_data_1 = query_galactic(syntactic_df, learning_rate, 0.0)\n",
    "    syntactic_data_2 = query_galactic(syntactic_df, learning_rate, 1.0)\n",
    "\n",
    "    tokenizer_data_1 = query_tokenizer(tokenizer_df, learning_rate, 0.0)\n",
    "    tokenizer_data_2 = query_tokenizer(tokenizer_df, learning_rate, 1.0)\n",
    "    \n",
    "    swap_data_1 = query_swap(swap_df, learning_rate, 0.0)\n",
    "    swap_data_2 = query_swap(swap_df, learning_rate, 1.0)\n",
    "    \n",
    "    data_3 = []\n",
    "    data_4 = []\n",
    "    data_3.extend(syntactic_data_1)\n",
    "    data_3.extend(tokenizer_data_1)\n",
    "    data_3.extend(swap_data_1)\n",
    "    data_4.extend(syntactic_data_2)\n",
    "    data_4.extend(tokenizer_data_2)\n",
    "    data_4.extend(swap_data_2)\n",
    "    \n",
    "    groups = [\n",
    "        data_1, \n",
    "        data_2,\n",
    "        data_3,\n",
    "        data_4,\n",
    "    ]\n",
    "    group_names = ['no mid-tune (2e-05)', 'mid-tune (2e-05)', 'no mid-tune (4e-05)', 'mid-tune (4e-05)',]\n",
    "    groupby_names = [\n",
    "        \"original\", \"random\", \"reverse\", \"fr@N~fr@V\", \"jaktc@N~jaktc@V\", \"fr@N~jaktc@V\", \n",
    "         \"rand emb init\", \"bert-base-cased\", \"albert-base-v2\", \n",
    "         \"token_swap\", \"word_swap\",\n",
    "    ]\n",
    "\n",
    "    x = np.array([0, 1, 2, 3, 4, 5, 6, 7, 8, 9, 10])  # the label\n",
    "    width = 0.2  # the width of the bars\n",
    "    rects0 = ax.bar(x - 1.5*width, groups[0], width, label=group_names[0], edgecolor='black', color=\"green\", alpha=0.5)\n",
    "    rects1 = ax.bar(x - width/2, groups[1], width, label=group_names[1], edgecolor='black', color=\"red\", alpha=0.5)\n",
    "    rects2 = ax.bar(x + width/2, groups[2], width, label=group_names[2], edgecolor='black', color=\"blue\", alpha=0.5)\n",
    "    rects3 = ax.bar(x + 1.5*width, groups[3], width, label=group_names[3], edgecolor='black', color=\"yellow\", alpha=0.5)\n",
    "    \n",
    "    # Add some text for labels, title and custom x-axis tick labels, etc.\n",
    "    ax.set_ylabel('Performance')\n",
    "    ax.set_xticks(x)\n",
    "    ax.set_xticklabels(groupby_names, rotation=30)\n",
    "    ax.legend(\n",
    "        loc='upper right', fontsize=10, ncol=2\n",
    "    )\n",
    "    def autolabel(rects):\n",
    "        \"\"\"Attach a text label above each bar in *rects*, displaying its height.\"\"\"\n",
    "        for rect in rects:\n",
    "            height = rect.get_height()\n",
    "            ax.annotate('{:.2f}'.format(height),\n",
    "                        xy=(0.02+ rect.get_x() + rect.get_width() / 2, height),\n",
    "                        xytext=(0, 3),  # 3 points vertical offset\n",
    "                        textcoords=\"offset points\",\n",
    "                        ha='center', va='bottom', fontsize=10, rotation=90)\n",
    "\n",
    "    autolabel(rects0)\n",
    "    autolabel(rects1)\n",
    "    autolabel(rects2)\n",
    "    autolabel(rects3)\n",
    "    \n",
    "    fig.tight_layout()\n",
    "\n",
    "    ax.set_facecolor(\"white\")\n",
    "    plt.title(f\"task_name={task_name}\")\n",
    "    plt.ylim(0.5,1.0)\n",
    "    plt.show()\n",
    "    # plt.savefig(\"../../data-files-updated/Analysis-Result/action_sequence_length\",dpi=1000, bbox_inches='tight')"
   ]
  },
  {
   "cell_type": "code",
   "execution_count": null,
   "metadata": {},
   "outputs": [],
   "source": []
  }
 ],
 "metadata": {
  "kernelspec": {
   "display_name": "Python 3",
   "language": "python",
   "name": "python3"
  },
  "language_info": {
   "codemirror_mode": {
    "name": "ipython",
    "version": 3
   },
   "file_extension": ".py",
   "mimetype": "text/x-python",
   "name": "python",
   "nbconvert_exporter": "python",
   "pygments_lexer": "ipython3",
   "version": "3.7.6"
  }
 },
 "nbformat": 4,
 "nbformat_minor": 4
}
