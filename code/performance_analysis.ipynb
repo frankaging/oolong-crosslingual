{
 "cells": [
  {
   "cell_type": "code",
   "execution_count": 1,
   "metadata": {},
   "outputs": [],
   "source": [
    "import pandas as pd "
   ]
  },
  {
   "cell_type": "code",
   "execution_count": 2,
   "metadata": {},
   "outputs": [],
   "source": [
    "import wandb\n",
    "api = wandb.Api()\n",
    "runs = api.runs(\"wuzhengx/fine_tuning\")\n",
    "eval_metrics = {\n",
    "    \"sst3\":\"eval/Macro-F1\",\n",
    "    \"mrpc\":\"eval/accuracy\",\n",
    "    \"qnli\":\"eval/accuracy\",\n",
    "}"
   ]
  },
  {
   "cell_type": "markdown",
   "metadata": {},
   "source": [
    "#### Performance analysis for syntactic shifts"
   ]
  },
  {
   "cell_type": "code",
   "execution_count": 3,
   "metadata": {},
   "outputs": [],
   "source": [
    "task_name = \"qnli\" # please change to the task you are analyzing."
   ]
  },
  {
   "cell_type": "code",
   "execution_count": 4,
   "metadata": {},
   "outputs": [],
   "source": [
    "all_data = []\n",
    "for run in runs:\n",
    "    if task_name in run.name:\n",
    "        perf_metrics = run.history(keys=[eval_metrics[task_name]])[eval_metrics[task_name]]\n",
    "        best_perf_metrics = max(perf_metrics)\n",
    "        run_name = run.name\n",
    "        \n",
    "        name_list = run_name.split(\"_\")\n",
    "        for i in range(len(name_list)):\n",
    "            if name_list[i] == \"seed\":\n",
    "                seed = int(name_list[i+1])\n",
    "            if name_list[i] == \"reverse\":\n",
    "                if name_list[i+1] == \"True\":\n",
    "                    reverse_order = True\n",
    "                else:\n",
    "                    reverse_order = False\n",
    "            if name_list[i] == \"random\":\n",
    "                if name_list[i+1].strip(\"/\") == \"True\":\n",
    "                    random_order = True\n",
    "                else:\n",
    "                    random_order = False\n",
    "            if name_list[i] == \"data\":\n",
    "                if len(name_list[i+1].split(\"-\")) > 2:\n",
    "                    perturbed_type = \"-\".join(name_list[i+1].split(\"-\")[2:])\n",
    "                else:\n",
    "                    perturbed_type = \"null\"\n",
    "            if name_list[i] == \"inoculation\":\n",
    "                inoculation_p = float(name_list[i+1])\n",
    "        all_data.append([perturbed_type, reverse_order, random_order, inoculation_p, seed, best_perf_metrics])"
   ]
  },
  {
   "cell_type": "code",
   "execution_count": 5,
   "metadata": {},
   "outputs": [],
   "source": [
    "df = pd.DataFrame(\n",
    "    all_data, \n",
    "    columns = ['perturbed_type','reverse_order','random_order', 'inoculation_p', 'seed', 'best_perf_metrics']\n",
    ")"
   ]
  },
  {
   "cell_type": "code",
   "execution_count": 6,
   "metadata": {},
   "outputs": [
    {
     "data": {
      "text/html": [
       "<div>\n",
       "<style scoped>\n",
       "    .dataframe tbody tr th:only-of-type {\n",
       "        vertical-align: middle;\n",
       "    }\n",
       "\n",
       "    .dataframe tbody tr th {\n",
       "        vertical-align: top;\n",
       "    }\n",
       "\n",
       "    .dataframe thead th {\n",
       "        text-align: right;\n",
       "    }\n",
       "</style>\n",
       "<table border=\"1\" class=\"dataframe\">\n",
       "  <thead>\n",
       "    <tr style=\"text-align: right;\">\n",
       "      <th></th>\n",
       "      <th>perturbed_type</th>\n",
       "      <th>reverse_order</th>\n",
       "      <th>random_order</th>\n",
       "      <th>inoculation_p</th>\n",
       "      <th>seed</th>\n",
       "      <th>best_perf_metrics</th>\n",
       "    </tr>\n",
       "  </thead>\n",
       "  <tbody>\n",
       "    <tr>\n",
       "      <th>2</th>\n",
       "      <td>null</td>\n",
       "      <td>False</td>\n",
       "      <td>False</td>\n",
       "      <td>0.0</td>\n",
       "      <td>42</td>\n",
       "      <td>0.931539</td>\n",
       "    </tr>\n",
       "    <tr>\n",
       "      <th>1</th>\n",
       "      <td>null</td>\n",
       "      <td>False</td>\n",
       "      <td>False</td>\n",
       "      <td>1.0</td>\n",
       "      <td>42</td>\n",
       "      <td>0.931539</td>\n",
       "    </tr>\n",
       "  </tbody>\n",
       "</table>\n",
       "</div>"
      ],
      "text/plain": [
       "  perturbed_type  reverse_order  random_order  inoculation_p  seed  \\\n",
       "2           null          False         False            0.0    42   \n",
       "1           null          False         False            1.0    42   \n",
       "\n",
       "   best_perf_metrics  \n",
       "2           0.931539  \n",
       "1           0.931539  "
      ]
     },
     "execution_count": 6,
     "metadata": {},
     "output_type": "execute_result"
    }
   ],
   "source": [
    "df[(df[\"perturbed_type\"]==\"null\")&(df[\"random_order\"]==False)&(df[\"reverse_order\"]==False)].sort_values(\"inoculation_p\")"
   ]
  },
  {
   "cell_type": "code",
   "execution_count": 7,
   "metadata": {},
   "outputs": [
    {
     "data": {
      "text/html": [
       "<div>\n",
       "<style scoped>\n",
       "    .dataframe tbody tr th:only-of-type {\n",
       "        vertical-align: middle;\n",
       "    }\n",
       "\n",
       "    .dataframe tbody tr th {\n",
       "        vertical-align: top;\n",
       "    }\n",
       "\n",
       "    .dataframe thead th {\n",
       "        text-align: right;\n",
       "    }\n",
       "</style>\n",
       "<table border=\"1\" class=\"dataframe\">\n",
       "  <thead>\n",
       "    <tr style=\"text-align: right;\">\n",
       "      <th></th>\n",
       "      <th>perturbed_type</th>\n",
       "      <th>reverse_order</th>\n",
       "      <th>random_order</th>\n",
       "      <th>inoculation_p</th>\n",
       "      <th>seed</th>\n",
       "      <th>best_perf_metrics</th>\n",
       "    </tr>\n",
       "  </thead>\n",
       "  <tbody>\n",
       "    <tr>\n",
       "      <th>6</th>\n",
       "      <td>null</td>\n",
       "      <td>False</td>\n",
       "      <td>True</td>\n",
       "      <td>0.0</td>\n",
       "      <td>42</td>\n",
       "      <td>0.881018</td>\n",
       "    </tr>\n",
       "    <tr>\n",
       "      <th>5</th>\n",
       "      <td>null</td>\n",
       "      <td>False</td>\n",
       "      <td>True</td>\n",
       "      <td>1.0</td>\n",
       "      <td>42</td>\n",
       "      <td>0.885228</td>\n",
       "    </tr>\n",
       "  </tbody>\n",
       "</table>\n",
       "</div>"
      ],
      "text/plain": [
       "  perturbed_type  reverse_order  random_order  inoculation_p  seed  \\\n",
       "6           null          False          True            0.0    42   \n",
       "5           null          False          True            1.0    42   \n",
       "\n",
       "   best_perf_metrics  \n",
       "6           0.881018  \n",
       "5           0.885228  "
      ]
     },
     "execution_count": 7,
     "metadata": {},
     "output_type": "execute_result"
    }
   ],
   "source": [
    "df[(df[\"perturbed_type\"]==\"null\")&df[\"random_order\"]].sort_values(\"inoculation_p\")"
   ]
  },
  {
   "cell_type": "code",
   "execution_count": 8,
   "metadata": {},
   "outputs": [
    {
     "data": {
      "text/html": [
       "<div>\n",
       "<style scoped>\n",
       "    .dataframe tbody tr th:only-of-type {\n",
       "        vertical-align: middle;\n",
       "    }\n",
       "\n",
       "    .dataframe tbody tr th {\n",
       "        vertical-align: top;\n",
       "    }\n",
       "\n",
       "    .dataframe thead th {\n",
       "        text-align: right;\n",
       "    }\n",
       "</style>\n",
       "<table border=\"1\" class=\"dataframe\">\n",
       "  <thead>\n",
       "    <tr style=\"text-align: right;\">\n",
       "      <th></th>\n",
       "      <th>perturbed_type</th>\n",
       "      <th>reverse_order</th>\n",
       "      <th>random_order</th>\n",
       "      <th>inoculation_p</th>\n",
       "      <th>seed</th>\n",
       "      <th>best_perf_metrics</th>\n",
       "    </tr>\n",
       "  </thead>\n",
       "  <tbody>\n",
       "    <tr>\n",
       "      <th>4</th>\n",
       "      <td>null</td>\n",
       "      <td>True</td>\n",
       "      <td>False</td>\n",
       "      <td>0.0</td>\n",
       "      <td>42</td>\n",
       "      <td>0.896760</td>\n",
       "    </tr>\n",
       "    <tr>\n",
       "      <th>3</th>\n",
       "      <td>null</td>\n",
       "      <td>True</td>\n",
       "      <td>False</td>\n",
       "      <td>1.0</td>\n",
       "      <td>42</td>\n",
       "      <td>0.908292</td>\n",
       "    </tr>\n",
       "  </tbody>\n",
       "</table>\n",
       "</div>"
      ],
      "text/plain": [
       "  perturbed_type  reverse_order  random_order  inoculation_p  seed  \\\n",
       "4           null           True         False            0.0    42   \n",
       "3           null           True         False            1.0    42   \n",
       "\n",
       "   best_perf_metrics  \n",
       "4           0.896760  \n",
       "3           0.908292  "
      ]
     },
     "execution_count": 8,
     "metadata": {},
     "output_type": "execute_result"
    }
   ],
   "source": [
    "df[(df[\"perturbed_type\"]==\"null\")&df[\"reverse_order\"]].sort_values(\"inoculation_p\")"
   ]
  },
  {
   "cell_type": "code",
   "execution_count": 9,
   "metadata": {},
   "outputs": [
    {
     "data": {
      "text/html": [
       "<div>\n",
       "<style scoped>\n",
       "    .dataframe tbody tr th:only-of-type {\n",
       "        vertical-align: middle;\n",
       "    }\n",
       "\n",
       "    .dataframe tbody tr th {\n",
       "        vertical-align: top;\n",
       "    }\n",
       "\n",
       "    .dataframe thead th {\n",
       "        text-align: right;\n",
       "    }\n",
       "</style>\n",
       "<table border=\"1\" class=\"dataframe\">\n",
       "  <thead>\n",
       "    <tr style=\"text-align: right;\">\n",
       "      <th></th>\n",
       "      <th>perturbed_type</th>\n",
       "      <th>reverse_order</th>\n",
       "      <th>random_order</th>\n",
       "      <th>inoculation_p</th>\n",
       "      <th>seed</th>\n",
       "      <th>best_perf_metrics</th>\n",
       "    </tr>\n",
       "  </thead>\n",
       "  <tbody>\n",
       "    <tr>\n",
       "      <th>0</th>\n",
       "      <td>en~fr@N~fr@V</td>\n",
       "      <td>False</td>\n",
       "      <td>False</td>\n",
       "      <td>0.0</td>\n",
       "      <td>42</td>\n",
       "      <td>0.907560</td>\n",
       "    </tr>\n",
       "    <tr>\n",
       "      <th>10</th>\n",
       "      <td>en~fr@N~fr@V</td>\n",
       "      <td>False</td>\n",
       "      <td>False</td>\n",
       "      <td>1.0</td>\n",
       "      <td>42</td>\n",
       "      <td>0.914882</td>\n",
       "    </tr>\n",
       "  </tbody>\n",
       "</table>\n",
       "</div>"
      ],
      "text/plain": [
       "   perturbed_type  reverse_order  random_order  inoculation_p  seed  \\\n",
       "0    en~fr@N~fr@V          False         False            0.0    42   \n",
       "10   en~fr@N~fr@V          False         False            1.0    42   \n",
       "\n",
       "    best_perf_metrics  \n",
       "0            0.907560  \n",
       "10           0.914882  "
      ]
     },
     "execution_count": 9,
     "metadata": {},
     "output_type": "execute_result"
    }
   ],
   "source": [
    "df[(df[\"perturbed_type\"]==\"en~fr@N~fr@V\")].sort_values(\"inoculation_p\")"
   ]
  },
  {
   "cell_type": "code",
   "execution_count": 10,
   "metadata": {},
   "outputs": [
    {
     "data": {
      "text/html": [
       "<div>\n",
       "<style scoped>\n",
       "    .dataframe tbody tr th:only-of-type {\n",
       "        vertical-align: middle;\n",
       "    }\n",
       "\n",
       "    .dataframe tbody tr th {\n",
       "        vertical-align: top;\n",
       "    }\n",
       "\n",
       "    .dataframe thead th {\n",
       "        text-align: right;\n",
       "    }\n",
       "</style>\n",
       "<table border=\"1\" class=\"dataframe\">\n",
       "  <thead>\n",
       "    <tr style=\"text-align: right;\">\n",
       "      <th></th>\n",
       "      <th>perturbed_type</th>\n",
       "      <th>reverse_order</th>\n",
       "      <th>random_order</th>\n",
       "      <th>inoculation_p</th>\n",
       "      <th>seed</th>\n",
       "      <th>best_perf_metrics</th>\n",
       "    </tr>\n",
       "  </thead>\n",
       "  <tbody>\n",
       "    <tr>\n",
       "      <th>11</th>\n",
       "      <td>en~jaktc@N~jaktc@V</td>\n",
       "      <td>False</td>\n",
       "      <td>False</td>\n",
       "      <td>0.0</td>\n",
       "      <td>42</td>\n",
       "      <td>0.912868</td>\n",
       "    </tr>\n",
       "    <tr>\n",
       "      <th>9</th>\n",
       "      <td>en~jaktc@N~jaktc@V</td>\n",
       "      <td>False</td>\n",
       "      <td>False</td>\n",
       "      <td>1.0</td>\n",
       "      <td>42</td>\n",
       "      <td>0.918360</td>\n",
       "    </tr>\n",
       "  </tbody>\n",
       "</table>\n",
       "</div>"
      ],
      "text/plain": [
       "        perturbed_type  reverse_order  random_order  inoculation_p  seed  \\\n",
       "11  en~jaktc@N~jaktc@V          False         False            0.0    42   \n",
       "9   en~jaktc@N~jaktc@V          False         False            1.0    42   \n",
       "\n",
       "    best_perf_metrics  \n",
       "11           0.912868  \n",
       "9            0.918360  "
      ]
     },
     "execution_count": 10,
     "metadata": {},
     "output_type": "execute_result"
    }
   ],
   "source": [
    "df[(df[\"perturbed_type\"]==\"en~jaktc@N~jaktc@V\")].sort_values(\"inoculation_p\")"
   ]
  },
  {
   "cell_type": "code",
   "execution_count": 11,
   "metadata": {},
   "outputs": [
    {
     "data": {
      "text/html": [
       "<div>\n",
       "<style scoped>\n",
       "    .dataframe tbody tr th:only-of-type {\n",
       "        vertical-align: middle;\n",
       "    }\n",
       "\n",
       "    .dataframe tbody tr th {\n",
       "        vertical-align: top;\n",
       "    }\n",
       "\n",
       "    .dataframe thead th {\n",
       "        text-align: right;\n",
       "    }\n",
       "</style>\n",
       "<table border=\"1\" class=\"dataframe\">\n",
       "  <thead>\n",
       "    <tr style=\"text-align: right;\">\n",
       "      <th></th>\n",
       "      <th>perturbed_type</th>\n",
       "      <th>reverse_order</th>\n",
       "      <th>random_order</th>\n",
       "      <th>inoculation_p</th>\n",
       "      <th>seed</th>\n",
       "      <th>best_perf_metrics</th>\n",
       "    </tr>\n",
       "  </thead>\n",
       "  <tbody>\n",
       "    <tr>\n",
       "      <th>8</th>\n",
       "      <td>en~fr@N~jaktc@V</td>\n",
       "      <td>False</td>\n",
       "      <td>False</td>\n",
       "      <td>0.0</td>\n",
       "      <td>42</td>\n",
       "      <td>0.904448</td>\n",
       "    </tr>\n",
       "    <tr>\n",
       "      <th>7</th>\n",
       "      <td>en~fr@N~jaktc@V</td>\n",
       "      <td>False</td>\n",
       "      <td>False</td>\n",
       "      <td>1.0</td>\n",
       "      <td>42</td>\n",
       "      <td>0.913784</td>\n",
       "    </tr>\n",
       "  </tbody>\n",
       "</table>\n",
       "</div>"
      ],
      "text/plain": [
       "    perturbed_type  reverse_order  random_order  inoculation_p  seed  \\\n",
       "8  en~fr@N~jaktc@V          False         False            0.0    42   \n",
       "7  en~fr@N~jaktc@V          False         False            1.0    42   \n",
       "\n",
       "   best_perf_metrics  \n",
       "8           0.904448  \n",
       "7           0.913784  "
      ]
     },
     "execution_count": 11,
     "metadata": {},
     "output_type": "execute_result"
    }
   ],
   "source": [
    "df[(df[\"perturbed_type\"]==\"en~fr@N~jaktc@V\")].sort_values(\"inoculation_p\")"
   ]
  },
  {
   "cell_type": "markdown",
   "metadata": {},
   "source": [
    "#### Performance analysis for tokenization"
   ]
  },
  {
   "cell_type": "code",
   "execution_count": 82,
   "metadata": {},
   "outputs": [],
   "source": [
    "def fetch_data(task_name):\n",
    "    all_data = []\n",
    "    tokenizer_combo = [\"roberta-base_albert-base-v2\", \"roberta-base_bert-base-cased\"]\n",
    "    for run in runs:\n",
    "        if task_name in run.name:\n",
    "            \n",
    "            perf_metrics = run.history(keys=[eval_metrics[task_name]])[eval_metrics[task_name]]\n",
    "            best_perf_metrics = max(perf_metrics)\n",
    "            run_name = run.name\n",
    "            is_valid = False\n",
    "            for t in tokenizer_combo:\n",
    "                if t in run_name:\n",
    "                    if \"NEED RERUN\" not in run_name and \"9-6\" not in run_name:\n",
    "                        \n",
    "                        is_valid = True\n",
    "                        break\n",
    "            \n",
    "            if is_valid:\n",
    "                name_list = run_name.split(\"_\")\n",
    "                examined_1 = False\n",
    "                examined_2 = False\n",
    "                for i in range(len(name_list)):\n",
    "                    if name_list[i] == \"seed\":\n",
    "                        seed = int(name_list[i+1])\n",
    "                    if name_list[i] == \"reinit\" and name_list[i+1] == \"emb\" and not examined_1:\n",
    "                        examined_1 = True\n",
    "                        if name_list[i+2] == \"True\":\n",
    "                            reinit_random = True\n",
    "                        else:\n",
    "                            reinit_random = False\n",
    "                    if name_list[i] == \"reinit\" and name_list[i+1] == \"avg\" and not examined_2:\n",
    "                        examined_2 = True\n",
    "                        if name_list[i+2].strip(\"/\") == \"True\":\n",
    "                            reinit_avg = True\n",
    "                        else:\n",
    "                            reinit_avg = False\n",
    "                    if name_list[i] == \"data\":\n",
    "                        if len(name_list[i+1].split(\"-\")) > 2:\n",
    "                            perturbed_type = \"-\".join(name_list[i+1].split(\"-\")[2:])\n",
    "                        else:\n",
    "                            perturbed_type = \"null\"\n",
    "                    if name_list[i] == \"inoculation\":\n",
    "                        inoculation_p = float(name_list[i+1])\n",
    "                model_type = name_list[4]\n",
    "                tokenizer_type = name_list[5]\n",
    "                all_data.append([model_type, tokenizer_type, True, reinit_avg, inoculation_p, seed, best_perf_metrics])\n",
    "\n",
    "            # maybe it is other baselines?\n",
    "            if \"finetune_roberta-base_reinit_emb_True_reinit_avg_False\" in run_name and \"9-7\" not in run_name and \"9-8\" not in run_name:\n",
    "                all_data.append([\"roberta-base\", \"roberta-base\", True, False, 0.0, 42, best_perf_metrics])\n",
    "            if \"finetune_roberta-base_roberta-base_seed_42_data_wikitext-15M_inoculation_1.0_reverse_False_random_False_reinit_emb_True_reinit_avg_False_reinit_emb_False_reinit_avg_False\" in run_name:\n",
    "                all_data.append([\"roberta-base\", \"roberta-base\", True, False, 1.0, 42, best_perf_metrics])\n",
    "    return all_data"
   ]
  },
  {
   "cell_type": "code",
   "execution_count": 91,
   "metadata": {},
   "outputs": [],
   "source": [
    "task_name = \"qnli\" # please change to the task you are analyzing."
   ]
  },
  {
   "cell_type": "code",
   "execution_count": 92,
   "metadata": {},
   "outputs": [
    {
     "name": "stdout",
     "output_type": "stream",
     "text": [
      "9-20_task_qnli_finetune_roberta-base_reinit_emb_False_reinit_avg_False_token_s_True_word_s_False\n",
      "9-16_task_qnli_finetune_roberta-base_albert-base-v2_seed_42_data_wikitext-15M_inoculation_1.0_reverse_False_random_False_reinit_emb_False_reinit_avg_False_reinit_emb_False_reinit_avg_False\n",
      "9-15_task_qnli_finetune_roberta-base_bert-base-cased_seed_42_data_wikitext-15M_inoculation_1.0_reverse_False_random_False_reinit_emb_False_reinit_avg_False_reinit_emb_False_reinit_avg_False\n",
      "9-15_task_qnli_finetune_roberta-base_roberta-base_seed_42_data_wikitext-15M_inoculation_1.0_reverse_False_random_False_reinit_emb_True_reinit_avg_False_reinit_emb_False_reinit_avg_False\n",
      "9-12_task_qnli_finetune_roberta-base_reinit_emb_True_reinit_avg_False\n",
      "9-11_task_qnli_finetune_roberta-base_bert-base-cased_seed_42_data_wikitext-15M_inoculation_0.0_reverse_False_random_False_reinit_emb_False_reinit_avg_False\n",
      "9-9_task_qnli_finetune_roberta-base_albert-base-v2_seed_42_data_wikitext-15M_inoculation_0.0_reverse_False_random_False_reinit_emb_False_reinit_avg_False\n",
      "9-8_task_qnli_finetune_roberta-base_reinit_emb_False_reinit_avg_True\n",
      "9-7_task_qnli_finetune_roberta-base_reinit_emb_True_reinit_avg_False\n",
      "9-3_task_qnli_finetune_roberta-base_no_pretrain_reinit_emb_False_reinit_avg_True\n",
      "8-28_task_qnli_finetune_roberta-base_no_pretrain\n",
      "8-27_task_qnli_finetune_roberta-base_roberta-base_seed_42_data_wikitext-15M-en~fr@N~fr@V_inoculation_0.0_reverse_False_random_False\n",
      "8-27_task_qnli_finetune_roberta-base_roberta-base_seed_42_data_wikitext-15M_inoculation_1.0_reverse_False_random_False\n",
      "8-27_task_qnli_finetune_roberta-base_roberta-base_seed_42_data_wikitext-15M_inoculation_0.0_reverse_False_random_False\n",
      "8-26_task_qnli_finetune_roberta-base_roberta-base_seed_42_data_wikitext-15M_inoculation_1.0_reverse_True_random_False\n",
      "8-26_task_qnli_finetune_roberta-base_roberta-base_seed_42_data_wikitext-15M_inoculation_0.0_reverse_True_random_False\n",
      "8-26_task_qnli_finetune_roberta-base_roberta-base_seed_42_data_wikitext-15M_inoculation_1.0_reverse_False_random_True\n",
      "8-26_task_qnli_finetune_roberta-base_roberta-base_seed_42_data_wikitext-15M_inoculation_0.0_reverse_False_random_True\n",
      "8-26_task_qnli_finetune_roberta-base_roberta-base_seed_42_data_wikitext-15M-en~fr@N~jaktc@V_inoculation_1.0_reverse_False_random_False\n",
      "8-26_task_qnli_finetune_roberta-base_roberta-base_seed_42_data_wikitext-15M-en~fr@N~jaktc@V_inoculation_0.0_reverse_False_random_False\n",
      "8-25_task_qnli_finetune_roberta-base_roberta-base_seed_42_data_wikitext-15M-en~jaktc@N~jaktc@V_inoculation_1.0_reverse_False_random_False\n",
      "8-25_task_qnli_finetune_roberta-base_roberta-base_seed_42_data_wikitext-15M-en~fr@N~fr@V_inoculation_1.0_reverse_False_random_False\n",
      "8-25_task_qnli_finetune_roberta-base_roberta-base_seed_42_data_wikitext-15M-en~jaktc@N~jaktc@V_inoculation_0.0_reverse_False_random_False\n"
     ]
    }
   ],
   "source": [
    "all_data = fetch_data(task_name)"
   ]
  },
  {
   "cell_type": "code",
   "execution_count": 93,
   "metadata": {},
   "outputs": [],
   "source": [
    "df = pd.DataFrame(\n",
    "    all_data, \n",
    "    columns = ['model_type', 'tokenizer_type', 'reinit_random','reinit_avg', 'inoculation_p', 'seed', 'best_perf_metrics']\n",
    ")"
   ]
  },
  {
   "cell_type": "code",
   "execution_count": 94,
   "metadata": {},
   "outputs": [
    {
     "data": {
      "text/html": [
       "<div>\n",
       "<style scoped>\n",
       "    .dataframe tbody tr th:only-of-type {\n",
       "        vertical-align: middle;\n",
       "    }\n",
       "\n",
       "    .dataframe tbody tr th {\n",
       "        vertical-align: top;\n",
       "    }\n",
       "\n",
       "    .dataframe thead th {\n",
       "        text-align: right;\n",
       "    }\n",
       "</style>\n",
       "<table border=\"1\" class=\"dataframe\">\n",
       "  <thead>\n",
       "    <tr style=\"text-align: right;\">\n",
       "      <th></th>\n",
       "      <th>model_type</th>\n",
       "      <th>tokenizer_type</th>\n",
       "      <th>reinit_random</th>\n",
       "      <th>reinit_avg</th>\n",
       "      <th>inoculation_p</th>\n",
       "      <th>seed</th>\n",
       "      <th>best_perf_metrics</th>\n",
       "    </tr>\n",
       "  </thead>\n",
       "  <tbody>\n",
       "    <tr>\n",
       "      <th>0</th>\n",
       "      <td>roberta-base</td>\n",
       "      <td>albert-base-v2</td>\n",
       "      <td>True</td>\n",
       "      <td>False</td>\n",
       "      <td>1.0</td>\n",
       "      <td>42</td>\n",
       "      <td>0.817683</td>\n",
       "    </tr>\n",
       "    <tr>\n",
       "      <th>1</th>\n",
       "      <td>roberta-base</td>\n",
       "      <td>bert-base-cased</td>\n",
       "      <td>True</td>\n",
       "      <td>False</td>\n",
       "      <td>1.0</td>\n",
       "      <td>42</td>\n",
       "      <td>0.814571</td>\n",
       "    </tr>\n",
       "    <tr>\n",
       "      <th>2</th>\n",
       "      <td>roberta-base</td>\n",
       "      <td>roberta-base</td>\n",
       "      <td>True</td>\n",
       "      <td>False</td>\n",
       "      <td>1.0</td>\n",
       "      <td>42</td>\n",
       "      <td>0.811276</td>\n",
       "    </tr>\n",
       "    <tr>\n",
       "      <th>3</th>\n",
       "      <td>roberta-base</td>\n",
       "      <td>roberta-base</td>\n",
       "      <td>True</td>\n",
       "      <td>False</td>\n",
       "      <td>0.0</td>\n",
       "      <td>42</td>\n",
       "      <td>0.548417</td>\n",
       "    </tr>\n",
       "    <tr>\n",
       "      <th>4</th>\n",
       "      <td>roberta-base</td>\n",
       "      <td>bert-base-cased</td>\n",
       "      <td>True</td>\n",
       "      <td>False</td>\n",
       "      <td>0.0</td>\n",
       "      <td>42</td>\n",
       "      <td>0.556288</td>\n",
       "    </tr>\n",
       "    <tr>\n",
       "      <th>5</th>\n",
       "      <td>roberta-base</td>\n",
       "      <td>albert-base-v2</td>\n",
       "      <td>True</td>\n",
       "      <td>False</td>\n",
       "      <td>0.0</td>\n",
       "      <td>42</td>\n",
       "      <td>0.552444</td>\n",
       "    </tr>\n",
       "  </tbody>\n",
       "</table>\n",
       "</div>"
      ],
      "text/plain": [
       "     model_type   tokenizer_type  reinit_random  reinit_avg  inoculation_p  \\\n",
       "0  roberta-base   albert-base-v2           True       False            1.0   \n",
       "1  roberta-base  bert-base-cased           True       False            1.0   \n",
       "2  roberta-base     roberta-base           True       False            1.0   \n",
       "3  roberta-base     roberta-base           True       False            0.0   \n",
       "4  roberta-base  bert-base-cased           True       False            0.0   \n",
       "5  roberta-base   albert-base-v2           True       False            0.0   \n",
       "\n",
       "   seed  best_perf_metrics  \n",
       "0    42           0.817683  \n",
       "1    42           0.814571  \n",
       "2    42           0.811276  \n",
       "3    42           0.548417  \n",
       "4    42           0.556288  \n",
       "5    42           0.552444  "
      ]
     },
     "execution_count": 94,
     "metadata": {},
     "output_type": "execute_result"
    }
   ],
   "source": [
    "df"
   ]
  },
  {
   "cell_type": "code",
   "execution_count": 34,
   "metadata": {},
   "outputs": [],
   "source": [
    "task_name = \"qnli\" # please change to the task you are analyzing."
   ]
  },
  {
   "cell_type": "code",
   "execution_count": null,
   "metadata": {},
   "outputs": [],
   "source": [
    "all_data = fetch_data(task_name)"
   ]
  },
  {
   "cell_type": "code",
   "execution_count": null,
   "metadata": {},
   "outputs": [],
   "source": [
    "df = pd.DataFrame(\n",
    "    all_data, \n",
    "    columns = ['model_type', 'tokenizer_type', 'reinit_random','reinit_avg', 'inoculation_p', 'seed', 'best_perf_metrics']\n",
    ")"
   ]
  },
  {
   "cell_type": "code",
   "execution_count": null,
   "metadata": {},
   "outputs": [],
   "source": [
    "df"
   ]
  }
 ],
 "metadata": {
  "kernelspec": {
   "display_name": "Python 3",
   "language": "python",
   "name": "python3"
  },
  "language_info": {
   "codemirror_mode": {
    "name": "ipython",
    "version": 3
   },
   "file_extension": ".py",
   "mimetype": "text/x-python",
   "name": "python",
   "nbconvert_exporter": "python",
   "pygments_lexer": "ipython3",
   "version": "3.7.6"
  }
 },
 "nbformat": 4,
 "nbformat_minor": 4
}
